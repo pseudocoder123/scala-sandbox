{
 "cells": [
  {
   "cell_type": "code",
   "execution_count": 1,
   "metadata": {},
   "outputs": [
    {
     "data": {
      "text/plain": [
       "defined \u001b[32mtrait\u001b[39m \u001b[36mPizza\u001b[39m\n",
       "defined \u001b[32mtrait\u001b[39m \u001b[36mSausage\u001b[39m\n",
       "defined \u001b[32mtrait\u001b[39m \u001b[36mMushroomTopping\u001b[39m\n",
       "defined \u001b[32mtrait\u001b[39m \u001b[36mChickenTopping\u001b[39m"
      ]
     },
     "execution_count": 1,
     "metadata": {},
     "output_type": "execute_result"
    }
   ],
   "source": [
    "trait Pizza{\n",
    "    def prepare(): Unit\n",
    "}\n",
    "\n",
    "trait Sausage extends Pizza{\n",
    "    abstract override def prepare(): Unit = {\n",
    "        super.prepare()\n",
    "        println(\"Sausage added.\")\n",
    "    }\n",
    "}\n",
    "\n",
    "trait MushroomTopping extends Sausage {\n",
    "    abstract override def prepare(): Unit = {\n",
    "        super.prepare()\n",
    "        println(\"Mushroom toppings added.\")\n",
    "    }\n",
    "}\n",
    "\n",
    "trait ChickenTopping extends Sausage {\n",
    "    abstract override def prepare(): Unit = {\n",
    "        super.prepare()\n",
    "        println(\"Chicken topping added.\")\n",
    "    }\n",
    "}"
   ]
  },
  {
   "cell_type": "code",
   "execution_count": 2,
   "metadata": {},
   "outputs": [
    {
     "data": {
      "text/plain": [
       "defined \u001b[32mtrait\u001b[39m \u001b[36mPizzaMaking\u001b[39m"
      ]
     },
     "execution_count": 2,
     "metadata": {},
     "output_type": "execute_result"
    }
   ],
   "source": [
    "trait PizzaMaking extends Pizza {\n",
    "    override def prepare(): Unit = {\n",
    "        println(\"Pizza making started\")\n",
    "    }\n",
    "}"
   ]
  },
  {
   "cell_type": "code",
   "execution_count": 3,
   "metadata": {},
   "outputs": [
    {
     "name": "stdout",
     "output_type": "stream",
     "text": [
      "Pizza making started\n",
      "Sausage added.\n",
      "Mushroom toppings added.\n"
     ]
    },
    {
     "data": {
      "text/plain": [
       "\u001b[36mobj\u001b[39m: \u001b[32mPizzaMaking\u001b[39m = ammonite.$sess.cmd3$Helper$$anon$1@17eabc9d"
      ]
     },
     "execution_count": 3,
     "metadata": {},
     "output_type": "execute_result"
    }
   ],
   "source": [
    "val obj: PizzaMaking = new PizzaMaking with MushroomTopping\n",
    "obj.prepare()"
   ]
  }
 ],
 "metadata": {
  "kernelspec": {
   "display_name": "Scala",
   "language": "scala",
   "name": "scala"
  },
  "language_info": {
   "codemirror_mode": "text/x-scala",
   "file_extension": ".sc",
   "mimetype": "text/x-scala",
   "name": "scala",
   "nbconvert_exporter": "script",
   "version": "2.13.14"
  }
 },
 "nbformat": 4,
 "nbformat_minor": 2
}
