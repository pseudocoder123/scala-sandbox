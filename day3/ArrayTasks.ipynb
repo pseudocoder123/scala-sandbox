{
 "cells": [
  {
   "cell_type": "markdown",
   "metadata": {},
   "source": [
    "## Array Related Tasks"
   ]
  },
  {
   "cell_type": "markdown",
   "metadata": {},
   "source": [
    "Implement functions that takes array as parameter and does the following activities on the original array and modify it.<br/>\n",
    "Bubble Sort, Insertion sort, Quick sort, Heap sort, Selection sort"
   ]
  },
  {
   "cell_type": "code",
   "execution_count": 1,
   "metadata": {},
   "outputs": [
    {
     "data": {
      "text/plain": [
       "defined \u001b[32mfunction\u001b[39m \u001b[36mprintElements\u001b[39m\n",
       "defined \u001b[32mfunction\u001b[39m \u001b[36mswapElements\u001b[39m"
      ]
     },
     "execution_count": 1,
     "metadata": {},
     "output_type": "execute_result"
    }
   ],
   "source": [
    "// Utility function to print the elements of the array\n",
    "def printElements(arr: Array[Int]): Unit = {\n",
    "    for(ele <- arr){\n",
    "        print(s\"$ele \")\n",
    "    }\n",
    "}\n",
    "\n",
    "// Utility function to swap the elements\n",
    "def swapElements(arr: Array[Int], i: Int, j: Int): Unit = {\n",
    "    val temp = arr(i)\n",
    "    arr(i) = arr(j)\n",
    "    arr(j) = temp\n",
    "}"
   ]
  },
  {
   "cell_type": "markdown",
   "metadata": {},
   "source": [
    "### Selection sort"
   ]
  },
  {
   "cell_type": "code",
   "execution_count": 2,
   "metadata": {},
   "outputs": [
    {
     "name": "stdout",
     "output_type": "stream",
     "text": [
      "Elements before selection sort:\n",
      "1 5 4 3 2 1 3 6 \n",
      "Elements after selection sort:\n",
      "1 1 2 3 3 4 5 6 "
     ]
    },
    {
     "data": {
      "text/plain": [
       "defined \u001b[32mfunction\u001b[39m \u001b[36mselectionSort\u001b[39m\n",
       "\u001b[36marr\u001b[39m: \u001b[32mArray\u001b[39m[\u001b[32mInt\u001b[39m] = \u001b[33mArray\u001b[39m(\u001b[32m1\u001b[39m, \u001b[32m1\u001b[39m, \u001b[32m2\u001b[39m, \u001b[32m3\u001b[39m, \u001b[32m3\u001b[39m, \u001b[32m4\u001b[39m, \u001b[32m5\u001b[39m, \u001b[32m6\u001b[39m)"
      ]
     },
     "execution_count": 2,
     "metadata": {},
     "output_type": "execute_result"
    }
   ],
   "source": [
    "def selectionSort(arr: Array[Int]): Unit = {\n",
    "    for(i<- 1 until arr.length-1){\n",
    "        var minIdx = i\n",
    "        for(j<- i+1 until arr.length){\n",
    "            if(arr(j) < arr(minIdx)){\n",
    "                minIdx = j\n",
    "            }\n",
    "        }\n",
    "        swapElements(arr, i, minIdx)\n",
    "    }\n",
    "}\n",
    "\n",
    "val arr: Array[Int] = Array(1,5,4,3,2,1,3,6)\n",
    "println(\"Elements before selection sort:\")\n",
    "printElements(arr)\n",
    "\n",
    "selectionSort(arr)    // selection sort\n",
    "println(\"\\nElements after selection sort:\")\n",
    "printElements(arr)"
   ]
  },
  {
   "cell_type": "markdown",
   "metadata": {},
   "source": [
    "### Insertion sort"
   ]
  },
  {
   "cell_type": "code",
   "execution_count": 3,
   "metadata": {},
   "outputs": [
    {
     "name": "stdout",
     "output_type": "stream",
     "text": [
      "Elements before insertion sort:\n",
      "1 5 4 3 2 1 3 6 \n",
      "Elements after insertion sort:\n",
      "1 1 2 3 3 4 5 6 "
     ]
    },
    {
     "data": {
      "text/plain": [
       "defined \u001b[32mfunction\u001b[39m \u001b[36minsertionSort\u001b[39m\n",
       "\u001b[36marr\u001b[39m: \u001b[32mArray\u001b[39m[\u001b[32mInt\u001b[39m] = \u001b[33mArray\u001b[39m(\u001b[32m1\u001b[39m, \u001b[32m1\u001b[39m, \u001b[32m2\u001b[39m, \u001b[32m3\u001b[39m, \u001b[32m3\u001b[39m, \u001b[32m4\u001b[39m, \u001b[32m5\u001b[39m, \u001b[32m6\u001b[39m)"
      ]
     },
     "execution_count": 3,
     "metadata": {},
     "output_type": "execute_result"
    }
   ],
   "source": [
    "def insertionSort(arr: Array[Int]): Unit = {\n",
    "    for(i<- 1 until arr.length){\n",
    "        val key = arr(i)\n",
    "        var j = i-1\n",
    "\n",
    "        while(j >= 0 && arr(j) > key){\n",
    "            arr(j + 1) = arr(j);\n",
    "            j = j - 1;\n",
    "        }\n",
    "        arr(j+1) = key\n",
    "    }\n",
    "}\n",
    "\n",
    "val arr: Array[Int] = Array(1,5,4,3,2,1,3,6)\n",
    "println(\"Elements before insertion sort:\")\n",
    "printElements(arr)\n",
    "\n",
    "insertionSort(arr)    // insertion sort\n",
    "println(\"\\nElements after insertion sort:\")\n",
    "printElements(arr)"
   ]
  },
  {
   "cell_type": "markdown",
   "metadata": {},
   "source": [
    "### Bubble sort"
   ]
  },
  {
   "cell_type": "code",
   "execution_count": 4,
   "metadata": {},
   "outputs": [
    {
     "name": "stdout",
     "output_type": "stream",
     "text": [
      "Elements before bubble sort:\n",
      "1 5 4 3 2 1 3 6 \n",
      "Elements after bubble sort:\n",
      "1 1 2 3 3 4 5 6 "
     ]
    },
    {
     "data": {
      "text/plain": [
       "defined \u001b[32mfunction\u001b[39m \u001b[36mbubbleSort\u001b[39m\n",
       "\u001b[36marr\u001b[39m: \u001b[32mArray\u001b[39m[\u001b[32mInt\u001b[39m] = \u001b[33mArray\u001b[39m(\u001b[32m1\u001b[39m, \u001b[32m1\u001b[39m, \u001b[32m2\u001b[39m, \u001b[32m3\u001b[39m, \u001b[32m3\u001b[39m, \u001b[32m4\u001b[39m, \u001b[32m5\u001b[39m, \u001b[32m6\u001b[39m)\n",
       "\u001b[36marr1\u001b[39m: \u001b[32mArray\u001b[39m[\u001b[32mInt\u001b[39m] = \u001b[33mArray\u001b[39m(\u001b[32m9\u001b[39m, \u001b[32m8\u001b[39m, \u001b[32m7\u001b[39m, \u001b[32m6\u001b[39m, \u001b[32m5\u001b[39m, \u001b[32m4\u001b[39m, \u001b[32m3\u001b[39m, \u001b[32m2\u001b[39m, \u001b[32m1\u001b[39m)"
      ]
     },
     "execution_count": 4,
     "metadata": {},
     "output_type": "execute_result"
    }
   ],
   "source": [
    "def bubbleSort(arr: Array[Int]): Unit = {\n",
    "    var swapped: Boolean = true\n",
    "    var i = 0 \n",
    "    while(swapped) {\n",
    "        swapped = false\n",
    "        for(j <- 0 until arr.length-i-1){\n",
    "            if(arr(j) > arr(j+1)){\n",
    "                swapElements(arr, j, j+1)\n",
    "                swapped = true\n",
    "            }\n",
    "        }\n",
    "        i += 1\n",
    "    }\n",
    "}\n",
    "\n",
    "val arr: Array[Int] = Array(1,5,4,3,2,1,3,6)\n",
    "val arr1: Array[Int] = Array(9,8,7,6,5,4,3,2,1)\n",
    "println(\"Elements before bubble sort:\")\n",
    "printElements(arr)\n",
    "\n",
    "bubbleSort(arr)    // bubble sort\n",
    "println(\"\\nElements after bubble sort:\")\n",
    "printElements(arr)"
   ]
  },
  {
   "cell_type": "markdown",
   "metadata": {},
   "source": [
    "### Quick sort"
   ]
  },
  {
   "cell_type": "code",
   "execution_count": 5,
   "metadata": {},
   "outputs": [
    {
     "name": "stdout",
     "output_type": "stream",
     "text": [
      "Elements before quick sort:\n",
      "1 5 4 3 2 1 3 6 \n",
      "Elements after quick sort:\n",
      "1 1 2 3 3 4 5 6 "
     ]
    },
    {
     "data": {
      "text/plain": [
       "defined \u001b[32mfunction\u001b[39m \u001b[36mpartition\u001b[39m\n",
       "defined \u001b[32mfunction\u001b[39m \u001b[36mquickSortLogic\u001b[39m\n",
       "defined \u001b[32mfunction\u001b[39m \u001b[36mquickSort\u001b[39m\n",
       "\u001b[36marr\u001b[39m: \u001b[32mArray\u001b[39m[\u001b[32mInt\u001b[39m] = \u001b[33mArray\u001b[39m(\u001b[32m1\u001b[39m, \u001b[32m1\u001b[39m, \u001b[32m2\u001b[39m, \u001b[32m3\u001b[39m, \u001b[32m3\u001b[39m, \u001b[32m4\u001b[39m, \u001b[32m5\u001b[39m, \u001b[32m6\u001b[39m)\n",
       "\u001b[36marr1\u001b[39m: \u001b[32mArray\u001b[39m[\u001b[32mInt\u001b[39m] = \u001b[33mArray\u001b[39m(\u001b[32m21\u001b[39m, \u001b[32m30\u001b[39m, \u001b[32m9\u001b[39m, \u001b[32m4\u001b[39m, \u001b[32m38\u001b[39m, \u001b[32m3\u001b[39m)"
      ]
     },
     "execution_count": 5,
     "metadata": {},
     "output_type": "execute_result"
    }
   ],
   "source": [
    "def partition(arr: Array[Int], lo: Int, hi: Int): Int = {\n",
    "    val pivot = arr(lo)\n",
    "    var i = lo\n",
    "    var j = hi\n",
    "\n",
    "    while (i < j) {\n",
    "        while (arr(i) <= pivot && i <= hi - 1) {\n",
    "            i += 1;\n",
    "        }\n",
    "\n",
    "        while (arr(j) > pivot && j >= lo+ 1) {\n",
    "            j -= 1;\n",
    "        }\n",
    "        if (i < j){\n",
    "            swapElements(arr, i, j)\n",
    "        }\n",
    "    }\n",
    "    swapElements(arr, lo, j)\n",
    "    \n",
    "    j\n",
    "}\n",
    "\n",
    "def quickSortLogic(arr: Array[Int], lo: Int, hi: Int, method: (Array[Int], Int, Int) => Int): Unit = {\n",
    "    if(lo < hi){\n",
    "        val pIndex = method(arr, lo, hi)\n",
    "        quickSortLogic(arr, lo, pIndex-1, method)\n",
    "        quickSortLogic(arr, pIndex+1, hi, method)\n",
    "    }\n",
    "}\n",
    "\n",
    "def quickSort(arr: Array[Int]): Unit = quickSortLogic(arr, 0, arr.length-1, partition)\n",
    "\n",
    "val arr: Array[Int] = Array(1,5,4,3,2,1,3,6)\n",
    "val arr1 = Array(21, 30, 9, 4, 38, 3)\n",
    "println(\"Elements before quick sort:\")\n",
    "printElements(arr)\n",
    "\n",
    "quickSort(arr)    // quick sort\n",
    "println(\"\\nElements after quick sort:\")\n",
    "printElements(arr)"
   ]
  },
  {
   "cell_type": "markdown",
   "metadata": {},
   "source": [
    "### Heap sort"
   ]
  },
  {
   "cell_type": "code",
   "execution_count": 6,
   "metadata": {},
   "outputs": [
    {
     "name": "stdout",
     "output_type": "stream",
     "text": [
      "Elements before heap sort:\n",
      "1 5 4 3 2 1 3 6 \n",
      "Elements after heap sort:\n",
      "1 1 2 3 3 4 5 6 "
     ]
    },
    {
     "data": {
      "text/plain": [
       "defined \u001b[32mfunction\u001b[39m \u001b[36mheapify\u001b[39m\n",
       "defined \u001b[32mfunction\u001b[39m \u001b[36mheapSortLogic\u001b[39m\n",
       "defined \u001b[32mfunction\u001b[39m \u001b[36mheapSort\u001b[39m\n",
       "\u001b[36marr\u001b[39m: \u001b[32mArray\u001b[39m[\u001b[32mInt\u001b[39m] = \u001b[33mArray\u001b[39m(\u001b[32m1\u001b[39m, \u001b[32m1\u001b[39m, \u001b[32m2\u001b[39m, \u001b[32m3\u001b[39m, \u001b[32m3\u001b[39m, \u001b[32m4\u001b[39m, \u001b[32m5\u001b[39m, \u001b[32m6\u001b[39m)"
      ]
     },
     "execution_count": 6,
     "metadata": {},
     "output_type": "execute_result"
    }
   ],
   "source": [
    "def heapify(arr: Array[Int], n: Int, i: Int): Unit = {\n",
    "    var largest = i\n",
    "    val (l,r) = (2*i+1, 2*i+2)\n",
    "\n",
    "    if(l<n && arr(l) > arr(largest)) largest = l\n",
    "    if(r<n && arr(r) > arr(largest)) largest = r\n",
    "\n",
    "    if(largest != i){\n",
    "        swapElements(arr, i, largest)\n",
    "\n",
    "        heapify(arr, n, largest)\n",
    "    }\n",
    "}\n",
    "\n",
    "def heapSortLogic(arr: Array[Int], method: (Array[Int], Int, Int) => Unit): Unit = {\n",
    "    for(i<- (arr.length/2)-1 to 0 by -1){\n",
    "        method(arr, arr.length, i)\n",
    "    }\n",
    "\n",
    "    for(i<- arr.length-1 to 0 by -1){\n",
    "        swapElements(arr, 0, i)\n",
    "\n",
    "        method(arr, i, 0)\n",
    "    }\n",
    "}\n",
    "\n",
    "def heapSort(arr: Array[Int]): Unit = heapSortLogic(arr, heapify)\n",
    "\n",
    "val arr: Array[Int] = Array(1,5,4,3,2,1,3,6)\n",
    "println(\"Elements before heap sort:\")\n",
    "printElements(arr)\n",
    "\n",
    "heapSort(arr)    // heap sort\n",
    "println(\"\\nElements after heap sort:\")\n",
    "printElements(arr)"
   ]
  }
 ],
 "metadata": {
  "kernelspec": {
   "display_name": "Scala",
   "language": "scala",
   "name": "scala"
  },
  "language_info": {
   "codemirror_mode": "text/x-scala",
   "file_extension": ".sc",
   "mimetype": "text/x-scala",
   "name": "scala",
   "nbconvert_exporter": "script",
   "version": "2.13.14"
  }
 },
 "nbformat": 4,
 "nbformat_minor": 2
}
