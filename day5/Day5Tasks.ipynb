{
 "cells": [
  {
   "cell_type": "markdown",
   "metadata": {},
   "source": [
    "#### Problem statement\n",
    "\n",
    "1. Read the text file (data.csv) \n",
    "2. Create the case Class to Represent the entity\n",
    "3. Add all the records in to List\n",
    "4. Perform filter operations based on salary and departments\n",
    "5. Perform map operations to produce formatted report\n",
    "6. Perform reduce operation to find total Salary, average Salary, number of employees department wise"
   ]
  },
  {
   "cell_type": "markdown",
   "metadata": {},
   "source": [
    "NOTE: This code structure prioritizes clarity and readability over strict Scala conventions, with the comment `\"We proceed with the logic...\"` helping readers follow the program flow."
   ]
  },
  {
   "cell_type": "markdown",
   "metadata": {},
   "source": [
    "### "
   ]
  },
  {
   "cell_type": "markdown",
   "metadata": {},
   "source": [
    "Function(`getFileContent`) to read file content and return `ReadData`, case class to hold the results"
   ]
  },
  {
   "cell_type": "code",
   "execution_count": 1,
   "metadata": {},
   "outputs": [
    {
     "data": {
      "text/plain": [
       "defined \u001b[32mclass\u001b[39m \u001b[36mReadData\u001b[39m\n",
       "\u001b[32mimport \u001b[39m\u001b[36mscala.io.Source\u001b[39m\n",
       "\u001b[32mimport \u001b[39m\u001b[36mjava.io.FileNotFoundException\u001b[39m\n",
       "defined \u001b[32mfunction\u001b[39m \u001b[36mgetFileContent\u001b[39m"
      ]
     },
     "execution_count": 1,
     "metadata": {},
     "output_type": "execute_result"
    }
   ],
   "source": [
    "case class ReadData(status: Boolean, message: String, data: List[String])\n",
    "\n",
    "import scala.io.Source\n",
    "import java.io.FileNotFoundException\n",
    "\n",
    "def getFileContent: (String) => ReadData = (fp => {\n",
    "    try{\n",
    "        val data = scala.io.Source.fromFile(fp).getLines().toList\n",
    "        \n",
    "        if(!data.isEmpty) ReadData(status=true, message=\"Success\", data=data) \n",
    "        else ReadData(status=true, message=\"No data found\", data=data)\n",
    "    }catch {\n",
    "        case _: FileNotFoundException => ReadData(status=false, message=s\"FileNotFound: $fp.\", data=List.empty)\n",
    "        case e: Exception => ReadData(status=false, message=s\"Exception: $e.\", data=List.empty)\n",
    "    }\n",
    "})"
   ]
  },
  {
   "cell_type": "code",
   "execution_count": 2,
   "metadata": {},
   "outputs": [
    {
     "name": "stdout",
     "output_type": "stream",
     "text": [
      "Hooray!! There are contents in the file\n"
     ]
    },
    {
     "data": {
      "text/plain": [
       "\u001b[36mfp\u001b[39m: \u001b[32mString\u001b[39m = \u001b[32m\"data.csv\"\u001b[39m\n",
       "\u001b[36mfileContent\u001b[39m: \u001b[32mReadData\u001b[39m = \u001b[33mReadData\u001b[39m(\n",
       "  status = \u001b[32mtrue\u001b[39m,\n",
       "  message = \u001b[32m\"Success\"\u001b[39m,\n",
       "  data = \u001b[33mList\u001b[39m(\n",
       "    \u001b[32m\"sno,name,city,salary,department\"\u001b[39m,\n",
       "    \u001b[32m\"1,John Doe,New York,60000,Marketing\"\u001b[39m,\n",
       "    \u001b[32m\"2,Jane Smith,Los Angeles,55000,Finance\"\u001b[39m,\n",
       "    \u001b[32m\"3,Michael Johnson,Chicago,62000,HR\"\u001b[39m,\n",
       "    \u001b[32m\"4,Sarah Lee,San Francisco,58000,Engineering\"\u001b[39m,\n",
       "    \u001b[32m\"5,David Brown,Houston,63000,Operations\"\u001b[39m,\n",
       "    \u001b[32m\"6,Emily Taylor,Miami,54000,Sales\"\u001b[39m,\n",
       "    \u001b[32m\"7,James Wilson,Dallas,59000,Marketing\"\u001b[39m,\n",
       "    \u001b[32m\"8,Emma Anderson,Seattle,61000,Finance\"\u001b[39m,\n",
       "    \u001b[32m\"9,Matthew Martinez,Boston,57000,HR\"\u001b[39m,\n",
       "    \u001b[32m\"10,Olivia Thomas,Atlanta,64000,Engineering\"\u001b[39m,\n",
       "    \u001b[32m\"11,Liam Garcia,Denver,53000,Operations\"\u001b[39m,\n",
       "    \u001b[32m\"12,Sophia Hernandez,Phoenix,60000,Sales\"\u001b[39m,\n",
       "    \u001b[32m\"13,Alexander Lopez,Philadelphia,56000,Marketing\"\u001b[39m,\n",
       "    \u001b[32m\"14,Mia Gonzalez,Detroit,62000,Finance\"\u001b[39m,\n",
       "    \u001b[32m\"15,Ethan Perez,Minneapolis,55000,HR\"\u001b[39m,\n",
       "    \u001b[32m\"16,Isabella Carter,Portland,63000,Engineering\"\u001b[39m,\n",
       "    \u001b[32m\"17,Mason Torres,Baltimore,52000,Operations\"\u001b[39m,\n",
       "    \u001b[32m\"18,Ava Ramirez,San Diego,64000,Sales\"\u001b[39m,\n",
       "    \u001b[32m\"19,Logan Sanders,Washington,57000,Marketing\"\u001b[39m,\n",
       "    \u001b[32m\"20,Harper King,Birmingham,61000,Finance\"\u001b[39m,\n",
       "    \u001b[32m\"21,Lucas Rivera,Memphis,59000,HR\"\u001b[39m,\n",
       "    \u001b[32m\"22,Evelyn Scott,Nashville,60000,Engineering\"\u001b[39m,\n",
       "    \u001b[32m\"23,Avery Green,Milwaukee,56000,Operations\"\u001b[39m,\n",
       "    \u001b[32m\"24,Lincoln Taylor,Indianapolis,62000,Sales\"\u001b[39m,\n",
       "    \u001b[32m\"25,Sofia Cooper,Louisville,54000,Marketing\"\u001b[39m,\n",
       "    \u001b[32m\"26,Aiden Bennett,Jacksonville,63000,Finance\"\u001b[39m,\n",
       "    \u001b[32m\"27,Madison Flores,Charlotte,58000,HR\"\u001b[39m,\n",
       "    \u001b[32m\"28,Ella Collins,San Jose,65000,Engineering\"\u001b[39m,\n",
       "    \u001b[32m\"29,Chloe Howard,San Antonio,53000,Operations\"\u001b[39m,\n",
       "    \u001b[32m\"30,Carter Hughes,Oklahoma City,61000,Sales\"\u001b[39m,\n",
       "    \u001b[32m\"31,Aria Nelson,Tucson,57000,Marketing\"\u001b[39m,\n",
       "    \u001b[32m\"32,Grayson Baker,Cleveland,60000,Finance\"\u001b[39m,\n",
       "    \u001b[32m\"33,Zoey Morris,Mesa,55000,HR\"\u001b[39m,\n",
       "    \u001b[32m\"34,Nova Ward,Kansas City,64000,Engineering\"\u001b[39m,\n",
       "..."
      ]
     },
     "execution_count": 2,
     "metadata": {},
     "output_type": "execute_result"
    }
   ],
   "source": [
    "val fp = \"data.csv\"\n",
    "\n",
    "val fileContent: ReadData = getFileContent(fp)\n",
    "if(fileContent.data.isEmpty) println(fileContent.message)\n",
    "else println(\"Hooray!! There are contents in the file\") // We proceed with the logic calling corresponding functions to fetch stats\n"
   ]
  },
  {
   "cell_type": "markdown",
   "metadata": {},
   "source": [
    "case class `EmployeeData` represents the csv data as an entity. Format the csv data in terms of `EmployeeData` using `parseToEmployeeData` function"
   ]
  },
  {
   "cell_type": "code",
   "execution_count": 3,
   "metadata": {},
   "outputs": [
    {
     "data": {
      "text/plain": [
       "defined \u001b[32mclass\u001b[39m \u001b[36mEmployeeData\u001b[39m\n",
       "defined \u001b[32mfunction\u001b[39m \u001b[36mparseToEmployeeData\u001b[39m\n",
       "\u001b[36mfc\u001b[39m: \u001b[32mList\u001b[39m[\u001b[32mString\u001b[39m] = \u001b[33mList\u001b[39m(\n",
       "  \u001b[32m\"1,John Doe,New York,60000,Marketing\"\u001b[39m,\n",
       "  \u001b[32m\"2,Jane Smith,Los Angeles,55000,Finance\"\u001b[39m,\n",
       "  \u001b[32m\"3,Michael Johnson,Chicago,62000,HR\"\u001b[39m,\n",
       "  \u001b[32m\"4,Sarah Lee,San Francisco,58000,Engineering\"\u001b[39m,\n",
       "  \u001b[32m\"5,David Brown,Houston,63000,Operations\"\u001b[39m,\n",
       "  \u001b[32m\"6,Emily Taylor,Miami,54000,Sales\"\u001b[39m,\n",
       "  \u001b[32m\"7,James Wilson,Dallas,59000,Marketing\"\u001b[39m,\n",
       "  \u001b[32m\"8,Emma Anderson,Seattle,61000,Finance\"\u001b[39m,\n",
       "  \u001b[32m\"9,Matthew Martinez,Boston,57000,HR\"\u001b[39m,\n",
       "  \u001b[32m\"10,Olivia Thomas,Atlanta,64000,Engineering\"\u001b[39m,\n",
       "  \u001b[32m\"11,Liam Garcia,Denver,53000,Operations\"\u001b[39m,\n",
       "  \u001b[32m\"12,Sophia Hernandez,Phoenix,60000,Sales\"\u001b[39m,\n",
       "  \u001b[32m\"13,Alexander Lopez,Philadelphia,56000,Marketing\"\u001b[39m,\n",
       "  \u001b[32m\"14,Mia Gonzalez,Detroit,62000,Finance\"\u001b[39m,\n",
       "  \u001b[32m\"15,Ethan Perez,Minneapolis,55000,HR\"\u001b[39m,\n",
       "  \u001b[32m\"16,Isabella Carter,Portland,63000,Engineering\"\u001b[39m,\n",
       "  \u001b[32m\"17,Mason Torres,Baltimore,52000,Operations\"\u001b[39m,\n",
       "  \u001b[32m\"18,Ava Ramirez,San Diego,64000,Sales\"\u001b[39m,\n",
       "  \u001b[32m\"19,Logan Sanders,Washington,57000,Marketing\"\u001b[39m,\n",
       "  \u001b[32m\"20,Harper King,Birmingham,61000,Finance\"\u001b[39m,\n",
       "  \u001b[32m\"21,Lucas Rivera,Memphis,59000,HR\"\u001b[39m,\n",
       "  \u001b[32m\"22,Evelyn Scott,Nashville,60000,Engineering\"\u001b[39m,\n",
       "  \u001b[32m\"23,Avery Green,Milwaukee,56000,Operations\"\u001b[39m,\n",
       "  \u001b[32m\"24,Lincoln Taylor,Indianapolis,62000,Sales\"\u001b[39m,\n",
       "  \u001b[32m\"25,Sofia Cooper,Louisville,54000,Marketing\"\u001b[39m,\n",
       "  \u001b[32m\"26,Aiden Bennett,Jacksonville,63000,Finance\"\u001b[39m,\n",
       "  \u001b[32m\"27,Madison Flores,Charlotte,58000,HR\"\u001b[39m,\n",
       "  \u001b[32m\"28,Ella Collins,San Jose,65000,Engineering\"\u001b[39m,\n",
       "  \u001b[32m\"29,Chloe Howard,San Antonio,53000,Operations\"\u001b[39m,\n",
       "  \u001b[32m\"30,Carter Hughes,Oklahoma City,61000,Sales\"\u001b[39m,\n",
       "  \u001b[32m\"31,Aria Nelson,Tucson,57000,Marketing\"\u001b[39m,\n",
       "  \u001b[32m\"32,Grayson Baker,Cleveland,60000,Finance\"\u001b[39m,\n",
       "  \u001b[32m\"33,Zoey Morris,Mesa,55000,HR\"\u001b[39m,\n",
       "  \u001b[32m\"34,Nova Ward,Kansas City,64000,Engineering\"\u001b[39m,\n",
       "  \u001b[32m\"35,Hudson James,Virginia Beach,52000,Operations\"\u001b[39m,\n",
       "  \u001b[32m\"36,Leah Watson,Atlanta,62000,Sales\"\u001b[39m,\n",
       "  \u001b[32m\"37,Riley Brooks,Colorado Springs,54000,Marketing\"\u001b[39m,\n",
       "  \u001b[32m\"38,Emery Kelly,Raleigh,59000,Finance\"\u001b[39m,\n",
       "...\n",
       "\u001b[36mformattedData\u001b[39m: \u001b[32mList\u001b[39m[\u001b[32mEmployeeData\u001b[39m] = \u001b[33mList\u001b[39m(\n",
       "  \u001b[33mEmployeeData\u001b[39m(\n",
       "    id = \u001b[32m1\u001b[39m,\n",
       "    name = \u001b[32m\"John Doe\"\u001b[39m,\n",
       "    city = \u001b[32m\"New York\"\u001b[39m,\n",
       "    salary = \u001b[32m60000\u001b[39m,\n",
       "    department = \u001b[32m\"Marketing\"\u001b[39m\n",
       "  ),\n",
       "  \u001b[33mEmployeeData\u001b[39m(\n",
       "    id = \u001b[32m2\u001b[39m,\n",
       "    name = \u001b[32m\"Jane Smith\"\u001b[39m,\n",
       "    city = \u001b[32m\"Los Angeles\"\u001b[39m,\n",
       "    salary = \u001b[32m55000\u001b[39m,\n",
       "    department = \u001b[32m\"Finance\"\u001b[39m\n",
       "  ),\n",
       "  \u001b[33mEmployeeData\u001b[39m(\n",
       "    id = \u001b[32m3\u001b[39m,\n",
       "    name = \u001b[32m\"Michael Johnson\"\u001b[39m,\n",
       "    city = \u001b[32m\"Chicago\"\u001b[39m,\n",
       "    salary = \u001b[32m62000\u001b[39m,\n",
       "    department = \u001b[32m\"HR\"\u001b[39m\n",
       "  ),\n",
       "  \u001b[33mEmployeeData\u001b[39m(\n",
       "    id = \u001b[32m4\u001b[39m,\n",
       "    name = \u001b[32m\"Sarah Lee\"\u001b[39m,\n",
       "    city = \u001b[32m\"San Francisco\"\u001b[39m,\n",
       "    salary = \u001b[32m58000\u001b[39m,\n",
       "    department = \u001b[32m\"Engineering\"\u001b[39m\n",
       "  ),\n",
       "  \u001b[33mEmployeeData\u001b[39m(\n",
       "    id = \u001b[32m5\u001b[39m,\n",
       "    name = \u001b[32m\"David Brown\"\u001b[39m,\n",
       "    city = \u001b[32m\"Houston\"\u001b[39m,\n",
       "    salary = \u001b[32m63000\u001b[39m,\n",
       "    department = \u001b[32m\"Operations\"\u001b[39m\n",
       "  ),\n",
       "  \u001b[33mEmployeeData\u001b[39m(\n",
       "    id = \u001b[32m6\u001b[39m,\n",
       "    name = \u001b[32m\"Emily Taylor\"\u001b[39m,\n",
       "..."
      ]
     },
     "execution_count": 3,
     "metadata": {},
     "output_type": "execute_result"
    }
   ],
   "source": [
    "case class EmployeeData(id: Int, name: String, city: String, salary: Int, department: String)\n",
    "\n",
    "def parseToEmployeeData(str: String): EmployeeData = {\n",
    "    val elements = str.split(\",\")\n",
    "    EmployeeData(elements(0).toInt, elements(1), elements(2), elements(3).toInt, elements(4))\n",
    "}\n",
    "\n",
    "val fc = fileContent.data.tail  // remove headers (first element of list: fileContent)\n",
    "val formattedData: List[EmployeeData] = fc.map(parseToEmployeeData)"
   ]
  },
  {
   "cell_type": "markdown",
   "metadata": {},
   "source": [
    "Function(`filterEmployeeData`) to filter employee data based on a parameter and value"
   ]
  },
  {
   "cell_type": "code",
   "execution_count": 4,
   "metadata": {},
   "outputs": [
    {
     "name": "stdout",
     "output_type": "stream",
     "text": [
      "Number of employees as HR: 8\n",
      "Number of employees with salary 60000: 5\n"
     ]
    },
    {
     "data": {
      "text/plain": [
       "defined \u001b[32mfunction\u001b[39m \u001b[36mfilterEmployeeData\u001b[39m\n",
       "\u001b[36mhrList\u001b[39m: \u001b[32mList\u001b[39m[\u001b[32mEmployeeData\u001b[39m] = \u001b[33mList\u001b[39m(\n",
       "  \u001b[33mEmployeeData\u001b[39m(\n",
       "    id = \u001b[32m3\u001b[39m,\n",
       "    name = \u001b[32m\"Michael Johnson\"\u001b[39m,\n",
       "    city = \u001b[32m\"Chicago\"\u001b[39m,\n",
       "    salary = \u001b[32m62000\u001b[39m,\n",
       "    department = \u001b[32m\"HR\"\u001b[39m\n",
       "  ),\n",
       "  \u001b[33mEmployeeData\u001b[39m(\n",
       "    id = \u001b[32m9\u001b[39m,\n",
       "    name = \u001b[32m\"Matthew Martinez\"\u001b[39m,\n",
       "    city = \u001b[32m\"Boston\"\u001b[39m,\n",
       "    salary = \u001b[32m57000\u001b[39m,\n",
       "    department = \u001b[32m\"HR\"\u001b[39m\n",
       "  ),\n",
       "  \u001b[33mEmployeeData\u001b[39m(\n",
       "    id = \u001b[32m15\u001b[39m,\n",
       "    name = \u001b[32m\"Ethan Perez\"\u001b[39m,\n",
       "    city = \u001b[32m\"Minneapolis\"\u001b[39m,\n",
       "    salary = \u001b[32m55000\u001b[39m,\n",
       "    department = \u001b[32m\"HR\"\u001b[39m\n",
       "  ),\n",
       "  \u001b[33mEmployeeData\u001b[39m(\n",
       "    id = \u001b[32m21\u001b[39m,\n",
       "    name = \u001b[32m\"Lucas Rivera\"\u001b[39m,\n",
       "    city = \u001b[32m\"Memphis\"\u001b[39m,\n",
       "    salary = \u001b[32m59000\u001b[39m,\n",
       "    department = \u001b[32m\"HR\"\u001b[39m\n",
       "  ),\n",
       "  \u001b[33mEmployeeData\u001b[39m(\n",
       "    id = \u001b[32m27\u001b[39m,\n",
       "    name = \u001b[32m\"Madison Flores\"\u001b[39m,\n",
       "    city = \u001b[32m\"Charlotte\"\u001b[39m,\n",
       "    salary = \u001b[32m58000\u001b[39m,\n",
       "    department = \u001b[32m\"HR\"\u001b[39m\n",
       "  ),\n",
       "  \u001b[33mEmployeeData\u001b[39m(\n",
       "    id = \u001b[32m33\u001b[39m,\n",
       "    name = \u001b[32m\"Zoey Morris\"\u001b[39m,\n",
       "...\n",
       "\u001b[36msalaryList\u001b[39m: \u001b[32mList\u001b[39m[\u001b[32mEmployeeData\u001b[39m] = \u001b[33mList\u001b[39m(\n",
       "  \u001b[33mEmployeeData\u001b[39m(\n",
       "    id = \u001b[32m1\u001b[39m,\n",
       "    name = \u001b[32m\"John Doe\"\u001b[39m,\n",
       "    city = \u001b[32m\"New York\"\u001b[39m,\n",
       "    salary = \u001b[32m60000\u001b[39m,\n",
       "    department = \u001b[32m\"Marketing\"\u001b[39m\n",
       "  ),\n",
       "  \u001b[33mEmployeeData\u001b[39m(\n",
       "    id = \u001b[32m12\u001b[39m,\n",
       "    name = \u001b[32m\"Sophia Hernandez\"\u001b[39m,\n",
       "    city = \u001b[32m\"Phoenix\"\u001b[39m,\n",
       "    salary = \u001b[32m60000\u001b[39m,\n",
       "    department = \u001b[32m\"Sales\"\u001b[39m\n",
       "  ),\n",
       "  \u001b[33mEmployeeData\u001b[39m(\n",
       "    id = \u001b[32m22\u001b[39m,\n",
       "    name = \u001b[32m\"Evelyn Scott\"\u001b[39m,\n",
       "    city = \u001b[32m\"Nashville\"\u001b[39m,\n",
       "    salary = \u001b[32m60000\u001b[39m,\n",
       "    department = \u001b[32m\"Engineering\"\u001b[39m\n",
       "  ),\n",
       "  \u001b[33mEmployeeData\u001b[39m(\n",
       "    id = \u001b[32m32\u001b[39m,\n",
       "    name = \u001b[32m\"Grayson Baker\"\u001b[39m,\n",
       "    city = \u001b[32m\"Cleveland\"\u001b[39m,\n",
       "    salary = \u001b[32m60000\u001b[39m,\n",
       "    department = \u001b[32m\"Finance\"\u001b[39m\n",
       "  ),\n",
       "  \u001b[33mEmployeeData\u001b[39m(\n",
       "    id = \u001b[32m44\u001b[39m,\n",
       "    name = \u001b[32m\"Aubrey Long\"\u001b[39m,\n",
       "    city = \u001b[32m\"Arlington\"\u001b[39m,\n",
       "    salary = \u001b[32m60000\u001b[39m,\n",
       "    department = \u001b[32m\"Finance\"\u001b[39m\n",
       "  )\n",
       ")"
      ]
     },
     "execution_count": 4,
     "metadata": {},
     "output_type": "execute_result"
    }
   ],
   "source": [
    "def filterEmployeeData(param: String, value: String): List[EmployeeData] = param.toLowerCase match {\n",
    "    case \"salary\" => formattedData.filter{ele => ele.salary == value.toInt}\n",
    "    case \"department\" => formattedData.filter{ele => ele.department.toLowerCase == value.toLowerCase}\n",
    "    case _ => {\n",
    "        println(\"Filter option not supported\")\n",
    "        List.empty[EmployeeData]\n",
    "    }\n",
    "}\n",
    "\n",
    "val hrList = filterEmployeeData(\"Department\", \"HR\")\n",
    "val salaryList = filterEmployeeData(\"salary\", \"60000\")\n",
    "\n",
    "println(s\"Number of employees as HR: ${hrList.size}\") // 8\n",
    "println(s\"Number of employees with salary 60000: ${salaryList.size}\") // 5"
   ]
  },
  {
   "cell_type": "markdown",
   "metadata": {},
   "source": [
    "Function(`generateFormattedReport`) to generate a formatted report for an employee"
   ]
  },
  {
   "cell_type": "code",
   "execution_count": 5,
   "metadata": {},
   "outputs": [
    {
     "name": "stdout",
     "output_type": "stream",
     "text": [
      "List(John Doe[empId: 1] from New York woring in Marketing department earns 60000, Jane Smith[empId: 2] from Los Angeles woring in Finance department earns 55000, Michael Johnson[empId: 3] from Chicago woring in HR department earns 62000, Sarah Lee[empId: 4] from San Francisco woring in Engineering department earns 58000, David Brown[empId: 5] from Houston woring in Operations department earns 63000, Emily Taylor[empId: 6] from Miami woring in Sales department earns 54000, James Wilson[empId: 7] from Dallas woring in Marketing department earns 59000, Emma Anderson[empId: 8] from Seattle woring in Finance department earns 61000, Matthew Martinez[empId: 9] from Boston woring in HR department earns 57000, Olivia Thomas[empId: 10] from Atlanta woring in Engineering department earns 64000, Liam Garcia[empId: 11] from Denver woring in Operations department earns 53000, Sophia Hernandez[empId: 12] from Phoenix woring in Sales department earns 60000, Alexander Lopez[empId: 13] from Philadelphia woring in Marketing department earns 56000, Mia Gonzalez[empId: 14] from Detroit woring in Finance department earns 62000, Ethan Perez[empId: 15] from Minneapolis woring in HR department earns 55000, Isabella Carter[empId: 16] from Portland woring in Engineering department earns 63000, Mason Torres[empId: 17] from Baltimore woring in Operations department earns 52000, Ava Ramirez[empId: 18] from San Diego woring in Sales department earns 64000, Logan Sanders[empId: 19] from Washington woring in Marketing department earns 57000, Harper King[empId: 20] from Birmingham woring in Finance department earns 61000, Lucas Rivera[empId: 21] from Memphis woring in HR department earns 59000, Evelyn Scott[empId: 22] from Nashville woring in Engineering department earns 60000, Avery Green[empId: 23] from Milwaukee woring in Operations department earns 56000, Lincoln Taylor[empId: 24] from Indianapolis woring in Sales department earns 62000, Sofia Cooper[empId: 25] from Louisville woring in Marketing department earns 54000, Aiden Bennett[empId: 26] from Jacksonville woring in Finance department earns 63000, Madison Flores[empId: 27] from Charlotte woring in HR department earns 58000, Ella Collins[empId: 28] from San Jose woring in Engineering department earns 65000, Chloe Howard[empId: 29] from San Antonio woring in Operations department earns 53000, Carter Hughes[empId: 30] from Oklahoma City woring in Sales department earns 61000, Aria Nelson[empId: 31] from Tucson woring in Marketing department earns 57000, Grayson Baker[empId: 32] from Cleveland woring in Finance department earns 60000, Zoey Morris[empId: 33] from Mesa woring in HR department earns 55000, Nova Ward[empId: 34] from Kansas City woring in Engineering department earns 64000, Hudson James[empId: 35] from Virginia Beach woring in Operations department earns 52000, Leah Watson[empId: 36] from Atlanta woring in Sales department earns 62000, Riley Brooks[empId: 37] from Colorado Springs woring in Marketing department earns 54000, Emery Kelly[empId: 38] from Raleigh woring in Finance department earns 59000, Luke Reed[empId: 39] from Omaha woring in HR department earns 61000, Layla Cooper[empId: 40] from Miami woring in Engineering department earns 56000, Ayden Rivera[empId: 41] from Tulsa woring in Operations department earns 63000, Penelope Coleman[empId: 42] from Oakland woring in Sales department earns 58000, Lincoln Powell[empId: 43] from Minneapolis woring in Marketing department earns 65000, Aubrey Long[empId: 44] from Arlington woring in Finance department earns 60000, Grace Hughes[empId: 45] from Bakersfield woring in HR department earns 55000, Nolan Ward[empId: 46] from Tampa woring in Engineering department earns 64000, Bella Barnes[empId: 47] from Honolulu woring in Operations department earns 52000, Ellie Howard[empId: 48] from Anaheim woring in Sales department earns 62000, Liam Wright[empId: 49] from Pittsburgh woring in Marketing department earns 56000, Emma Evans[empId: 50] from Cincinnati woring in Finance department earns 61000)\n"
     ]
    },
    {
     "data": {
      "text/plain": [
       "defined \u001b[32mfunction\u001b[39m \u001b[36mgenerateFormattedReport\u001b[39m"
      ]
     },
     "execution_count": 5,
     "metadata": {},
     "output_type": "execute_result"
    }
   ],
   "source": [
    "// Assuming the formatted report is of type: $Name[empId: #id] from $city working in $department department earns $salary\n",
    "def generateFormattedReport(data: EmployeeData): String = {\n",
    "    s\"${data.name}[empId: ${data.id}] from ${data.city} woring in ${data.department} department earns ${data.salary}\"\n",
    "} \n",
    "\n",
    "println(formattedData.map(generateFormattedReport))"
   ]
  },
  {
   "cell_type": "markdown",
   "metadata": {},
   "source": [
    "Function(`calculateDepartmentStats`) to calculate employee statistics by department in terms of entity `DepartmentStats`"
   ]
  },
  {
   "cell_type": "code",
   "execution_count": 6,
   "metadata": {},
   "outputs": [
    {
     "name": "stdout",
     "output_type": "stream",
     "text": [
      "HashMap(Engineering -> DepartmentStats(Engineering,494000,61750.0,8), Operations -> DepartmentStats(Operations,444000,55500.0,8), Sales -> DepartmentStats(Sales,483000,60375.0,8), Marketing -> DepartmentStats(Marketing,518000,57555.0,9), HR -> DepartmentStats(HR,462000,57750.0,8), Finance -> DepartmentStats(Finance,542000,60222.0,9))\n",
      "List(DepartmentStats(Finance,542000,60222.0,9))\n"
     ]
    },
    {
     "data": {
      "text/plain": [
       "defined \u001b[32mclass\u001b[39m \u001b[36mDepartmentStats\u001b[39m\n",
       "defined \u001b[32mfunction\u001b[39m \u001b[36mcalculateDepartmentStats\u001b[39m\n",
       "\u001b[36mdepartmentGrouped\u001b[39m: \u001b[32mMap\u001b[39m[\u001b[32mString\u001b[39m, \u001b[32mList\u001b[39m[\u001b[32mEmployeeData\u001b[39m]] = \u001b[33mHashMap\u001b[39m(\n",
       "  \u001b[32m\"Engineering\"\u001b[39m -> \u001b[33mList\u001b[39m(\n",
       "    \u001b[33mEmployeeData\u001b[39m(\n",
       "      id = \u001b[32m4\u001b[39m,\n",
       "      name = \u001b[32m\"Sarah Lee\"\u001b[39m,\n",
       "      city = \u001b[32m\"San Francisco\"\u001b[39m,\n",
       "      salary = \u001b[32m58000\u001b[39m,\n",
       "      department = \u001b[32m\"Engineering\"\u001b[39m\n",
       "    ),\n",
       "    \u001b[33mEmployeeData\u001b[39m(\n",
       "      id = \u001b[32m10\u001b[39m,\n",
       "      name = \u001b[32m\"Olivia Thomas\"\u001b[39m,\n",
       "      city = \u001b[32m\"Atlanta\"\u001b[39m,\n",
       "      salary = \u001b[32m64000\u001b[39m,\n",
       "      department = \u001b[32m\"Engineering\"\u001b[39m\n",
       "    ),\n",
       "    \u001b[33mEmployeeData\u001b[39m(\n",
       "      id = \u001b[32m16\u001b[39m,\n",
       "      name = \u001b[32m\"Isabella Carter\"\u001b[39m,\n",
       "      city = \u001b[32m\"Portland\"\u001b[39m,\n",
       "      salary = \u001b[32m63000\u001b[39m,\n",
       "      department = \u001b[32m\"Engineering\"\u001b[39m\n",
       "    ),\n",
       "    \u001b[33mEmployeeData\u001b[39m(\n",
       "      id = \u001b[32m22\u001b[39m,\n",
       "      name = \u001b[32m\"Evelyn Scott\"\u001b[39m,\n",
       "      city = \u001b[32m\"Nashville\"\u001b[39m,\n",
       "      salary = \u001b[32m60000\u001b[39m,\n",
       "      department = \u001b[32m\"Engineering\"\u001b[39m\n",
       "    ),\n",
       "    \u001b[33mEmployeeData\u001b[39m(\n",
       "      id = \u001b[32m28\u001b[39m,\n",
       "      name = \u001b[32m\"Ella Collins\"\u001b[39m,\n",
       "      city = \u001b[32m\"San Jose\"\u001b[39m,\n",
       "      salary = \u001b[32m65000\u001b[39m,\n",
       "      department = \u001b[32m\"Engineering\"\u001b[39m\n",
       "    ),\n",
       "    \u001b[33mEmployeeData\u001b[39m(\n",
       "      id = \u001b[32m34\u001b[39m,\n",
       "...\n",
       "\u001b[36mdepartmentStats\u001b[39m: \u001b[32mcollection\u001b[39m.\u001b[32mimmutable\u001b[39m.\u001b[32mIterable\u001b[39m[\u001b[32mDepartmentStats\u001b[39m] = \u001b[33mList\u001b[39m(\n",
       "  \u001b[33mDepartmentStats\u001b[39m(\n",
       "    department = \u001b[32m\"Engineering\"\u001b[39m,\n",
       "    totalSalary = \u001b[32m494000\u001b[39m,\n",
       "    averageSalary = \u001b[32m61750.0\u001b[39m,\n",
       "    employeesCount = \u001b[32m8\u001b[39m\n",
       "  ),\n",
       "  \u001b[33mDepartmentStats\u001b[39m(\n",
       "    department = \u001b[32m\"Operations\"\u001b[39m,\n",
       "    totalSalary = \u001b[32m444000\u001b[39m,\n",
       "    averageSalary = \u001b[32m55500.0\u001b[39m,\n",
       "    employeesCount = \u001b[32m8\u001b[39m\n",
       "  ),\n",
       "  \u001b[33mDepartmentStats\u001b[39m(\n",
       "    department = \u001b[32m\"Sales\"\u001b[39m,\n",
       "    totalSalary = \u001b[32m483000\u001b[39m,\n",
       "    averageSalary = \u001b[32m60375.0\u001b[39m,\n",
       "    employeesCount = \u001b[32m8\u001b[39m\n",
       "  ),\n",
       "  \u001b[33mDepartmentStats\u001b[39m(\n",
       "    department = \u001b[32m\"Marketing\"\u001b[39m,\n",
       "    totalSalary = \u001b[32m518000\u001b[39m,\n",
       "    averageSalary = \u001b[32m57555.0\u001b[39m,\n",
       "    employeesCount = \u001b[32m9\u001b[39m\n",
       "  ),\n",
       "  \u001b[33mDepartmentStats\u001b[39m(\n",
       "    department = \u001b[32m\"HR\"\u001b[39m,\n",
       "    totalSalary = \u001b[32m462000\u001b[39m,\n",
       "    averageSalary = \u001b[32m57750.0\u001b[39m,\n",
       "    employeesCount = \u001b[32m8\u001b[39m\n",
       "  ),\n",
       "  \u001b[33mDepartmentStats\u001b[39m(\n",
       "    department = \u001b[32m\"Finance\"\u001b[39m,\n",
       "    totalSalary = \u001b[32m542000\u001b[39m,\n",
       "    averageSalary = \u001b[32m60222.0\u001b[39m,\n",
       "    employeesCount = \u001b[32m9\u001b[39m\n",
       "  )\n",
       ")"
      ]
     },
     "execution_count": 6,
     "metadata": {},
     "output_type": "execute_result"
    }
   ],
   "source": [
    "case class DepartmentStats(department: String, totalSalary: Int, averageSalary: Double, employeesCount: Int)\n",
    "\n",
    "def calculateDepartmentStats(department: String, employeeData: List[EmployeeData]): DepartmentStats = {\n",
    "    val employeeCount = employeeData.size\n",
    "    val totalSalary: Int = employeeData.map(_.salary).reduce(_+_)       // (reduce(_+_) == sum)\n",
    "    val averageSalary = totalSalary / employeeCount\n",
    "\n",
    "    DepartmentStats(department, totalSalary, averageSalary, employeeCount)\n",
    "}\n",
    "\n",
    "val departmentGrouped = formattedData.groupBy(_.department) // Map[String, List[EmployeeData]]\n",
    "val departmentStats = departmentGrouped.map{case (k,v) => calculateDepartmentStats(k, v)}\n",
    "\n",
    "println(departmentStats.map(ele => ele.department -> ele).toMap)\n",
    "\n",
    "// Department stats for finance\n",
    "println(departmentStats.filter(_.department.toLowerCase == \"finance\"))"
   ]
  }
 ],
 "metadata": {
  "kernelspec": {
   "display_name": "Scala",
   "language": "scala",
   "name": "scala"
  },
  "language_info": {
   "codemirror_mode": "text/x-scala",
   "file_extension": ".sc",
   "mimetype": "text/x-scala",
   "name": "scala",
   "nbconvert_exporter": "script",
   "version": "2.13.14"
  }
 },
 "nbformat": 4,
 "nbformat_minor": 2
}
