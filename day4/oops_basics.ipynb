{
 "cells": [
  {
   "cell_type": "markdown",
   "metadata": {},
   "source": [
    "## OOPS"
   ]
  },
  {
   "cell_type": "markdown",
   "metadata": {},
   "source": [
    "#### Encapsulation and Abstraction"
   ]
  },
  {
   "cell_type": "markdown",
   "metadata": {},
   "source": [
    "* Classes in Scala"
   ]
  },
  {
   "cell_type": "code",
   "execution_count": 1,
   "metadata": {},
   "outputs": [
    {
     "name": "stdout",
     "output_type": "stream",
     "text": [
      "Name: Scalaman, Age: 23\n",
      "Name: Scalaman, Age: 23\n",
      "(Scalaman,23)\n",
      "(Scalaman,24)\n",
      "(Java,25)\n"
     ]
    },
    {
     "data": {
      "text/plain": [
       "defined \u001b[32mclass\u001b[39m \u001b[36mPerson1\u001b[39m\n",
       "\u001b[36mobj1\u001b[39m: \u001b[32mPerson1\u001b[39m = ammonite.$sess.cmd1$Helper$Person1@3dd33d84\n",
       "defined \u001b[32mclass\u001b[39m \u001b[36mPerson2\u001b[39m\n",
       "\u001b[36mobj2\u001b[39m: \u001b[32mPerson2\u001b[39m = ammonite.$sess.cmd1$Helper$Person2@2c5b1cfc\n",
       "\u001b[36mobj3\u001b[39m: \u001b[32mPerson2\u001b[39m = ammonite.$sess.cmd1$Helper$Person2@22054366"
      ]
     },
     "execution_count": 1,
     "metadata": {},
     "output_type": "execute_result"
    }
   ],
   "source": [
    "// 1. Class parameters without val/var (not accessible as fields)\n",
    "class Person1(name: String, age: Int) {  // Primary constructor\n",
    "    // name and age are only available during construction\n",
    "    // They can be used within the class but are not fields\n",
    "    def info: String = s\"Name: $name, Age: $age\"\n",
    "}\n",
    "\n",
    "val obj1 = new Person1(\"Scalaman\", 23)  // instantiation: object creation\n",
    "println(obj1.info)\n",
    "// println(obj1.name) // Compilation error\n",
    "\n",
    "\n",
    "// 2. Class parameters with val/var (become fields) with default values\n",
    "class Person2(val name: String = \"Java\", var age: Int = 25) {\n",
    "    // name and age are now fields, instance variables\n",
    "    def info: String = s\"Name: $name, Age: $age\"\n",
    "    def nextYearAge: Unit = {\n",
    "        this.age += 1\n",
    "    }\n",
    "}\n",
    "val obj2 = new Person2(\"Scalaman\", 23)\n",
    "// val obj2 = new Person2()\n",
    "val obj3 = new Person2(age=25)  // This takes name as `Java`(default value)\n",
    "println(obj2.info)\n",
    "println(obj2.name, obj2.age)\n",
    "obj2.nextYearAge\n",
    "println(obj2.name, obj2.age)\n",
    "\n",
    "println(obj3.name, obj3.age)"
   ]
  },
  {
   "cell_type": "markdown",
   "metadata": {},
   "source": [
    "`class Person1(name: String, age: Int)`<br/>\n",
    "Are NOT instance variables || Only available during construction and inside class methods || Cannot be accessed from outside the class || Cannot be accessed using dot notation || More memory efficient as they're not stored after construction<br/>\n",
    "\n",
    "`class Person2(val name: String, var age: Int)`<br/>\n",
    "ARE instance variables || val creates immutable instance variables || var creates mutable instance variables || Can be accessed from outside the class || Can be accessed using dot notation || Stored in memory throughout the object's lifetime"
   ]
  },
  {
   "cell_type": "markdown",
   "metadata": {},
   "source": [
    "* Constructors:<br/>\n",
    "    - Primary Constructors: Defined directly in the class definition.\n",
    "    - Auxiliary Constructors: Additional constructors defined using the this keyword, providing alternative ways to instantiate the class. Every auxiliary constructor must eventually call the primary constructor, either directly or indirectly"
   ]
  },
  {
   "cell_type": "code",
   "execution_count": 2,
   "metadata": {},
   "outputs": [
    {
     "name": "stdout",
     "output_type": "stream",
     "text": [
      "Name: A, Age: 23, Designation: SDE\n",
      "Name: B, Age: 18, Designation: Unemployed\n",
      "Name: X, Age: -1, Designation: Unemployed\n"
     ]
    },
    {
     "data": {
      "text/plain": [
       "defined \u001b[32mclass\u001b[39m \u001b[36mPerson\u001b[39m\n",
       "\u001b[36mobj1\u001b[39m: \u001b[32mPerson\u001b[39m = ammonite.$sess.cmd2$Helper$Person@23b88bca\n",
       "\u001b[36mobj2\u001b[39m: \u001b[32mPerson\u001b[39m = ammonite.$sess.cmd2$Helper$Person@4942c5ff\n",
       "\u001b[36mobj3\u001b[39m: \u001b[32mPerson\u001b[39m = ammonite.$sess.cmd2$Helper$Person@6ea24330"
      ]
     },
     "execution_count": 2,
     "metadata": {},
     "output_type": "execute_result"
    }
   ],
   "source": [
    "class Person(name: String, age: Int, designation: String){\n",
    "    def this(name: String, age: Int) = this(name, age, \"Unemployed\") // Direct call to the primary constructor \n",
    "    def this(name: String) = this(name, -1, \"Unemployed\") // Indirect call to the primary constructor \n",
    "\n",
    "    def info(): String = s\"Name: $name, Age: $age, Designation: $designation\"\n",
    "}\n",
    "\n",
    "val obj1: Person = new Person(\"A\", 23, \"SDE\")\n",
    "val obj2 = new Person(\"B\", 18)\n",
    "val obj3 = new Person(\"X\")\n",
    "\n",
    "println(obj1.info())\n",
    "println(obj2.info())\n",
    "println(obj3.info())"
   ]
  },
  {
   "cell_type": "markdown",
   "metadata": {},
   "source": [
    "- Same Auxiliary Constructor Signature in Base and Derived Class:<br/>\n",
    "Each auxiliary constructor in a derived class can have a different implementation than that of the base class. When you create an object of the derived class, the auxiliary constructor defined in the derived class is used rather than the one in the base class"
   ]
  },
  {
   "cell_type": "code",
   "execution_count": 3,
   "metadata": {},
   "outputs": [
    {
     "name": "stdout",
     "output_type": "stream",
     "text": [
      "(Saketh,24)\n",
      "(Emp,24,SDE)\n",
      "Name: defaultName, Age: -1\n",
      "Name: defaultEmployee, Age: -2, Designation: Unemployed\n"
     ]
    },
    {
     "data": {
      "text/plain": [
       "defined \u001b[32mclass\u001b[39m \u001b[36mPerson\u001b[39m\n",
       "defined \u001b[32mclass\u001b[39m \u001b[36mEmployee\u001b[39m\n",
       "\u001b[36mperson\u001b[39m: \u001b[32mPerson\u001b[39m = ammonite.$sess.cmd3$Helper$Person@1e88160f\n",
       "\u001b[36memployee\u001b[39m: \u001b[32mEmployee\u001b[39m = ammonite.$sess.cmd3$Helper$Employee@7798824d\n",
       "\u001b[36mperson2\u001b[39m: \u001b[32mPerson\u001b[39m = ammonite.$sess.cmd3$Helper$Person@617fdf0d\n",
       "\u001b[36memployee2\u001b[39m: \u001b[32mEmployee\u001b[39m = ammonite.$sess.cmd3$Helper$Employee@df6e32e"
      ]
     },
     "execution_count": 3,
     "metadata": {},
     "output_type": "execute_result"
    }
   ],
   "source": [
    "class Person(val name: String, val age: Int) {\n",
    "    def infoPerson: String = s\"Name: $name, Age: $age\"\n",
    "    def this() = this(\"defaultName\", -1) \n",
    "}\n",
    "\n",
    "class Employee(name: String, age: Int, val designation: String) extends Person(name, age){\n",
    "    def infoEmployee: String = s\"Name: $name, Age: $age, Designation: $designation\"\n",
    "    def this(name: String, age: Int) = this(name, age, \"Unemployed\")\n",
    "    def this() = this(\"defaultEmployee\", -2, \"Unemployed\")\n",
    "}\n",
    "\n",
    "val person: Person = new Person(\"Saketh\", 24)\n",
    "val employee: Employee = new Employee(\"Emp\", 24, \"SDE\")\n",
    "\n",
    "println(person.name, person.age)\n",
    "println(employee.name, employee.age, employee.designation)\n",
    "\n",
    "val person2 = new Person()\n",
    "val employee2 = new Employee()\n",
    "\n",
    "println(person2.infoPerson)\n",
    "println(employee2.infoEmployee)"
   ]
  },
  {
   "cell_type": "markdown",
   "metadata": {},
   "source": [
    "* Access Specifiers"
   ]
  },
  {
   "cell_type": "markdown",
   "metadata": {},
   "source": [
    "public, protected and private access modifiers<br/>\n",
    "\n",
    "- Public access modifier - default: accessible from anywhere inside or outside the package.\n",
    "- Protected access modifier: accessible only within class, sub class and companion object\n",
    "- Private access modifier: data accessible only within class in which it is declared"
   ]
  },
  {
   "cell_type": "code",
   "execution_count": 4,
   "metadata": {},
   "outputs": [
    {
     "name": "stdout",
     "output_type": "stream",
     "text": [
      "Hello, my name is Alice and I am 30 years old.\n",
      "Protected info: Age = 25\n"
     ]
    },
    {
     "data": {
      "text/plain": [
       "defined \u001b[32mclass\u001b[39m \u001b[36mPerson\u001b[39m\n",
       "defined \u001b[32mclass\u001b[39m \u001b[36mEmployee\u001b[39m\n",
       "\u001b[36mperson\u001b[39m: \u001b[32mPerson\u001b[39m = ammonite.$sess.cmd4$Helper$Person@3ab6396c\n",
       "\u001b[36memployee\u001b[39m: \u001b[32mEmployee\u001b[39m = ammonite.$sess.cmd4$Helper$Employee@7a009cba"
      ]
     },
     "execution_count": 4,
     "metadata": {},
     "output_type": "execute_result"
    }
   ],
   "source": [
    "class Person(private val name: String, protected val age: Int) {\n",
    "    // name is private and age is protected access type\n",
    "    val greeting: String = s\"Hello, my name is $name and I am $age years old.\" // public\n",
    "\n",
    "    private def privateInfo(): String = s\"Private info: Name = $name, Age = $age\"   // only accessible within the class\n",
    "    protected def protectedInfo(): String = s\"Protected info: Age = $age\" // accessible only inside the sub classes\n",
    "\n",
    "}\n",
    "\n",
    "class Employee(name: String, age: Int, val role: String) extends Person(name, age) {\n",
    "     def showProtectedInfo(): String = protectedInfo() // can access the method\n",
    "\n",
    "    // Cannot access `privateInfo` directly as it is private to `Person`\n",
    "    // Uncommenting the below line will cause a compilation error\n",
    "    // println(privateInfo())\n",
    "}\n",
    "\n",
    "val person = new Person(\"Alice\", 30)\n",
    "println(person.greeting)\n",
    "\n",
    "// println(person.name)      // Error: `name` is private\n",
    "// println(person.privateInfo())  // Error: `privateInfo` is private\n",
    "\n",
    "val employee = new Employee(\"Bob\", 25, \"Engineer\")\n",
    "println(employee.showProtectedInfo()) // Accesses `protectedInfo` via `showProtectedInfo()`\n",
    "\n",
    "\n"
   ]
  },
  {
   "cell_type": "markdown",
   "metadata": {},
   "source": [
    "#### Polymorphism and Inheritance\n",
    "* Method Overloading:\n",
    "The methods can have the same name but have a different parameter list"
   ]
  },
  {
   "cell_type": "code",
   "execution_count": 5,
   "metadata": {},
   "outputs": [
    {
     "name": "stdout",
     "output_type": "stream",
     "text": [
      "Saketh says, Hi John. Morning !!\n",
      "Saketh says, Hi John. Happy Birthday !!\n",
      "Hi, I am Saketh\n",
      "The Saketh says these 5 words:A B C D E \n",
      "Hi, I am Saketh\n"
     ]
    },
    {
     "data": {
      "text/plain": [
       "defined \u001b[32mclass\u001b[39m \u001b[36mPerson\u001b[39m\n",
       "\u001b[36mperson\u001b[39m: \u001b[32mPerson\u001b[39m = ammonite.$sess.cmd5$Helper$Person@365be7d5"
      ]
     },
     "execution_count": 5,
     "metadata": {},
     "output_type": "execute_result"
    }
   ],
   "source": [
    "\n",
    "class Person(var name: String, val age: Int) {\n",
    "  def greet(name: String, wish: String = \"Happy Birthday\"): Unit = {\n",
    "    println(s\"${this.name} says, Hi $name. $wish !!\")\n",
    "  }\n",
    "  def greet(): Unit = {\n",
    "    println(s\"Hi, I am $name\")\n",
    "  }\n",
    "  def greet(x: Int, strings: String*): Unit = {\n",
    "    // gree these all strings\n",
    "    print(s\"The $name says these $x words:\")\n",
    "    strings.foreach(ele => print(s\"$ele \"))\n",
    "    println()\n",
    "  }\n",
    "}\n",
    "\n",
    "val person: Person = new Person(\"Saketh\", 24)\n",
    "person.greet(\"John\", \"Morning\")\n",
    "person.greet(\"John\")\n",
    "person.greet()\n",
    "person.greet(5, \"A\", \"B\", \"C\", \"D\", \"E\")\n",
    "person.greet()"
   ]
  },
  {
   "cell_type": "markdown",
   "metadata": {},
   "source": [
    "* Method overriding"
   ]
  },
  {
   "cell_type": "code",
   "execution_count": 6,
   "metadata": {},
   "outputs": [
    {
     "name": "stdout",
     "output_type": "stream",
     "text": [
      "Animal:: isLiving: true, breathes: true, creatureType: Wild, spell: A-N-I-M-A-L, spellWithchars: A-N-I-M-A-L has 6 characters\n",
      "Dog:: isLiving: true, breathes: true, creatureType: Domestic, spell: D-O-G, spellWithchars: D-O-G has 3 characters\n"
     ]
    },
    {
     "data": {
      "text/plain": [
       "defined \u001b[32mclass\u001b[39m \u001b[36mAnimal\u001b[39m\n",
       "defined \u001b[32mclass\u001b[39m \u001b[36mDog\u001b[39m\n",
       "\u001b[36manimal\u001b[39m: \u001b[32mAnimal\u001b[39m = ammonite.$sess.cmd6$Helper$Animal@1b0b2b81\n",
       "\u001b[36mdog\u001b[39m: \u001b[32mDog\u001b[39m = ammonite.$sess.cmd6$Helper$Dog@7f02ac56"
      ]
     },
     "execution_count": 6,
     "metadata": {},
     "output_type": "execute_result"
    }
   ],
   "source": [
    "class Animal {\n",
    "    val isLiving: Boolean = true\n",
    "    val creatureType_0: String = \"Wild\"\n",
    "    protected val creatureType: String = \"Wild\"\n",
    "    final val breathes: Boolean = true\n",
    "    def spell(): String = \"A-N-I-M-A-L\"\n",
    "    def spell(chars: Boolean) = \"A-N-I-M-A-L has 6 characters\"  // specifies the number of characters\n",
    "}\n",
    "\n",
    "class Dog extends Animal {\n",
    "    override val creatureType = \"Domestic\"  // access level of the overriding method can be the same or more accessible than that of the superclass method.\n",
    "    override def spell(): String = \"D-O-G\"\n",
    "    override def spell(chars: Boolean) = \"D-O-G has 3 characters\"  // specifies the number of characters\n",
    "    // override val breathes = false // Throws a compilation-error, final method cannot be overridden\n",
    "}\n",
    "\n",
    "val animal = new Animal\n",
    "val dog = new Dog\n",
    "\n",
    "println(s\"Animal:: isLiving: ${animal.isLiving}, breathes: ${animal.breathes}, creatureType: ${animal.creatureType_0}, spell: ${animal.spell()}, spellWithchars: ${animal.spell(true)}\")\n",
    "println(s\"Dog:: isLiving: ${dog.isLiving}, breathes: ${dog.breathes}, creatureType: ${dog.creatureType}, spell: ${dog.spell()}, spellWithchars: ${dog.spell(true)}\")"
   ]
  },
  {
   "cell_type": "markdown",
   "metadata": {},
   "source": [
    "* Super and Sub Classes"
   ]
  },
  {
   "cell_type": "code",
   "execution_count": 7,
   "metadata": {},
   "outputs": [
    {
     "name": "stdout",
     "output_type": "stream",
     "text": [
      "Name: Saketh, Age: 24\n",
      "Saketh, 24 years old is woring in the company\n",
      "Name: Saketh Muthoju, Age: 24\n",
      "Saketh Muthoju, 24 years old is woring in the company\n",
      "Saketh Muthoju(24) is a SDE-II\n"
     ]
    },
    {
     "data": {
      "text/plain": [
       "defined \u001b[32mclass\u001b[39m \u001b[36mEmployee\u001b[39m\n",
       "defined \u001b[32mclass\u001b[39m \u001b[36mDeveloper\u001b[39m\n",
       "\u001b[36memp\u001b[39m: \u001b[32mEmployee\u001b[39m = ammonite.$sess.cmd7$Helper$Employee@2708ee62\n",
       "\u001b[36mdev\u001b[39m: \u001b[32mEmployee\u001b[39m = ammonite.$sess.cmd7$Helper$Developer@4b9618b7"
      ]
     },
     "execution_count": 7,
     "metadata": {},
     "output_type": "execute_result"
    }
   ],
   "source": [
    "// Base class (superclass)\n",
    "class Employee(val name: String, val age: Int) {\n",
    "  def info(): Unit = println(s\"Name: $name, Age: $age\")\n",
    "  def details(): Unit = println(s\"$name, $age years old is woring in the company\")\n",
    "}\n",
    "\n",
    "// Subclass extending Animal\n",
    "class Developer(name: String, age: Int, val designation: String) extends Employee(name, age) {\n",
    "  \n",
    "  // Override method from superclass\n",
    "  override def details(): Unit = {\n",
    "    super.details()  // Call parent's implementation\n",
    "    println(s\"$name($age) is a $designation\")\n",
    "  }\n",
    "}\n",
    "\n",
    "val emp: Employee = new Employee(\"Saketh\", 24)\n",
    "val dev: Employee = new Developer(\"Saketh Muthoju\", 24, \"SDE-II\")\n",
    "\n",
    "emp.info()\n",
    "emp.details()\n",
    "\n",
    "dev.info()\n",
    "dev.details()\n"
   ]
  },
  {
   "cell_type": "markdown",
   "metadata": {},
   "source": [
    "* Abstract classes"
   ]
  },
  {
   "cell_type": "code",
   "execution_count": 8,
   "metadata": {},
   "outputs": [
    {
     "name": "stdout",
     "output_type": "stream",
     "text": [
      "Woof! Woof!\n",
      "Moving\n",
      "It is a domestic animal\n"
     ]
    },
    {
     "data": {
      "text/plain": [
       "defined \u001b[32mclass\u001b[39m \u001b[36mAnimal\u001b[39m\n",
       "defined \u001b[32mclass\u001b[39m \u001b[36mDog\u001b[39m\n",
       "\u001b[36mdog\u001b[39m: \u001b[32mAnimal\u001b[39m = ammonite.$sess.cmd8$Helper$Dog@1269990d"
      ]
     },
     "execution_count": 8,
     "metadata": {},
     "output_type": "execute_result"
    }
   ],
   "source": [
    "abstract class Animal {\n",
    "    val creatureType: String // Abstract field\n",
    "    def sound(): String   // abstract method should be overridden inside default class\n",
    "    def move(): String = \"Moving\" // concrete method\n",
    "    def nature(): String = s\"It is a $creatureType animal\"\n",
    "}\n",
    "\n",
    "class Dog extends Animal {\n",
    "    override val creatureType = \"domestic\"\n",
    "    override def sound(): String = \"Woof! Woof!\" // Here, there is no need of `override` keyword as compiler interprets it\n",
    "}\n",
    "\n",
    "val dog: Animal = new Dog\n",
    "println(dog.sound()) // Output: Woof! Woof!\n",
    "println(dog.move())\n",
    "println(dog.nature())"
   ]
  },
  {
   "cell_type": "code",
   "execution_count": 9,
   "metadata": {},
   "outputs": [
    {
     "name": "stdout",
     "output_type": "stream",
     "text": [
      "Hello, I'm Saketh, and I work as a Software Engineer\n",
      "Saketh have 2 years of experience\n"
     ]
    },
    {
     "data": {
      "text/plain": [
       "defined \u001b[32mclass\u001b[39m \u001b[36mPerson\u001b[39m\n",
       "defined \u001b[32mclass\u001b[39m \u001b[36mEmployee\u001b[39m\n",
       "\u001b[36memployee\u001b[39m: \u001b[32mEmployee\u001b[39m = ammonite.$sess.cmd9$Helper$Employee@737160ba"
      ]
     },
     "execution_count": 9,
     "metadata": {},
     "output_type": "execute_result"
    }
   ],
   "source": [
    "// Abstract classes can have constructors just like any other class. When a subclass extends an abstract class, it must call the superclass constructor if it has parameters.\n",
    "abstract class Person(val name: String) {\n",
    "  def greet(): String = s\"Hello, my name is $name\"\n",
    "  def yoe(x: Int): String\n",
    "}\n",
    "\n",
    "class Employee(name: String, val jobTitle: String) extends Person(name) {\n",
    "  override def greet(): String = s\"Hello, I'm $name, and I work as a $jobTitle\"\n",
    "  override def yoe(x: Int): String = s\"$name have $x years of experience\"\n",
    "}\n",
    "\n",
    "val employee = new Employee(\"Saketh\", \"Software Engineer\")\n",
    "println(employee.greet())\n",
    "println(employee.yoe(2))"
   ]
  },
  {
   "cell_type": "markdown",
   "metadata": {},
   "source": [
    "* Operator overloading"
   ]
  },
  {
   "cell_type": "code",
   "execution_count": 10,
   "metadata": {},
   "outputs": [
    {
     "name": "stdout",
     "output_type": "stream",
     "text": [
      "(X: 0, Y: 1)\n",
      "(X: 1, Y: 0)\n",
      "(X1: 0, Y1: 1) + (X2: 1, Y2: 0) = (X: 1, Y: 1)\n",
      "(X1: 0, Y1: 1) * (X2: 1, Y2: 0) = (X: 0, Y: 0)\n"
     ]
    },
    {
     "data": {
      "text/plain": [
       "defined \u001b[32mclass\u001b[39m \u001b[36mXYPlane\u001b[39m\n",
       "\u001b[36mxy1\u001b[39m: \u001b[32mXYPlane\u001b[39m = ammonite.$sess.cmd10$Helper$XYPlane@c8c543b\n",
       "\u001b[36mxy2\u001b[39m: \u001b[32mXYPlane\u001b[39m = ammonite.$sess.cmd10$Helper$XYPlane@61640307"
      ]
     },
     "execution_count": 10,
     "metadata": {},
     "output_type": "execute_result"
    }
   ],
   "source": [
    "class XYPlane(val x: Int, val y: Int){\n",
    "    def info: String = s\"(X: $x, Y: $y)\"\n",
    "\n",
    "    def +(xy2: XYPlane): String = s\"(X1: ${x}, Y1: ${y}) + (X2: ${xy2.x}, Y2: ${xy2.y}) = (X: ${x + xy2.x}, Y: ${y + xy2.y})\"\n",
    "    def *(x: XYPlane): String = s\"(X1: ${this.x}, Y1: ${this.y}) * (X2: ${x.x}, Y2: ${x.y}) = (X: ${this.x * x.x}, Y: ${this.y * x.y})\"\n",
    "}\n",
    "\n",
    "val xy1 = new XYPlane(0,1)\n",
    "val xy2 = new XYPlane(1,0)\n",
    "\n",
    "println(xy1.info)  // (X: 0, Y: 1)\n",
    "println(xy2.info)  // (X: 1, Y: 0)\n",
    "\n",
    "println(xy1+xy2)\n",
    "println(xy1*xy2)"
   ]
  },
  {
   "cell_type": "markdown",
   "metadata": {},
   "source": [
    "#### Companion objects"
   ]
  },
  {
   "cell_type": "markdown",
   "metadata": {},
   "source": [
    "- companion classes and companion objects are a unique feature that allows for a powerful way to separate instance-specific and class-level (shared behaviors or state).\n",
    "- companion object (is singleton) and class share the same name and be defined in the same source file, have access to each other's private members."
   ]
  },
  {
   "cell_type": "code",
   "execution_count": 24,
   "metadata": {},
   "outputs": [
    {
     "name": "stdout",
     "output_type": "stream",
     "text": [
      "Details: Saketh [EmpId: 1], 24 years old, working as a SDE!!\n",
      "Details: StudentSaketh [EmpId: 2], 19 years old, working as a Student!!\n"
     ]
    },
    {
     "data": {
      "text/plain": [
       "defined \u001b[32mclass\u001b[39m \u001b[36mEmployee\u001b[39m\n",
       "defined \u001b[32mobject\u001b[39m \u001b[36mEmployee\u001b[39m\n",
       "\u001b[36memp1\u001b[39m: \u001b[32mEmployee\u001b[39m = ammonite.$sess.cmd24$Helper$Employee@91924e\n",
       "\u001b[36memp2\u001b[39m: \u001b[32mEmployee\u001b[39m = ammonite.$sess.cmd24$Helper$Employee@1894887c"
      ]
     },
     "execution_count": 24,
     "metadata": {},
     "output_type": "execute_result"
    }
   ],
   "source": [
    "// Companion objects are commonly used to create factory methods, like `apply`, to simplify object creation.\n",
    "// To implement this, let's create a class with private constructor\n",
    "\n",
    "class Employee private(val name: String, val age: Int, val designation: String) {\n",
    "    private val id: Int = Employee.generateId()   // Private member, calls a method in the companion object to generate a new ID\n",
    "    def getDetails(): String = s\"Details: $name [EmpId: $id], $age years old, working as a $designation!!\" // Instance method\n",
    "}\n",
    "\n",
    "// same as static\n",
    "object Employee {\n",
    "    private var idCounter: Int = 0 // private variable shared among all instances\n",
    "\n",
    "    def apply(name: String, age: Int): Employee = new Employee(name, age, \"Student\") // Factory method to create a object of type Employee\n",
    "    def apply(name: String, age: Int, designation: String): Employee = new Employee(name, age, designation)\n",
    "\n",
    "    private def generateId(): Int = {\n",
    "        idCounter += 1\n",
    "        idCounter\n",
    "    }\n",
    "}\n",
    "\n",
    "val emp1 = Employee(\"Saketh\", 24, \"SDE\")  // if `apply` factory method is absent in companion object, this will throw an error\n",
    "println(emp1.getDetails())\n",
    "\n",
    "val emp2 = Employee(\"StudentSaketh\", 19)\n",
    "println(emp2.getDetails())"
   ]
  },
  {
   "cell_type": "markdown",
   "metadata": {},
   "source": [
    "#### Case class"
   ]
  },
  {
   "cell_type": "code",
   "execution_count": 18,
   "metadata": {},
   "outputs": [
    {
     "name": "stdout",
     "output_type": "stream",
     "text": [
      "ammonite.$sess.cmd18$Helper$Person@5f1bc1\n",
      "CPerson(Saketh,24,SDE)\n",
      "Saketh\n",
      "Saketh is a SDE\n",
      "Saketh is a Data Engineer\n",
      "true\n",
      "CPerson(John,24,Data Engineer)\n"
     ]
    },
    {
     "data": {
      "text/plain": [
       "defined \u001b[32mclass\u001b[39m \u001b[36mPerson\u001b[39m\n",
       "defined \u001b[32mclass\u001b[39m \u001b[36mCPerson\u001b[39m\n",
       "\u001b[36mobj\u001b[39m: \u001b[32mPerson\u001b[39m = ammonite.$sess.cmd18$Helper$Person@5f1bc1\n",
       "\u001b[36mcobj\u001b[39m: \u001b[32mCPerson\u001b[39m = \u001b[33mCPerson\u001b[39m(\n",
       "  name = \u001b[32m\"Saketh\"\u001b[39m,\n",
       "  age = \u001b[32m24\u001b[39m,\n",
       "  designation = \u001b[32m\"Data Engineer\"\u001b[39m\n",
       ")\n",
       "\u001b[36mcobj2\u001b[39m: \u001b[32mCPerson\u001b[39m = \u001b[33mCPerson\u001b[39m(\n",
       "  name = \u001b[32m\"Saketh\"\u001b[39m,\n",
       "  age = \u001b[32m24\u001b[39m,\n",
       "  designation = \u001b[32m\"Data Engineer\"\u001b[39m\n",
       ")\n",
       "\u001b[36mcobj3\u001b[39m: \u001b[32mCPerson\u001b[39m = \u001b[33mCPerson\u001b[39m(name = \u001b[32m\"John\"\u001b[39m, age = \u001b[32m24\u001b[39m, designation = \u001b[32m\"Data Engineer\"\u001b[39m)"
      ]
     },
     "execution_count": 18,
     "metadata": {},
     "output_type": "execute_result"
    }
   ],
   "source": [
    "class Person(name: String, val age: Int){\n",
    "    def info(): String = s\"Name: $name, Age: $age\"\n",
    "}\n",
    "\n",
    "case class CPerson(name: String, age: Int, var designation: String = \"SDE\") {\n",
    "    def giveDesignation(): String = s\"$name is a $designation\"\n",
    "}\n",
    "\n",
    "val obj = new Person(name=\"Saketh\", age=24)\n",
    "val cobj = CPerson(\"Saketh\", 24) // Case classes automatically provide a companion object with an apply method, no need of `new` keyword\n",
    "\n",
    "println(obj)\n",
    "// println(obj.name) // throws error\n",
    "\n",
    "println(cobj)\n",
    "println(cobj.name)\n",
    "\n",
    "// cobj.age = 24 // This will throw an error, all parameters in case classes are val by default\n",
    "\n",
    "println(cobj.giveDesignation())\n",
    "cobj.designation = \"Data Engineer\"\n",
    "println(cobj.giveDesignation())\n",
    "\n",
    "val cobj2 = CPerson(\"Saketh\", 24, \"Data Engineer\")\n",
    "println(cobj == cobj2)  // Case classes automatically implement the equals and hashCode methods\n",
    "\n",
    "// In-built copy method allows to create a copy of an instance with some fields modified, preserving immutability.\n",
    "val cobj3 = cobj2.copy(name = \"John\")\n",
    "println(cobj3)\n"
   ]
  }
 ],
 "metadata": {
  "kernelspec": {
   "display_name": "Scala",
   "language": "scala",
   "name": "scala"
  },
  "language_info": {
   "codemirror_mode": "text/x-scala",
   "file_extension": ".sc",
   "mimetype": "text/x-scala",
   "name": "scala",
   "nbconvert_exporter": "script",
   "version": "2.13.14"
  }
 },
 "nbformat": 4,
 "nbformat_minor": 2
}
