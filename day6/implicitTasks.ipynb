{
 "cells": [
  {
   "cell_type": "code",
   "execution_count": 1,
   "metadata": {},
   "outputs": [
    {
     "data": {
      "text/plain": [
       "\u001b[32mimport \u001b[39m\u001b[36mscala.collection.mutable.ListBuffer\u001b[39m\n",
       "\u001b[32mimport \u001b[39m\u001b[36mscala.language.implicitConversions\u001b[39m"
      ]
     },
     "execution_count": 1,
     "metadata": {},
     "output_type": "execute_result"
    }
   ],
   "source": [
    "import scala.collection.mutable.ListBuffer\n",
    "import scala.language.implicitConversions "
   ]
  },
  {
   "cell_type": "code",
   "execution_count": 2,
   "metadata": {},
   "outputs": [
    {
     "data": {
      "text/plain": [
       "defined \u001b[32mclass\u001b[39m \u001b[36mStudent\u001b[39m"
      ]
     },
     "execution_count": 2,
     "metadata": {},
     "output_type": "execute_result"
    }
   ],
   "source": [
    "case class Student(sno: Int, name: String, score: Int)"
   ]
  },
  {
   "cell_type": "code",
   "execution_count": 3,
   "metadata": {},
   "outputs": [
    {
     "data": {
      "text/plain": [
       "\u001b[36mstudents\u001b[39m: \u001b[32mListBuffer\u001b[39m[\u001b[32mStudent\u001b[39m] = \u001b[33mListBuffer\u001b[39m(\n",
       "  \u001b[33mStudent\u001b[39m(sno = \u001b[32m1\u001b[39m, name = \u001b[32m\"A\"\u001b[39m, score = \u001b[32m70\u001b[39m),\n",
       "  \u001b[33mStudent\u001b[39m(sno = \u001b[32m2\u001b[39m, name = \u001b[32m\"B\"\u001b[39m, score = \u001b[32m100\u001b[39m),\n",
       "  \u001b[33mStudent\u001b[39m(sno = \u001b[32m3\u001b[39m, name = \u001b[32m\"C\"\u001b[39m, score = \u001b[32m60\u001b[39m),\n",
       "  \u001b[33mStudent\u001b[39m(sno = \u001b[32m4\u001b[39m, name = \u001b[32m\"D\"\u001b[39m, score = \u001b[32m90\u001b[39m),\n",
       "  \u001b[33mStudent\u001b[39m(sno = \u001b[32m5\u001b[39m, name = \u001b[32m\"E\"\u001b[39m, score = \u001b[32m55\u001b[39m),\n",
       "  \u001b[33mStudent\u001b[39m(sno = \u001b[32m6\u001b[39m, name = \u001b[32m\"F\"\u001b[39m, score = \u001b[32m37\u001b[39m)\n",
       ")"
      ]
     },
     "execution_count": 3,
     "metadata": {},
     "output_type": "execute_result"
    }
   ],
   "source": [
    "val students: ListBuffer[Student] = ListBuffer(\n",
    "    Student(1, \"A\", 70),\n",
    "    Student(2, \"B\", 100),\n",
    "    Student(3, \"C\", 60),\n",
    "    Student(4, \"D\", 90),\n",
    "    Student(5, \"E\", 55),\n",
    "    Student(6, \"F\", 37)\n",
    ")"
   ]
  },
  {
   "cell_type": "code",
   "execution_count": 4,
   "metadata": {},
   "outputs": [
    {
     "data": {
      "text/plain": [
       "defined \u001b[32mfunction\u001b[39m \u001b[36mtupleToStudent\u001b[39m"
      ]
     },
     "execution_count": 4,
     "metadata": {},
     "output_type": "execute_result"
    }
   ],
   "source": [
    "implicit def tupleToStudent(t: (Int, String, Int)): Student = {\n",
    "    Student(t._1, t._2, t._3)\n",
    "}"
   ]
  },
  {
   "cell_type": "code",
   "execution_count": 5,
   "metadata": {},
   "outputs": [
    {
     "data": {
      "text/plain": [
       "defined \u001b[32mclass\u001b[39m \u001b[36mStudentListOps\u001b[39m"
      ]
     },
     "execution_count": 5,
     "metadata": {},
     "output_type": "execute_result"
    }
   ],
   "source": [
    "implicit class StudentListOps(list: ListBuffer[Student]) {\n",
    "    def %>(score: Int): ListBuffer[Student] = {\n",
    "        list.filter(x => x.score > score)\n",
    "    }\n",
    "\n",
    "    def %<(score: Int): ListBuffer[Student] = {\n",
    "        list.filter(x => x.score < score)\n",
    "    }\n",
    "\n",
    "    def add(s: Student): ListBuffer[Student] = {\n",
    "        list.addOne(s)\n",
    "    }\n",
    "\n",
    "    def addMultiple(other: List[Student]): ListBuffer[Student] = {\n",
    "        list.addAll(other)\n",
    "    }\n",
    "\n",
    "    def print() = {\n",
    "        list.foreach(x => println(s\"${x.sno}. ${x.name} scored ${x.score}\"))\n",
    "    }\n",
    "}"
   ]
  },
  {
   "cell_type": "code",
   "execution_count": 6,
   "metadata": {},
   "outputs": [
    {
     "name": "stdout",
     "output_type": "stream",
     "text": [
      "1. A scored 70\n",
      "2. B scored 100\n",
      "3. C scored 60\n",
      "4. D scored 90\n",
      "5. E scored 55\n",
      "6. F scored 37\n",
      "7. Saketh scored 100\n",
      "8. Saketh Muthoju scored 99\n",
      "9. Student-A scored 75\n",
      "10. Student-B scored 25\n"
     ]
    },
    {
     "data": {
      "text/plain": [
       "\u001b[36mstudentsGreaterThan70\u001b[39m: \u001b[32mListBuffer\u001b[39m[\u001b[32mStudent\u001b[39m] = \u001b[33mListBuffer\u001b[39m(\n",
       "  \u001b[33mStudent\u001b[39m(sno = \u001b[32m2\u001b[39m, name = \u001b[32m\"B\"\u001b[39m, score = \u001b[32m100\u001b[39m),\n",
       "  \u001b[33mStudent\u001b[39m(sno = \u001b[32m4\u001b[39m, name = \u001b[32m\"D\"\u001b[39m, score = \u001b[32m90\u001b[39m)\n",
       ")\n",
       "\u001b[36mstudentsLessThan60\u001b[39m: \u001b[32mListBuffer\u001b[39m[\u001b[32mStudent\u001b[39m] = \u001b[33mListBuffer\u001b[39m(\n",
       "  \u001b[33mStudent\u001b[39m(sno = \u001b[32m5\u001b[39m, name = \u001b[32m\"E\"\u001b[39m, score = \u001b[32m55\u001b[39m),\n",
       "  \u001b[33mStudent\u001b[39m(sno = \u001b[32m6\u001b[39m, name = \u001b[32m\"F\"\u001b[39m, score = \u001b[32m37\u001b[39m)\n",
       ")\n",
       "\u001b[36maddStudent\u001b[39m: \u001b[32mListBuffer\u001b[39m[\u001b[32mStudent\u001b[39m] = \u001b[33mListBuffer\u001b[39m(\n",
       "  \u001b[33mStudent\u001b[39m(sno = \u001b[32m1\u001b[39m, name = \u001b[32m\"A\"\u001b[39m, score = \u001b[32m70\u001b[39m),\n",
       "  \u001b[33mStudent\u001b[39m(sno = \u001b[32m2\u001b[39m, name = \u001b[32m\"B\"\u001b[39m, score = \u001b[32m100\u001b[39m),\n",
       "  \u001b[33mStudent\u001b[39m(sno = \u001b[32m3\u001b[39m, name = \u001b[32m\"C\"\u001b[39m, score = \u001b[32m60\u001b[39m),\n",
       "  \u001b[33mStudent\u001b[39m(sno = \u001b[32m4\u001b[39m, name = \u001b[32m\"D\"\u001b[39m, score = \u001b[32m90\u001b[39m),\n",
       "  \u001b[33mStudent\u001b[39m(sno = \u001b[32m5\u001b[39m, name = \u001b[32m\"E\"\u001b[39m, score = \u001b[32m55\u001b[39m),\n",
       "  \u001b[33mStudent\u001b[39m(sno = \u001b[32m6\u001b[39m, name = \u001b[32m\"F\"\u001b[39m, score = \u001b[32m37\u001b[39m),\n",
       "  \u001b[33mStudent\u001b[39m(sno = \u001b[32m7\u001b[39m, name = \u001b[32m\"Saketh\"\u001b[39m, score = \u001b[32m100\u001b[39m),\n",
       "  \u001b[33mStudent\u001b[39m(sno = \u001b[32m8\u001b[39m, name = \u001b[32m\"Saketh Muthoju\"\u001b[39m, score = \u001b[32m99\u001b[39m),\n",
       "  \u001b[33mStudent\u001b[39m(sno = \u001b[32m9\u001b[39m, name = \u001b[32m\"Student-A\"\u001b[39m, score = \u001b[32m75\u001b[39m),\n",
       "  \u001b[33mStudent\u001b[39m(sno = \u001b[32m10\u001b[39m, name = \u001b[32m\"Student-B\"\u001b[39m, score = \u001b[32m25\u001b[39m)\n",
       ")\n",
       "\u001b[36maddNewStudent\u001b[39m: \u001b[32mListBuffer\u001b[39m[\u001b[32mStudent\u001b[39m] = \u001b[33mListBuffer\u001b[39m(\n",
       "  \u001b[33mStudent\u001b[39m(sno = \u001b[32m1\u001b[39m, name = \u001b[32m\"A\"\u001b[39m, score = \u001b[32m70\u001b[39m),\n",
       "  \u001b[33mStudent\u001b[39m(sno = \u001b[32m2\u001b[39m, name = \u001b[32m\"B\"\u001b[39m, score = \u001b[32m100\u001b[39m),\n",
       "  \u001b[33mStudent\u001b[39m(sno = \u001b[32m3\u001b[39m, name = \u001b[32m\"C\"\u001b[39m, score = \u001b[32m60\u001b[39m),\n",
       "  \u001b[33mStudent\u001b[39m(sno = \u001b[32m4\u001b[39m, name = \u001b[32m\"D\"\u001b[39m, score = \u001b[32m90\u001b[39m),\n",
       "  \u001b[33mStudent\u001b[39m(sno = \u001b[32m5\u001b[39m, name = \u001b[32m\"E\"\u001b[39m, score = \u001b[32m55\u001b[39m),\n",
       "  \u001b[33mStudent\u001b[39m(sno = \u001b[32m6\u001b[39m, name = \u001b[32m\"F\"\u001b[39m, score = \u001b[32m37\u001b[39m),\n",
       "  \u001b[33mStudent\u001b[39m(sno = \u001b[32m7\u001b[39m, name = \u001b[32m\"Saketh\"\u001b[39m, score = \u001b[32m100\u001b[39m),\n",
       "  \u001b[33mStudent\u001b[39m(sno = \u001b[32m8\u001b[39m, name = \u001b[32m\"Saketh Muthoju\"\u001b[39m, score = \u001b[32m99\u001b[39m),\n",
       "  \u001b[33mStudent\u001b[39m(sno = \u001b[32m9\u001b[39m, name = \u001b[32m\"Student-A\"\u001b[39m, score = \u001b[32m75\u001b[39m),\n",
       "  \u001b[33mStudent\u001b[39m(sno = \u001b[32m10\u001b[39m, name = \u001b[32m\"Student-B\"\u001b[39m, score = \u001b[32m25\u001b[39m)\n",
       ")\n",
       "\u001b[36maddStudents\u001b[39m: \u001b[32mListBuffer\u001b[39m[\u001b[32mStudent\u001b[39m] = \u001b[33mListBuffer\u001b[39m(\n",
       "  \u001b[33mStudent\u001b[39m(sno = \u001b[32m1\u001b[39m, name = \u001b[32m\"A\"\u001b[39m, score = \u001b[32m70\u001b[39m),\n",
       "  \u001b[33mStudent\u001b[39m(sno = \u001b[32m2\u001b[39m, name = \u001b[32m\"B\"\u001b[39m, score = \u001b[32m100\u001b[39m),\n",
       "  \u001b[33mStudent\u001b[39m(sno = \u001b[32m3\u001b[39m, name = \u001b[32m\"C\"\u001b[39m, score = \u001b[32m60\u001b[39m),\n",
       "  \u001b[33mStudent\u001b[39m(sno = \u001b[32m4\u001b[39m, name = \u001b[32m\"D\"\u001b[39m, score = \u001b[32m90\u001b[39m),\n",
       "  \u001b[33mStudent\u001b[39m(sno = \u001b[32m5\u001b[39m, name = \u001b[32m\"E\"\u001b[39m, score = \u001b[32m55\u001b[39m),\n",
       "  \u001b[33mStudent\u001b[39m(sno = \u001b[32m6\u001b[39m, name = \u001b[32m\"F\"\u001b[39m, score = \u001b[32m37\u001b[39m),\n",
       "  \u001b[33mStudent\u001b[39m(sno = \u001b[32m7\u001b[39m, name = \u001b[32m\"Saketh\"\u001b[39m, score = \u001b[32m100\u001b[39m),\n",
       "  \u001b[33mStudent\u001b[39m(sno = \u001b[32m8\u001b[39m, name = \u001b[32m\"Saketh Muthoju\"\u001b[39m, score = \u001b[32m99\u001b[39m),\n",
       "  \u001b[33mStudent\u001b[39m(sno = \u001b[32m9\u001b[39m, name = \u001b[32m\"Student-A\"\u001b[39m, score = \u001b[32m75\u001b[39m),\n",
       "  \u001b[33mStudent\u001b[39m(sno = \u001b[32m10\u001b[39m, name = \u001b[32m\"Student-B\"\u001b[39m, score = \u001b[32m25\u001b[39m)\n",
       ")"
      ]
     },
     "execution_count": 6,
     "metadata": {},
     "output_type": "execute_result"
    }
   ],
   "source": [
    "val studentsGreaterThan70 = students %> 70\n",
    "val studentsLessThan60 = students %< 60\n",
    "val addStudent = students add Student(7, \"Saketh\", 100)\n",
    "val addNewStudent = students add (8, \"Saketh Muthoju\", 99)\n",
    "val addStudents = students addMultiple List(Student(9, \"Student-A\", 75), Student(10, \"Student-B\", 25))\n",
    "\n",
    "students.print()"
   ]
  },
  {
   "cell_type": "markdown",
   "metadata": {},
   "source": [
    "* Array implicits"
   ]
  },
  {
   "cell_type": "code",
   "execution_count": 7,
   "metadata": {},
   "outputs": [
    {
     "data": {
      "text/plain": [
       "defined \u001b[32mclass\u001b[39m \u001b[36mStudentArrayOps\u001b[39m"
      ]
     },
     "execution_count": 7,
     "metadata": {},
     "output_type": "execute_result"
    }
   ],
   "source": [
    "implicit class StudentArrayOps(array: Array[Student]) {\n",
    "    def filterRecords(x: Student => Boolean): Array[Student] = {\n",
    "        array.collect{ case student: Student if x(student) == true => student }\n",
    "    }\n",
    "}"
   ]
  },
  {
   "cell_type": "code",
   "execution_count": 8,
   "metadata": {},
   "outputs": [
    {
     "data": {
      "text/plain": [
       "\u001b[36mstudentsArray\u001b[39m: \u001b[32mArray\u001b[39m[\u001b[32mStudent\u001b[39m] = \u001b[33mArray\u001b[39m(\n",
       "  \u001b[33mStudent\u001b[39m(sno = \u001b[32m1\u001b[39m, name = \u001b[32m\"A\"\u001b[39m, score = \u001b[32m70\u001b[39m),\n",
       "  \u001b[33mStudent\u001b[39m(sno = \u001b[32m2\u001b[39m, name = \u001b[32m\"B\"\u001b[39m, score = \u001b[32m100\u001b[39m),\n",
       "  \u001b[33mStudent\u001b[39m(sno = \u001b[32m3\u001b[39m, name = \u001b[32m\"C\"\u001b[39m, score = \u001b[32m60\u001b[39m),\n",
       "  \u001b[33mStudent\u001b[39m(sno = \u001b[32m4\u001b[39m, name = \u001b[32m\"D\"\u001b[39m, score = \u001b[32m90\u001b[39m),\n",
       "  \u001b[33mStudent\u001b[39m(sno = \u001b[32m5\u001b[39m, name = \u001b[32m\"E\"\u001b[39m, score = \u001b[32m55\u001b[39m),\n",
       "  \u001b[33mStudent\u001b[39m(sno = \u001b[32m6\u001b[39m, name = \u001b[32m\"F\"\u001b[39m, score = \u001b[32m37\u001b[39m),\n",
       "  \u001b[33mStudent\u001b[39m(sno = \u001b[32m7\u001b[39m, name = \u001b[32m\"Saketh\"\u001b[39m, score = \u001b[32m100\u001b[39m),\n",
       "  \u001b[33mStudent\u001b[39m(sno = \u001b[32m8\u001b[39m, name = \u001b[32m\"Saketh Muthoju\"\u001b[39m, score = \u001b[32m99\u001b[39m),\n",
       "  \u001b[33mStudent\u001b[39m(sno = \u001b[32m9\u001b[39m, name = \u001b[32m\"Student-A\"\u001b[39m, score = \u001b[32m75\u001b[39m),\n",
       "  \u001b[33mStudent\u001b[39m(sno = \u001b[32m10\u001b[39m, name = \u001b[32m\"Student-B\"\u001b[39m, score = \u001b[32m25\u001b[39m)\n",
       ")\n",
       "\u001b[36mfilteredArray\u001b[39m: \u001b[32mArray\u001b[39m[\u001b[32mStudent\u001b[39m] = \u001b[33mArray\u001b[39m(\n",
       "  \u001b[33mStudent\u001b[39m(sno = \u001b[32m2\u001b[39m, name = \u001b[32m\"B\"\u001b[39m, score = \u001b[32m100\u001b[39m),\n",
       "  \u001b[33mStudent\u001b[39m(sno = \u001b[32m7\u001b[39m, name = \u001b[32m\"Saketh\"\u001b[39m, score = \u001b[32m100\u001b[39m)\n",
       ")"
      ]
     },
     "execution_count": 8,
     "metadata": {},
     "output_type": "execute_result"
    }
   ],
   "source": [
    "val studentsArray = students.toArray\n",
    "\n",
    "val filteredArray = studentsArray.filterRecords(x => x.score == 100)"
   ]
  },
  {
   "cell_type": "markdown",
   "metadata": {},
   "source": [
    "* Question-4"
   ]
  },
  {
   "cell_type": "code",
   "execution_count": 9,
   "metadata": {},
   "outputs": [
    {
     "data": {
      "text/plain": [
       "defined \u001b[32mfunction\u001b[39m \u001b[36marrayToList\u001b[39m"
      ]
     },
     "execution_count": 9,
     "metadata": {},
     "output_type": "execute_result"
    }
   ],
   "source": [
    "implicit def arrayToList(array: Array[Student]): List[Student] = {\n",
    "    def convertToList(arr: Array[Student], idx: Int, res: ListBuffer[Student]): ListBuffer[Student] = {\n",
    "        if(idx == arr.length) res\n",
    "        else convertToList(arr, idx+1, res.addOne(arr(idx)))\n",
    "    }\n",
    "    convertToList(array, 0, ListBuffer.empty[Student]).toList\n",
    "}"
   ]
  },
  {
   "cell_type": "code",
   "execution_count": 10,
   "metadata": {},
   "outputs": [
    {
     "data": {
      "text/plain": [
       "defined \u001b[32mclass\u001b[39m \u001b[36mStudentOps\u001b[39m"
      ]
     },
     "execution_count": 10,
     "metadata": {},
     "output_type": "execute_result"
    }
   ],
   "source": [
    "class StudentOps(studentsList: List[Student]){\n",
    "    def filterStudents(func: Student => Boolean): List[Student] = {\n",
    "        studentsList.collect{ case student: Student if func(student) == true => student }\n",
    "    }\n",
    "}"
   ]
  },
  {
   "cell_type": "code",
   "execution_count": 11,
   "metadata": {},
   "outputs": [
    {
     "data": {
      "text/plain": [
       "\u001b[36mrecords\u001b[39m: \u001b[32mArray\u001b[39m[\u001b[32mStudent\u001b[39m] = \u001b[33mArray\u001b[39m(\n",
       "  \u001b[33mStudent\u001b[39m(sno = \u001b[32m1\u001b[39m, name = \u001b[32m\"Alice\"\u001b[39m, score = \u001b[32m85\u001b[39m),\n",
       "  \u001b[33mStudent\u001b[39m(sno = \u001b[32m2\u001b[39m, name = \u001b[32m\"Bob\"\u001b[39m, score = \u001b[32m92\u001b[39m),\n",
       "  \u001b[33mStudent\u001b[39m(sno = \u001b[32m3\u001b[39m, name = \u001b[32m\"Charlie\"\u001b[39m, score = \u001b[32m78\u001b[39m),\n",
       "  \u001b[33mStudent\u001b[39m(sno = \u001b[32m4\u001b[39m, name = \u001b[32m\"David\"\u001b[39m, score = \u001b[32m66\u001b[39m),\n",
       "  \u001b[33mStudent\u001b[39m(sno = \u001b[32m5\u001b[39m, name = \u001b[32m\"Eve\"\u001b[39m, score = \u001b[32m90\u001b[39m),\n",
       "  \u001b[33mStudent\u001b[39m(sno = \u001b[32m6\u001b[39m, name = \u001b[32m\"Frank\"\u001b[39m, score = \u001b[32m73\u001b[39m),\n",
       "  \u001b[33mStudent\u001b[39m(sno = \u001b[32m7\u001b[39m, name = \u001b[32m\"Grace\"\u001b[39m, score = \u001b[32m88\u001b[39m),\n",
       "  \u001b[33mStudent\u001b[39m(sno = \u001b[32m8\u001b[39m, name = \u001b[32m\"Hannah\"\u001b[39m, score = \u001b[32m91\u001b[39m),\n",
       "  \u001b[33mStudent\u001b[39m(sno = \u001b[32m9\u001b[39m, name = \u001b[32m\"Isaac\"\u001b[39m, score = \u001b[32m84\u001b[39m),\n",
       "  \u001b[33mStudent\u001b[39m(sno = \u001b[32m10\u001b[39m, name = \u001b[32m\"Judy\"\u001b[39m, score = \u001b[32m76\u001b[39m),\n",
       "  \u001b[33mStudent\u001b[39m(sno = \u001b[32m11\u001b[39m, name = \u001b[32m\"Kevin\"\u001b[39m, score = \u001b[32m82\u001b[39m),\n",
       "  \u001b[33mStudent\u001b[39m(sno = \u001b[32m12\u001b[39m, name = \u001b[32m\"Laura\"\u001b[39m, score = \u001b[32m79\u001b[39m),\n",
       "  \u001b[33mStudent\u001b[39m(sno = \u001b[32m13\u001b[39m, name = \u001b[32m\"Mike\"\u001b[39m, score = \u001b[32m95\u001b[39m),\n",
       "  \u001b[33mStudent\u001b[39m(sno = \u001b[32m14\u001b[39m, name = \u001b[32m\"Nina\"\u001b[39m, score = \u001b[32m70\u001b[39m),\n",
       "  \u001b[33mStudent\u001b[39m(sno = \u001b[32m15\u001b[39m, name = \u001b[32m\"Oscar\"\u001b[39m, score = \u001b[32m89\u001b[39m),\n",
       "  \u001b[33mStudent\u001b[39m(sno = \u001b[32m16\u001b[39m, name = \u001b[32m\"Paul\"\u001b[39m, score = \u001b[32m80\u001b[39m),\n",
       "  \u001b[33mStudent\u001b[39m(sno = \u001b[32m17\u001b[39m, name = \u001b[32m\"Quinn\"\u001b[39m, score = \u001b[32m77\u001b[39m),\n",
       "  \u001b[33mStudent\u001b[39m(sno = \u001b[32m18\u001b[39m, name = \u001b[32m\"Rachel\"\u001b[39m, score = \u001b[32m93\u001b[39m),\n",
       "  \u001b[33mStudent\u001b[39m(sno = \u001b[32m19\u001b[39m, name = \u001b[32m\"Sam\"\u001b[39m, score = \u001b[32m85\u001b[39m),\n",
       "  \u001b[33mStudent\u001b[39m(sno = \u001b[32m20\u001b[39m, name = \u001b[32m\"Tina\"\u001b[39m, score = \u001b[32m74\u001b[39m),\n",
       "  \u001b[33mStudent\u001b[39m(sno = \u001b[32m21\u001b[39m, name = \u001b[32m\"Uma\"\u001b[39m, score = \u001b[32m69\u001b[39m),\n",
       "  \u001b[33mStudent\u001b[39m(sno = \u001b[32m22\u001b[39m, name = \u001b[32m\"Victor\"\u001b[39m, score = \u001b[32m96\u001b[39m),\n",
       "  \u001b[33mStudent\u001b[39m(sno = \u001b[32m23\u001b[39m, name = \u001b[32m\"Wendy\"\u001b[39m, score = \u001b[32m87\u001b[39m),\n",
       "  \u001b[33mStudent\u001b[39m(sno = \u001b[32m24\u001b[39m, name = \u001b[32m\"Xander\"\u001b[39m, score = \u001b[32m68\u001b[39m),\n",
       "  \u001b[33mStudent\u001b[39m(sno = \u001b[32m25\u001b[39m, name = \u001b[32m\"Yara\"\u001b[39m, score = \u001b[32m94\u001b[39m),\n",
       "  \u001b[33mStudent\u001b[39m(sno = \u001b[32m26\u001b[39m, name = \u001b[32m\"Zane\"\u001b[39m, score = \u001b[32m81\u001b[39m),\n",
       "  \u001b[33mStudent\u001b[39m(sno = \u001b[32m27\u001b[39m, name = \u001b[32m\"Oliver\"\u001b[39m, score = \u001b[32m78\u001b[39m),\n",
       "  \u001b[33mStudent\u001b[39m(sno = \u001b[32m28\u001b[39m, name = \u001b[32m\"Sophia\"\u001b[39m, score = \u001b[32m85\u001b[39m),\n",
       "  \u001b[33mStudent\u001b[39m(sno = \u001b[32m29\u001b[39m, name = \u001b[32m\"Liam\"\u001b[39m, score = \u001b[32m90\u001b[39m),\n",
       "  \u001b[33mStudent\u001b[39m(sno = \u001b[32m30\u001b[39m, name = \u001b[32m\"Mia\"\u001b[39m, score = \u001b[32m83\u001b[39m),\n",
       "  \u001b[33mStudent\u001b[39m(sno = \u001b[32m31\u001b[39m, name = \u001b[32m\"Noah\"\u001b[39m, score = \u001b[32m88\u001b[39m),\n",
       "  \u001b[33mStudent\u001b[39m(sno = \u001b[32m32\u001b[39m, name = \u001b[32m\"Emma\"\u001b[39m, score = \u001b[32m75\u001b[39m),\n",
       "  \u001b[33mStudent\u001b[39m(sno = \u001b[32m33\u001b[39m, name = \u001b[32m\"Ava\"\u001b[39m, score = \u001b[32m92\u001b[39m),\n",
       "  \u001b[33mStudent\u001b[39m(sno = \u001b[32m34\u001b[39m, name = \u001b[32m\"William\"\u001b[39m, score = \u001b[32m86\u001b[39m),\n",
       "  \u001b[33mStudent\u001b[39m(sno = \u001b[32m35\u001b[39m, name = \u001b[32m\"James\"\u001b[39m, score = \u001b[32m91\u001b[39m),\n",
       "  \u001b[33mStudent\u001b[39m(sno = \u001b[32m36\u001b[39m, name = \u001b[32m\"Lucas\"\u001b[39m, score = \u001b[32m72\u001b[39m),\n",
       "  \u001b[33mStudent\u001b[39m(sno = \u001b[32m37\u001b[39m, name = \u001b[32m\"Amelia\"\u001b[39m, score = \u001b[32m79\u001b[39m),\n",
       "  \u001b[33mStudent\u001b[39m(sno = \u001b[32m38\u001b[39m, name = \u001b[32m\"Ella\"\u001b[39m, score = \u001b[32m89\u001b[39m),\n",
       "..."
      ]
     },
     "execution_count": 11,
     "metadata": {},
     "output_type": "execute_result"
    }
   ],
   "source": [
    "val records: Array[Student] = Array(\n",
    "  (1, \"Alice\", 85), (2, \"Bob\", 92), (3, \"Charlie\", 78), (4, \"David\", 66), (5, \"Eve\", 90),\n",
    "  (6, \"Frank\", 73), (7, \"Grace\", 88), (8, \"Hannah\", 91), (9, \"Isaac\", 84), (10, \"Judy\", 76),\n",
    "  (11, \"Kevin\", 82), (12, \"Laura\", 79), (13, \"Mike\", 95), (14, \"Nina\", 70), (15, \"Oscar\", 89),\n",
    "  (16, \"Paul\", 80), (17, \"Quinn\", 77), (18, \"Rachel\", 93), (19, \"Sam\", 85), (20, \"Tina\", 74),\n",
    "  (21, \"Uma\", 69), (22, \"Victor\", 96), (23, \"Wendy\", 87), (24, \"Xander\", 68), (25, \"Yara\", 94),\n",
    "  (26, \"Zane\", 81), (27, \"Oliver\", 78), (28, \"Sophia\", 85), (29, \"Liam\", 90), (30, \"Mia\", 83),\n",
    "  (31, \"Noah\", 88), (32, \"Emma\", 75), (33, \"Ava\", 92), (34, \"William\", 86), (35, \"James\", 91),\n",
    "  (36, \"Lucas\", 72), (37, \"Amelia\", 79), (38, \"Ella\", 89), (39, \"Mason\", 76), (40, \"Logan\", 95),\n",
    "  (41, \"Ethan\", 84), (42, \"Charlotte\", 82), (43, \"Benjamin\", 80), (44, \"Alexander\", 71),\n",
    "  (45, \"Michael\", 88), (46, \"Isabella\", 73), (47, \"Daniel\", 86), (48, \"Elijah\", 81),\n",
    "  (49, \"Matthew\", 79), (50, \"Jackson\", 92)\n",
    ")"
   ]
  },
  {
   "cell_type": "code",
   "execution_count": 12,
   "metadata": {},
   "outputs": [
    {
     "data": {
      "text/plain": [
       "\u001b[36mstudentOpsObj\u001b[39m: \u001b[32mStudentOps\u001b[39m = ammonite.$sess.cmd10$Helper$StudentOps@517bb041\n",
       "\u001b[36mresult\u001b[39m: \u001b[32mList\u001b[39m[\u001b[32mStudent\u001b[39m] = \u001b[33mList\u001b[39m(\n",
       "  \u001b[33mStudent\u001b[39m(sno = \u001b[32m1\u001b[39m, name = \u001b[32m\"Alice\"\u001b[39m, score = \u001b[32m85\u001b[39m),\n",
       "  \u001b[33mStudent\u001b[39m(sno = \u001b[32m19\u001b[39m, name = \u001b[32m\"Sam\"\u001b[39m, score = \u001b[32m85\u001b[39m),\n",
       "  \u001b[33mStudent\u001b[39m(sno = \u001b[32m28\u001b[39m, name = \u001b[32m\"Sophia\"\u001b[39m, score = \u001b[32m85\u001b[39m)\n",
       ")"
      ]
     },
     "execution_count": 12,
     "metadata": {},
     "output_type": "execute_result"
    }
   ],
   "source": [
    "val studentOpsObj = new StudentOps(records)\n",
    "val result = studentOpsObj.filterStudents(x => x.score == 85)"
   ]
  }
 ],
 "metadata": {
  "kernelspec": {
   "display_name": "Scala",
   "language": "scala",
   "name": "scala"
  },
  "language_info": {
   "codemirror_mode": "text/x-scala",
   "file_extension": ".sc",
   "mimetype": "text/x-scala",
   "name": "scala",
   "nbconvert_exporter": "script",
   "version": "2.13.14"
  }
 },
 "nbformat": 4,
 "nbformat_minor": 2
}
