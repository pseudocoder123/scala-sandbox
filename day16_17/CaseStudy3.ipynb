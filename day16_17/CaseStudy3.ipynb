{
 "cells": [
  {
   "cell_type": "code",
   "execution_count": 21,
   "id": "89856a01",
   "metadata": {},
   "outputs": [],
   "source": [
    "import org.apache.spark.sql.functions._\n",
    "import org.apache.spark.sql.Row\n",
    "import org.apache.hadoop.fs.{FileSystem, Path}\n",
    "import org.apache.spark.rdd.RDD\n",
    "import scala.util.matching.Regex\n",
    "import org.apache.spark.sql.types._"
   ]
  },
  {
   "cell_type": "code",
   "execution_count": 22,
   "id": "3b31166e",
   "metadata": {},
   "outputs": [
    {
     "data": {
      "text/plain": [
       "spark = org.apache.spark.sql.SparkSession@42ddb1a5\n"
      ]
     },
     "metadata": {},
     "output_type": "display_data"
    },
    {
     "data": {
      "text/plain": [
       "org.apache.spark.sql.SparkSession@42ddb1a5"
      ]
     },
     "execution_count": 22,
     "metadata": {},
     "output_type": "execute_result"
    }
   ],
   "source": [
    "val spark = SparkSession.builder()\n",
    "      .appName(\"CaseStudy3 - Handling Incomplete Metadata\")\n",
    "      .getOrCreate()"
   ]
  },
  {
   "cell_type": "code",
   "execution_count": 23,
   "id": "8372aaab",
   "metadata": {},
   "outputs": [
    {
     "data": {
      "text/plain": [
       "moviesDataPath = gs://spark-tasks-bucket/day_16_17/movie.csv\n",
       "moviesDF = [movieId: int, title: string ... 1 more field]\n"
      ]
     },
     "metadata": {},
     "output_type": "display_data"
    },
    {
     "data": {
      "text/plain": [
       "[movieId: int, title: string ... 1 more field]"
      ]
     },
     "execution_count": 23,
     "metadata": {},
     "output_type": "execute_result"
    }
   ],
   "source": [
    "val moviesDataPath = \"gs://spark-tasks-bucket/day_16_17/movie.csv\"\n",
    "val moviesDF = spark.read.option(\"header\", \"true\").option(\"inferSchema\", \"true\").csv(moviesDataPath)"
   ]
  },
  {
   "cell_type": "code",
   "execution_count": 24,
   "id": "50522f77",
   "metadata": {},
   "outputs": [
    {
     "data": {
      "text/plain": [
       "moviesRDD = MapPartitionsRDD[15] at map at <console>:44\n"
      ]
     },
     "metadata": {},
     "output_type": "display_data"
    },
    {
     "data": {
      "text/plain": [
       "MapPartitionsRDD[15] at map at <console>:44"
      ]
     },
     "execution_count": 24,
     "metadata": {},
     "output_type": "execute_result"
    }
   ],
   "source": [
    "val moviesRDD = moviesDF.rdd.map {row =>\n",
    "    val movieId = row.getAs[Int](\"movieId\")\n",
    "    val title = row.getAs[String](\"title\")\n",
    "    val genres = row.getAs[String](\"genres\")\n",
    "    \n",
    "    (movieId, title, genres)\n",
    "}"
   ]
  },
  {
   "cell_type": "code",
   "execution_count": 25,
   "id": "718e9c6c",
   "metadata": {},
   "outputs": [
    {
     "data": {
      "text/plain": [
       "standardReleaseYear = 9999\n"
      ]
     },
     "metadata": {},
     "output_type": "display_data"
    },
    {
     "data": {
      "text/plain": [
       "9999"
      ]
     },
     "execution_count": 25,
     "metadata": {},
     "output_type": "execute_result"
    }
   ],
   "source": [
    "val standardReleaseYear = 9999"
   ]
  },
  {
   "cell_type": "code",
   "execution_count": 26,
   "id": "9589014c",
   "metadata": {},
   "outputs": [
    {
     "data": {
      "text/plain": [
       "metadataRDD = MapPartitionsRDD[16] at map at <console>:59\n"
      ]
     },
     "metadata": {},
     "output_type": "display_data"
    },
    {
     "data": {
      "text/plain": [
       "extractYear: (title: String)Int\n"
      ]
     },
     "metadata": {},
     "output_type": "display_data"
    },
    {
     "data": {
      "text/plain": [
       "MapPartitionsRDD[16] at map at <console>:59"
      ]
     },
     "execution_count": 26,
     "metadata": {},
     "output_type": "execute_result"
    }
   ],
   "source": [
    "// Extract the release years and save it as metadata.json in gs\n",
    "\n",
    "def extractYear(title: String): Int = {\n",
    "    val lastIndexOfOpenParen = title.lastIndexOf(\"(\")\n",
    "    val lastIndexOfCloseParen = title.lastIndexOf(\")\")\n",
    "    \n",
    "    if (lastIndexOfOpenParen != -1 && lastIndexOfCloseParen != -1) {\n",
    "        val yearCandidate = title.substring(lastIndexOfOpenParen + 1, lastIndexOfCloseParen)\n",
    "        if (yearCandidate.forall(_.isDigit) && yearCandidate.length == 4) yearCandidate.toInt \n",
    "        else standardReleaseYear\n",
    "    } else standardReleaseYear\n",
    "}\n",
    "\n",
    "val metadataRDD: RDD[(Integer, Integer)] = moviesRDD.map { case (movieId, title, genres) =>\n",
    "  val year = extractYear(title)\n",
    "  (movieId, year)\n",
    "}"
   ]
  },
  {
   "cell_type": "code",
   "execution_count": 27,
   "id": "4ff28565",
   "metadata": {},
   "outputs": [
    {
     "data": {
      "text/plain": [
       "metadataDF = [movieId: int, releaseYear: int]\n"
      ]
     },
     "metadata": {},
     "output_type": "display_data"
    },
    {
     "data": {
      "text/plain": [
       "[movieId: int, releaseYear: int]"
      ]
     },
     "execution_count": 27,
     "metadata": {},
     "output_type": "execute_result"
    }
   ],
   "source": [
    "val metadataDF = metadataRDD.toDF(\"movieId\", \"releaseYear\")"
   ]
  },
  {
   "cell_type": "code",
   "execution_count": 30,
   "id": "abc59049",
   "metadata": {},
   "outputs": [
    {
     "name": "stdout",
     "output_type": "stream",
     "text": [
      "+-------+-----------+\n",
      "|movieId|releaseYear|\n",
      "+-------+-----------+\n",
      "|  40697|       9999|\n",
      "|  79607|       9999|\n",
      "|  87442|       9999|\n",
      "|  98063|       9999|\n",
      "| 107434|       9999|\n",
      "| 108548|       9999|\n",
      "| 108583|       9999|\n",
      "| 112406|       9999|\n",
      "| 113190|       9999|\n",
      "| 115133|       9999|\n",
      "| 115685|       9999|\n",
      "| 125571|       9999|\n",
      "| 125632|       9999|\n",
      "| 125958|       9999|\n",
      "| 126438|       9999|\n",
      "| 126929|       9999|\n",
      "| 127005|       9999|\n",
      "| 128612|       9999|\n",
      "| 128734|       9999|\n",
      "| 129651|       9999|\n",
      "+-------+-----------+\n",
      "only showing top 20 rows\n",
      "\n"
     ]
    }
   ],
   "source": [
    "metadataDF.filter(col(\"releaseYear\") === 9999).show()"
   ]
  },
  {
   "cell_type": "code",
   "execution_count": 31,
   "id": "bc525a62",
   "metadata": {},
   "outputs": [],
   "source": [
    "metadataDF.coalesce(1).write.mode(\"overwrite\").json(\"gs://spark-tasks-bucket/day_16_17/metadata\")"
   ]
  },
  {
   "cell_type": "code",
   "execution_count": 32,
   "id": "a58a753b",
   "metadata": {},
   "outputs": [
    {
     "data": {
      "text/plain": [
       "metadataJsonDF = [movieId: bigint, releaseYear: bigint]\n"
      ]
     },
     "metadata": {},
     "output_type": "display_data"
    },
    {
     "data": {
      "text/plain": [
       "[movieId: bigint, releaseYear: bigint]"
      ]
     },
     "execution_count": 32,
     "metadata": {},
     "output_type": "execute_result"
    }
   ],
   "source": [
    "// Read the metadata json\n",
    "\n",
    "val metadataJsonDF = spark.read.json(\"gs://spark-tasks-bucket/day_16_17/metadata\")"
   ]
  },
  {
   "cell_type": "code",
   "execution_count": 36,
   "id": "67050d9e",
   "metadata": {},
   "outputs": [
    {
     "name": "stdout",
     "output_type": "stream",
     "text": [
      "+-------+-----------+\n",
      "|movieId|releaseYear|\n",
      "+-------+-----------+\n",
      "+-------+-----------+\n",
      "\n"
     ]
    }
   ],
   "source": [
    "metadataJsonDF.filter(col(\"releaseYear\").isNull).show()"
   ]
  },
  {
   "cell_type": "code",
   "execution_count": 37,
   "id": "8e7a7d06",
   "metadata": {},
   "outputs": [
    {
     "data": {
      "text/plain": [
       "metadataJsonRDD = MapPartitionsRDD[42] at map at <console>:44\n"
      ]
     },
     "metadata": {},
     "output_type": "display_data"
    },
    {
     "data": {
      "text/plain": [
       "MapPartitionsRDD[42] at map at <console>:44"
      ]
     },
     "execution_count": 37,
     "metadata": {},
     "output_type": "execute_result"
    }
   ],
   "source": [
    "val metadataJsonRDD = metadataJsonDF.rdd.map { row =>\n",
    "    val movieId = row.getAs[Long](\"movieId\").toInt\n",
    "    val releaseYear = row.getAs[Long](\"releaseYear\").toInt\n",
    "    \n",
    "    (movieId, releaseYear)\n",
    "}"
   ]
  },
  {
   "cell_type": "code",
   "execution_count": 39,
   "id": "f1432d53",
   "metadata": {},
   "outputs": [
    {
     "data": {
      "text/plain": [
       "joinedRDD = MapPartitionsRDD[50] at join at <console>:48\n"
      ]
     },
     "metadata": {},
     "output_type": "display_data"
    },
    {
     "data": {
      "text/plain": [
       "MapPartitionsRDD[50] at join at <console>:48"
      ]
     },
     "execution_count": 39,
     "metadata": {},
     "output_type": "execute_result"
    }
   ],
   "source": [
    "// Join\n",
    "\n",
    "val joinedRDD = moviesRDD.map{ case (movieId, title, genres) => (movieId, (title, genres)) }\n",
    "                         .join(metadataJsonRDD)"
   ]
  },
  {
   "cell_type": "code",
   "execution_count": 45,
   "id": "a6d25d34",
   "metadata": {},
   "outputs": [
    {
     "data": {
      "text/plain": [
       "joinedDF = [movieId: int, title: string ... 2 more fields]\n"
      ]
     },
     "metadata": {},
     "output_type": "display_data"
    },
    {
     "data": {
      "text/plain": [
       "[movieId: int, title: string ... 2 more fields]"
      ]
     },
     "execution_count": 45,
     "metadata": {},
     "output_type": "execute_result"
    }
   ],
   "source": [
    "val joinedDF = joinedRDD.map { case(movieId, ((title, genre), release)) =>\n",
    "    if(release != 9999) (movieId, title, genre, release)\n",
    "    else (movieId, s\"$title (9999)\", genre, release)\n",
    "}.toDF(\"movieId\", \"title\", \"genre\", \"releaseYear\")"
   ]
  },
  {
   "cell_type": "code",
   "execution_count": 46,
   "id": "d485f3c0",
   "metadata": {},
   "outputs": [
    {
     "name": "stdout",
     "output_type": "stream",
     "text": [
      "+-------+-----+-----+-----------+\n",
      "|movieId|title|genre|releaseYear|\n",
      "+-------+-----+-----+-----------+\n",
      "+-------+-----+-----+-----------+\n",
      "\n"
     ]
    }
   ],
   "source": [
    "joinedDF.filter(col(\"releaseYear\").isNull).show()"
   ]
  },
  {
   "cell_type": "code",
   "execution_count": 47,
   "id": "524fd5f4",
   "metadata": {},
   "outputs": [
    {
     "data": {
      "text/plain": [
       "output_path = hdfs:///user/day_16_17/case_study_3\n"
      ]
     },
     "metadata": {},
     "output_type": "display_data"
    },
    {
     "data": {
      "text/plain": [
       "hdfs:///user/day_16_17/case_study_3"
      ]
     },
     "execution_count": 47,
     "metadata": {},
     "output_type": "execute_result"
    }
   ],
   "source": [
    "val output_path = \"hdfs:///user/day_16_17/case_study_3\"\n",
    "joinedDF.write.mode(\"overwrite\").parquet(output_path)"
   ]
  },
  {
   "cell_type": "code",
   "execution_count": null,
   "id": "c8a7832e",
   "metadata": {},
   "outputs": [],
   "source": []
  },
  {
   "cell_type": "code",
   "execution_count": 48,
   "id": "7b72da1b",
   "metadata": {
    "scrolled": true
   },
   "outputs": [
    {
     "name": "stdout",
     "output_type": "stream",
     "text": [
      "+-------+--------------------+--------------------+-----------+\n",
      "|movieId|               title|               genre|releaseYear|\n",
      "+-------+--------------------+--------------------+-----------+\n",
      "| 113843|Killing Us Softly...|         Documentary|       2010|\n",
      "| 103301|   Liz & Dick (2012)|               Drama|       2012|\n",
      "| 110163|  Aujourd'hui (2012)|               Drama|       2012|\n",
      "|  91902|        Elena (2011)|               Drama|       2011|\n",
      "|  68522|        Earth (2007)|         Documentary|       2007|\n",
      "| 111517|10.000 Km (Long D...|       Drama|Romance|       2014|\n",
      "| 100306|       Angst  (1983)|        Drama|Horror|       1983|\n",
      "|   5354|Cactus Flower (1969)|              Comedy|       1969|\n",
      "|   4926|Everybody's Famou...|Comedy|Drama|Musical|       2000|\n",
      "| 100494| Incir Reçeli (2011)|       Drama|Romance|       2011|\n",
      "| 117509| City Slacker (2012)|             Romance|       2012|\n",
      "|   4992|Kate & Leopold (2...|      Comedy|Romance|       2001|\n",
      "|  92477|Yes: 9012 Live (1...| Documentary|Musical|       1985|\n",
      "|  48389|Iraq for Sale: Th...|         Documentary|       2006|\n",
      "|  71444|Thirst (Pyaasa) (...|Drama|Musical|Rom...|       1957|\n",
      "| 107756|     A.C.O.D. (2013)|              Comedy|       2013|\n",
      "| 104815|Bad Men of Missou...|Action|Romance|We...|       1941|\n",
      "|   1780|Ayn Rand: A Sense...|         Documentary|       1997|\n",
      "| 109173|  Storm Rider (2013)|               Drama|       2013|\n",
      "|   2117|1984 (Nineteen Ei...|        Drama|Sci-Fi|       1984|\n",
      "+-------+--------------------+--------------------+-----------+\n",
      "only showing top 20 rows\n",
      "\n"
     ]
    }
   ],
   "source": [
    "// Try reading this data\n",
    "spark.read.parquet(output_path).show(20)"
   ]
  },
  {
   "cell_type": "code",
   "execution_count": 49,
   "id": "5a44501f",
   "metadata": {},
   "outputs": [
    {
     "name": "stdout",
     "output_type": "stream",
     "text": [
      "+-------+--------------------+--------------------+-----------+\n",
      "|movieId|               title|               genre|releaseYear|\n",
      "+-------+--------------------+--------------------+-----------+\n",
      "| 126929|Li'l Quinquin (9999)|  (no genres listed)|       9999|\n",
      "| 126438|Two: The Story of...|   Documentary|Drama|       9999|\n",
      "| 125571|The Court-Martial...|  (no genres listed)|       9999|\n",
      "| 112406|Brazil: In the Sh...|         Documentary|       9999|\n",
      "|  98063|Mona and the Time...|               Drama|       9999|\n",
      "|  40697|    Babylon 5 (9999)|              Sci-Fi|       9999|\n",
      "| 128734|Polskie gówno (9999)|      Comedy|Musical|       9999|\n",
      "| 113190|Slaying the Badge...|         Documentary|       9999|\n",
      "| 128612|   Body/Cialo (9999)|Comedy|Drama|Mystery|       9999|\n",
      "| 125958|Stephen Fry In Am...|  (no genres listed)|       9999|\n",
      "| 125632|In Our Garden (9999)|  (no genres listed)|       9999|\n",
      "| 129651|The Third Reich: ...|  (no genres listed)|       9999|\n",
      "| 108583|Fawlty Towers (19...|              Comedy|       9999|\n",
      "| 127005|A Year Along the ...|  (no genres listed)|       9999|\n",
      "| 129705|   My Own Man (9999)|  (no genres listed)|       9999|\n",
      "|  79607|Millions Game, Th...|Action|Drama|Sci-...|       9999|\n",
      "| 129887|  Moving Alan (9999)|  (no genres listed)|       9999|\n",
      "| 108548|Big Bang Theory, ...|              Comedy|       9999|\n",
      "| 115133|Tatort: Im Schmer...|               Crime|       9999|\n",
      "| 130454|Michael Laudrup -...|  (no genres listed)|       9999|\n",
      "+-------+--------------------+--------------------+-----------+\n",
      "only showing top 20 rows\n",
      "\n"
     ]
    }
   ],
   "source": [
    "spark.read.parquet(output_path).filter(col(\"releaseYear\") === 9999).show(20)"
   ]
  },
  {
   "cell_type": "code",
   "execution_count": 50,
   "id": "d6f8f241",
   "metadata": {},
   "outputs": [
    {
     "data": {
      "text/plain": [
       "Waiting for a Spark session to start..."
      ]
     },
     "metadata": {},
     "output_type": "display_data"
    }
   ],
   "source": [
    "spark.stop()"
   ]
  }
 ],
 "metadata": {
  "kernelspec": {
   "display_name": "Apache Toree - Scala",
   "language": "scala",
   "name": "apache_toree_scala"
  },
  "language_info": {
   "codemirror_mode": "text/x-scala",
   "file_extension": ".scala",
   "mimetype": "text/x-scala",
   "name": "scala",
   "pygments_lexer": "scala",
   "version": "2.12.15"
  }
 },
 "nbformat": 4,
 "nbformat_minor": 5
}