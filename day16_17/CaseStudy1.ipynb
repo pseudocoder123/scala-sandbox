{
 "cells": [
  {
   "cell_type": "code",
   "execution_count": 1,
   "id": "2f194ff2",
   "metadata": {},
   "outputs": [],
   "source": [
    "// Import statements\n",
    "import org.apache.spark.sql.functions._\n",
    "import org.apache.spark.sql.Row"
   ]
  },
  {
   "cell_type": "code",
   "execution_count": 2,
   "id": "508b9734",
   "metadata": {},
   "outputs": [
    {
     "data": {
      "text/plain": [
       "spark = org.apache.spark.sql.SparkSession@75f04fe1\n"
      ]
     },
     "metadata": {},
     "output_type": "display_data"
    },
    {
     "data": {
      "text/plain": [
       "org.apache.spark.sql.SparkSession@75f04fe1"
      ]
     },
     "execution_count": 2,
     "metadata": {},
     "output_type": "execute_result"
    }
   ],
   "source": [
    "// Create SparkSession\n",
    "val spark = SparkSession.builder()\n",
    "      .appName(\"CaseStudy1 - Genre-Specific Data Aggregation Pipeline\")\n",
    "      .getOrCreate()"
   ]
  },
  {
   "cell_type": "code",
   "execution_count": 3,
   "id": "aa1ff763",
   "metadata": {},
   "outputs": [
    {
     "data": {
      "text/plain": [
       "moviesDataPath = gs://spark-tasks-bucket/day_16_17/movie.csv\n",
       "moviesDF = [movieId: int, title: string ... 1 more field]\n"
      ]
     },
     "metadata": {},
     "output_type": "display_data"
    },
    {
     "data": {
      "text/plain": [
       "[movieId: int, title: string ... 1 more field]"
      ]
     },
     "execution_count": 3,
     "metadata": {},
     "output_type": "execute_result"
    }
   ],
   "source": [
    "// Read movies data from GCP bucket\n",
    "\n",
    "val moviesDataPath = \"gs://spark-tasks-bucket/day_16_17/movie.csv\"\n",
    "val moviesDF = spark.read.option(\"header\", \"true\").option(\"inferSchema\", \"true\").csv(moviesDataPath)"
   ]
  },
  {
   "cell_type": "code",
   "execution_count": 4,
   "id": "b6fa2d2c",
   "metadata": {},
   "outputs": [
    {
     "data": {
      "text/plain": [
       "[userId: int, movieId: int ... 2 more fields]"
      ]
     },
     "execution_count": 4,
     "metadata": {},
     "output_type": "execute_result"
    },
    {
     "data": {
      "text/plain": [
       "ratingsDataPath = gs://spark-tasks-bucket/day_16_17/rating.csv\n",
       "ratingsDF = [userId: int, movieId: int ... 2 more fields]\n"
      ]
     },
     "metadata": {},
     "output_type": "display_data"
    }
   ],
   "source": [
    "// Read ratings data from GCP bucket\n",
    "\n",
    "val ratingsDataPath = \"gs://spark-tasks-bucket/day_16_17/rating.csv\"\n",
    "val ratingsDF = spark.read.option(\"header\", \"true\").option(\"inferSchema\", \"true\").csv(ratingsDataPath)"
   ]
  },
  {
   "cell_type": "code",
   "execution_count": 5,
   "id": "88cdc31c",
   "metadata": {},
   "outputs": [
    {
     "data": {
      "text/plain": [
       "movieGenreDF = [movieId: int, title: string ... 1 more field]\n"
      ]
     },
     "metadata": {},
     "output_type": "display_data"
    },
    {
     "data": {
      "text/plain": [
       "[movieId: int, title: string ... 1 more field]"
      ]
     },
     "execution_count": 5,
     "metadata": {},
     "output_type": "execute_result"
    }
   ],
   "source": [
    "val movieGenreDF = moviesDF.withColumn(\"genre\", explode(split(col(\"genres\"), \"\\\\|\")))\n",
    "                            .select(\"movieId\", \"title\", \"genre\")"
   ]
  },
  {
   "cell_type": "code",
   "execution_count": 6,
   "id": "1aac4d33",
   "metadata": {},
   "outputs": [
    {
     "name": "stdout",
     "output_type": "stream",
     "text": [
      "+------------------+\n",
      "|             genre|\n",
      "+------------------+\n",
      "|           Mystery|\n",
      "|           Musical|\n",
      "|            Action|\n",
      "|           Romance|\n",
      "|          Thriller|\n",
      "|           Fantasy|\n",
      "|         Animation|\n",
      "|         Film-Noir|\n",
      "|              IMAX|\n",
      "|            Sci-Fi|\n",
      "|             Drama|\n",
      "|       Documentary|\n",
      "|(no genres listed)|\n",
      "|           Western|\n",
      "|            Comedy|\n",
      "|             Crime|\n",
      "|               War|\n",
      "|          Children|\n",
      "|         Adventure|\n",
      "|            Horror|\n",
      "+------------------+\n",
      "\n"
     ]
    },
    {
     "data": {
      "text/plain": [
       "genres = ()\n"
      ]
     },
     "metadata": {},
     "output_type": "display_data"
    },
    {
     "data": {
      "text/plain": [
       "()"
      ]
     },
     "execution_count": 6,
     "metadata": {},
     "output_type": "execute_result"
    }
   ],
   "source": [
    "val genres = movieGenreDF.select(\"genre\").distinct().show()"
   ]
  },
  {
   "cell_type": "code",
   "execution_count": 7,
   "id": "4f80a11b",
   "metadata": {},
   "outputs": [
    {
     "data": {
      "text/plain": [
       "updatedMovieGenreDF = [movieId: int, title: string ... 1 more field]\n"
      ]
     },
     "metadata": {},
     "output_type": "display_data"
    },
    {
     "data": {
      "text/plain": [
       "[movieId: int, title: string ... 1 more field]"
      ]
     },
     "execution_count": 7,
     "metadata": {},
     "output_type": "execute_result"
    }
   ],
   "source": [
    "// Here the genres [(no genres listed), IMAX] are not the actual genres and Sci-Fi converted to Science Fiction\n",
    "\n",
    "val updatedMovieGenreDF = movieGenreDF.withColumn(\"genre\", trim($\"genre\"))\n",
    "                                .filter(!$\"genre\".isin(\"IMAX\", \"(no genres listed)\"))\n",
    "                                .withColumn(\n",
    "                                    \"genre\", \n",
    "                                    when($\"genre\" === \"Sci-Fi\", \"Science Fiction\").otherwise($\"genre\")\n",
    "                                 ) "
   ]
  },
  {
   "cell_type": "code",
   "execution_count": 8,
   "id": "e516f6da",
   "metadata": {},
   "outputs": [
    {
     "name": "stdout",
     "output_type": "stream",
     "text": [
      "+---------------+\n",
      "|          genre|\n",
      "+---------------+\n",
      "|        Mystery|\n",
      "|        Musical|\n",
      "|         Action|\n",
      "|        Romance|\n",
      "|       Thriller|\n",
      "|        Fantasy|\n",
      "|      Animation|\n",
      "|      Film-Noir|\n",
      "|          Drama|\n",
      "|    Documentary|\n",
      "|Science Fiction|\n",
      "|        Western|\n",
      "|         Comedy|\n",
      "|          Crime|\n",
      "|            War|\n",
      "|       Children|\n",
      "|      Adventure|\n",
      "|         Horror|\n",
      "+---------------+\n",
      "\n"
     ]
    },
    {
     "data": {
      "text/plain": [
       "updatedGenres = ()\n"
      ]
     },
     "metadata": {},
     "output_type": "display_data"
    },
    {
     "data": {
      "text/plain": [
       "()"
      ]
     },
     "execution_count": 8,
     "metadata": {},
     "output_type": "execute_result"
    }
   ],
   "source": [
    "val updatedGenres = updatedMovieGenreDF.select(\"genre\").distinct().show()"
   ]
  },
  {
   "cell_type": "code",
   "execution_count": 9,
   "id": "14f8408b",
   "metadata": {},
   "outputs": [
    {
     "data": {
      "text/plain": [
       "joinedRDD = [genre: string, rating: double]\n"
      ]
     },
     "metadata": {},
     "output_type": "display_data"
    },
    {
     "data": {
      "text/plain": [
       "[genre: string, rating: double]"
      ]
     },
     "execution_count": 9,
     "metadata": {},
     "output_type": "execute_result"
    }
   ],
   "source": [
    "val joinedRDD = ratingsDF.join(\n",
    "                            updatedMovieGenreDF, \n",
    "                            ratingsDF(\"movieId\") === updatedMovieGenreDF(\"movieId\"), \n",
    "                            \"inner\")\n",
    "                         .select(\"genre\", \"rating\")"
   ]
  },
  {
   "cell_type": "code",
   "execution_count": 10,
   "id": "a75f4da6",
   "metadata": {},
   "outputs": [
    {
     "data": {
      "text/plain": [
       "genreRatingsRDD = MapPartitionsRDD[44] at map at <console>:28\n"
      ]
     },
     "metadata": {},
     "output_type": "display_data"
    },
    {
     "data": {
      "text/plain": [
       "MapPartitionsRDD[44] at map at <console>:28"
      ]
     },
     "execution_count": 10,
     "metadata": {},
     "output_type": "execute_result"
    }
   ],
   "source": [
    "val genreRatingsRDD = joinedRDD.rdd.map { case Row(genre: String, rating: Double) => (genre, (rating, 1)) }"
   ]
  },
  {
   "cell_type": "code",
   "execution_count": 11,
   "id": "6293fe37",
   "metadata": {},
   "outputs": [
    {
     "data": {
      "text/plain": [
       "reducedRDD = ShuffledRDD[45] at reduceByKey at <console>:28\n"
      ]
     },
     "metadata": {},
     "output_type": "display_data"
    },
    {
     "data": {
      "text/plain": [
       "ShuffledRDD[45] at reduceByKey at <console>:28"
      ]
     },
     "execution_count": 11,
     "metadata": {},
     "output_type": "execute_result"
    }
   ],
   "source": [
    "val reducedRDD = genreRatingsRDD.reduceByKey { case ((r1, c1), (r2, c2)) => (r1 + r2, c1 + c2) }"
   ]
  },
  {
   "cell_type": "code",
   "execution_count": 12,
   "id": "7490ef57",
   "metadata": {},
   "outputs": [
    {
     "data": {
      "text/plain": [
       "averageRDD = MapPartitionsRDD[46] at mapValues at <console>:28\n"
      ]
     },
     "metadata": {},
     "output_type": "display_data"
    },
    {
     "data": {
      "text/plain": [
       "MapPartitionsRDD[46] at mapValues at <console>:28"
      ]
     },
     "execution_count": 12,
     "metadata": {},
     "output_type": "execute_result"
    }
   ],
   "source": [
    "val averageRDD = reducedRDD.mapValues{ case (sum, count) => sum / count }"
   ]
  },
  {
   "cell_type": "code",
   "execution_count": 13,
   "id": "bf784e54",
   "metadata": {},
   "outputs": [
    {
     "data": {
      "text/plain": [
       "averageDF = [genre: string, average_rating: double]\n"
      ]
     },
     "metadata": {},
     "output_type": "display_data"
    },
    {
     "data": {
      "text/plain": [
       "[genre: string, average_rating: double]"
      ]
     },
     "execution_count": 13,
     "metadata": {},
     "output_type": "execute_result"
    }
   ],
   "source": [
    "val averageDF = averageRDD.toDF(\"genre\", \"average_rating\")"
   ]
  },
  {
   "cell_type": "code",
   "execution_count": 14,
   "id": "30d6cf06",
   "metadata": {},
   "outputs": [
    {
     "name": "stdout",
     "output_type": "stream",
     "text": [
      "+---------+------------------+\n",
      "|    genre|    average_rating|\n",
      "+---------+------------------+\n",
      "|  Fantasy|3.5059453358738244|\n",
      "|   Action|  3.44386376493354|\n",
      "| Children|3.4081137685270444|\n",
      "|  Mystery| 3.663508921312903|\n",
      "|  Romance| 3.541802581902903|\n",
      "|Film-Noir|  3.96538126070082|\n",
      "|  Western|3.5704980246109406|\n",
      "|  Musical| 3.558090628821412|\n",
      "|   Horror|3.2772238097518307|\n",
      "| Thriller|  3.50711121809216|\n",
      "+---------+------------------+\n",
      "only showing top 10 rows\n",
      "\n"
     ]
    }
   ],
   "source": [
    "averageDF.show(10)"
   ]
  },
  {
   "cell_type": "code",
   "execution_count": 15,
   "id": "70e8fe25",
   "metadata": {},
   "outputs": [
    {
     "data": {
      "text/plain": [
       "hdfs:///user/day_16_17/case_study_1"
      ]
     },
     "execution_count": 15,
     "metadata": {},
     "output_type": "execute_result"
    },
    {
     "data": {
      "text/plain": [
       "output_path = hdfs:///user/day_16_17/case_study_1\n"
      ]
     },
     "metadata": {},
     "output_type": "display_data"
    }
   ],
   "source": [
    "val output_path = \"hdfs:///user/day_16_17/case_study_1\"\n",
    "averageDF.write.mode(\"overwrite\").parquet(output_path)"
   ]
  },
  {
   "cell_type": "code",
   "execution_count": null,
   "id": "53b57193",
   "metadata": {},
   "outputs": [],
   "source": []
  },
  {
   "cell_type": "code",
   "execution_count": 16,
   "id": "002086db",
   "metadata": {},
   "outputs": [
    {
     "name": "stdout",
     "output_type": "stream",
     "text": [
      "+---------------+------------------+\n",
      "|          genre|    average_rating|\n",
      "+---------------+------------------+\n",
      "|        Western|3.5704980246109406|\n",
      "|        Musical| 3.558090628821412|\n",
      "|         Horror|3.2772238097518307|\n",
      "|       Thriller|  3.50711121809216|\n",
      "|      Adventure|3.5018926565473865|\n",
      "|       Children|3.4081137685270444|\n",
      "|        Mystery| 3.663508921312903|\n",
      "|        Romance| 3.541802581902903|\n",
      "|      Film-Noir|  3.96538126070082|\n",
      "|            War|3.8095307347384844|\n",
      "|Science Fiction|3.4367726714455005|\n",
      "|          Crime|3.6745276025631113|\n",
      "|      Animation|3.6174939235897994|\n",
      "|    Documentary|3.7397176834178865|\n",
      "|          Drama|3.6742955093068264|\n",
      "|        Fantasy|3.5059453358738244|\n",
      "|         Action|  3.44386376493354|\n",
      "|         Comedy|3.4260113054324886|\n",
      "+---------------+------------------+\n",
      "\n"
     ]
    }
   ],
   "source": [
    "// Try reading the data\n",
    "spark.read.parquet(output_path).show()"
   ]
  },
  {
   "cell_type": "code",
   "execution_count": 17,
   "id": "7db4c0d3",
   "metadata": {},
   "outputs": [],
   "source": [
    "spark.stop()"
   ]
  }
 ],
 "metadata": {
  "kernelspec": {
   "display_name": "Apache Toree - Scala",
   "language": "scala",
   "name": "apache_toree_scala"
  },
  "language_info": {
   "codemirror_mode": "text/x-scala",
   "file_extension": ".scala",
   "mimetype": "text/x-scala",
   "name": "scala",
   "pygments_lexer": "scala",
   "version": "2.12.15"
  }
 },
 "nbformat": 4,
 "nbformat_minor": 5
}