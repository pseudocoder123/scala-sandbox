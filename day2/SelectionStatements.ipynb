{
 "cells": [
  {
   "cell_type": "markdown",
   "metadata": {},
   "source": [
    "## Selection Statements"
   ]
  },
  {
   "cell_type": "markdown",
   "metadata": {},
   "source": [
    "Selection statements(conditional statement) control the flow of execution based on specified conditions. These refer to choosing a single pathway among several options based on conditions."
   ]
  },
  {
   "cell_type": "code",
   "execution_count": 1,
   "metadata": {},
   "outputs": [
    {
     "name": "stdout",
     "output_type": "stream",
     "text": [
      "You are an adult.\n",
      "Ready to vote...\n",
      "Grade: A\n",
      "Wednesday\n"
     ]
    },
    {
     "data": {
      "text/plain": [
       "\u001b[36mage\u001b[39m: \u001b[32mInt\u001b[39m = \u001b[32m20\u001b[39m\n",
       "\u001b[36mscore\u001b[39m: \u001b[32mInt\u001b[39m = \u001b[32m95\u001b[39m\n",
       "\u001b[36mday\u001b[39m: \u001b[32mInt\u001b[39m = \u001b[32m3\u001b[39m\n",
       "\u001b[36mdayName\u001b[39m: \u001b[32mString\u001b[39m = \u001b[32m\"Wednesday\"\u001b[39m"
      ]
     },
     "execution_count": 1,
     "metadata": {},
     "output_type": "execute_result"
    }
   ],
   "source": [
    "// If statement\n",
    "val age = 20\n",
    "if (age >= 18) {\n",
    "  println(\"You are an adult.\")\n",
    "}\n",
    "\n",
    "// If-else statements\n",
    "if(age >= 18){\n",
    "    println(\"Ready to vote...\")\n",
    "}\n",
    "else{\n",
    "    println(\"Minor\")\n",
    "}\n",
    "\n",
    "// if-else if-else statements\n",
    "val score = 95\n",
    "if(score >= 80){\n",
    "    println(\"Grade: A\")\n",
    "}\n",
    "else if(score >= 50){\n",
    "    println(\"Grade: B\")\n",
    "}\n",
    "else{\n",
    "    println(\"Grade: C\")\n",
    "}\n",
    "\n",
    "// match statement\n",
    "val day = 3\n",
    "val dayName = day match {\n",
    "    case 1 => \"Monday\"\n",
    "    case 2 => \"Tuesday\"\n",
    "    case 3 => \"Wednesday\"\n",
    "    case 4 => \"Thursday\"\n",
    "    case 5 => \"Friday\"\n",
    "    case 6 => \"Saturday\"\n",
    "    case 7 => \"Sunday\"\n",
    "    case _ => \"Invalid day\" // default case\n",
    "}\n",
    "println(dayName)"
   ]
  }
 ],
 "metadata": {
  "kernelspec": {
   "display_name": "Scala",
   "language": "scala",
   "name": "scala"
  },
  "language_info": {
   "codemirror_mode": "text/x-scala",
   "file_extension": ".sc",
   "mimetype": "text/x-scala",
   "name": "scala",
   "nbconvert_exporter": "script",
   "version": "2.13.14"
  }
 },
 "nbformat": 4,
 "nbformat_minor": 2
}
