{
 "cells": [
  {
   "cell_type": "markdown",
   "metadata": {},
   "source": [
    "## Basic Collections"
   ]
  },
  {
   "cell_type": "markdown",
   "metadata": {},
   "source": [
    "### Immutable Collections"
   ]
  },
  {
   "cell_type": "markdown",
   "metadata": {},
   "source": [
    "* List"
   ]
  },
  {
   "cell_type": "code",
   "execution_count": 1,
   "metadata": {},
   "outputs": [
    {
     "data": {
      "text/plain": [
       "\u001b[36mnumbers\u001b[39m: \u001b[32mList\u001b[39m[\u001b[32mInt\u001b[39m] = \u001b[33mList\u001b[39m(\u001b[32m1\u001b[39m, \u001b[32m2\u001b[39m, \u001b[32m3\u001b[39m, \u001b[32m4\u001b[39m, \u001b[32m5\u001b[39m)\n",
       "\u001b[36memptyList\u001b[39m: \u001b[32mList\u001b[39m[\u001b[32mInt\u001b[39m] = \u001b[33mList\u001b[39m()\n",
       "\u001b[36mfirstElement\u001b[39m: \u001b[32mInt\u001b[39m = \u001b[32m1\u001b[39m\n",
       "\u001b[36mlastElement\u001b[39m: \u001b[32mInt\u001b[39m = \u001b[32m5\u001b[39m\n",
       "\u001b[36msecondElement\u001b[39m: \u001b[32mInt\u001b[39m = \u001b[32m2\u001b[39m\n",
       "\u001b[36mprepended\u001b[39m: \u001b[32mList\u001b[39m[\u001b[32mInt\u001b[39m] = \u001b[33mList\u001b[39m(\u001b[32m0\u001b[39m, \u001b[32m1\u001b[39m, \u001b[32m2\u001b[39m, \u001b[32m3\u001b[39m, \u001b[32m4\u001b[39m, \u001b[32m5\u001b[39m)\n",
       "\u001b[36mappended\u001b[39m: \u001b[32mList\u001b[39m[\u001b[32mInt\u001b[39m] = \u001b[33mList\u001b[39m(\u001b[32m1\u001b[39m, \u001b[32m2\u001b[39m, \u001b[32m3\u001b[39m, \u001b[32m4\u001b[39m, \u001b[32m5\u001b[39m, \u001b[32m6\u001b[39m)\n",
       "\u001b[36mconcatenated\u001b[39m: \u001b[32mList\u001b[39m[\u001b[32mInt\u001b[39m] = \u001b[33mList\u001b[39m(\u001b[32m1\u001b[39m, \u001b[32m2\u001b[39m, \u001b[32m3\u001b[39m, \u001b[32m4\u001b[39m, \u001b[32m5\u001b[39m, \u001b[32m6\u001b[39m, \u001b[32m7\u001b[39m)"
      ]
     },
     "execution_count": 1,
     "metadata": {},
     "output_type": "execute_result"
    }
   ],
   "source": [
    "val numbers = List(1, 2, 3, 4, 5)\n",
    "val emptyList = List.empty[Int]\n",
    "\n",
    "// Accessing elements\n",
    "val firstElement = numbers.head \n",
    "val lastElement = numbers.last\n",
    "val secondElement = numbers(1)\n",
    "\n",
    "// Adding an element\n",
    "val prepended = 0 +: numbers  \n",
    "val appended = numbers :+ 6 \n",
    "val concatenated = numbers ++ List(6, 7)\n",
    "\n",
    "// val numbers = 0 +: numbers // throws error as lists are immutable"
   ]
  },
  {
   "cell_type": "markdown",
   "metadata": {},
   "source": [
    "* Set"
   ]
  },
  {
   "cell_type": "code",
   "execution_count": 2,
   "metadata": {},
   "outputs": [
    {
     "data": {
      "text/plain": [
       "\u001b[36muniqueNumbers\u001b[39m: \u001b[32mSet\u001b[39m[\u001b[32mInt\u001b[39m] = \u001b[33mSet\u001b[39m(\u001b[32m1\u001b[39m, \u001b[32m2\u001b[39m, \u001b[32m3\u001b[39m, \u001b[32m4\u001b[39m)\n",
       "\u001b[36memptySet\u001b[39m: \u001b[32mSet\u001b[39m[\u001b[32mInt\u001b[39m] = \u001b[33mSet\u001b[39m()\n",
       "\u001b[36mcontains\u001b[39m: \u001b[32mBoolean\u001b[39m = \u001b[32mtrue\u001b[39m\n",
       "\u001b[36mnewUniqueNumbers\u001b[39m: \u001b[32mSet\u001b[39m[\u001b[32mInt\u001b[39m] = \u001b[33mHashSet\u001b[39m(\u001b[32m5\u001b[39m, \u001b[32m1\u001b[39m, \u001b[32m2\u001b[39m, \u001b[32m3\u001b[39m, \u001b[32m4\u001b[39m)\n",
       "\u001b[36mset1\u001b[39m: \u001b[32mSet\u001b[39m[\u001b[32mInt\u001b[39m] = \u001b[33mSet\u001b[39m(\u001b[32m1\u001b[39m, \u001b[32m2\u001b[39m, \u001b[32m3\u001b[39m)\n",
       "\u001b[36mset2\u001b[39m: \u001b[32mSet\u001b[39m[\u001b[32mInt\u001b[39m] = \u001b[33mSet\u001b[39m(\u001b[32m3\u001b[39m, \u001b[32m4\u001b[39m, \u001b[32m5\u001b[39m)\n",
       "\u001b[36munion\u001b[39m: \u001b[32mSet\u001b[39m[\u001b[32mInt\u001b[39m] = \u001b[33mHashSet\u001b[39m(\u001b[32m5\u001b[39m, \u001b[32m1\u001b[39m, \u001b[32m2\u001b[39m, \u001b[32m3\u001b[39m, \u001b[32m4\u001b[39m)\n",
       "\u001b[36mintersection\u001b[39m: \u001b[32mSet\u001b[39m[\u001b[32mInt\u001b[39m] = \u001b[33mSet\u001b[39m(\u001b[32m3\u001b[39m)\n",
       "\u001b[36mdifference\u001b[39m: \u001b[32mSet\u001b[39m[\u001b[32mInt\u001b[39m] = \u001b[33mSet\u001b[39m(\u001b[32m1\u001b[39m, \u001b[32m2\u001b[39m)"
      ]
     },
     "execution_count": 2,
     "metadata": {},
     "output_type": "execute_result"
    }
   ],
   "source": [
    "val uniqueNumbers = Set(1, 2, 2, 3, 3, 4)\n",
    "val emptySet = Set.empty[Int]\n",
    "\n",
    "val contains = uniqueNumbers.contains(1) // Checking for membership\n",
    "val newUniqueNumbers = uniqueNumbers + 5 // Adding an element\n",
    "\n",
    "val set1 = Set(1, 2, 3)\n",
    "val set2 = Set(3, 4, 5)\n",
    "val union = set1 ++ set2          // Set(1,2,3,4,5)\n",
    "val intersection = set1 & set2     // Set(3)\n",
    "val difference = set1 -- set2  "
   ]
  },
  {
   "cell_type": "markdown",
   "metadata": {},
   "source": [
    "* Map"
   ]
  },
  {
   "cell_type": "code",
   "execution_count": 3,
   "metadata": {},
   "outputs": [
    {
     "data": {
      "text/plain": [
       "\u001b[36mmap\u001b[39m: \u001b[32mMap\u001b[39m[\u001b[32mString\u001b[39m, \u001b[32mInt\u001b[39m] = \u001b[33mMap\u001b[39m(\u001b[32m\"Alice\"\u001b[39m -> \u001b[32m25\u001b[39m, \u001b[32m\"Bob\"\u001b[39m -> \u001b[32m30\u001b[39m, \u001b[32m\"Charlie\"\u001b[39m -> \u001b[32m35\u001b[39m)\n",
       "\u001b[36memptyMap\u001b[39m: \u001b[32mMap\u001b[39m[\u001b[32mString\u001b[39m, \u001b[32mInt\u001b[39m] = \u001b[33mMap\u001b[39m()\n",
       "\u001b[36mvalue\u001b[39m: \u001b[32mInt\u001b[39m = \u001b[32m25\u001b[39m\n",
       "\u001b[36mdefault\u001b[39m: \u001b[32mInt\u001b[39m = \u001b[32m0\u001b[39m\n",
       "\u001b[36mnewMap\u001b[39m: \u001b[32mMap\u001b[39m[\u001b[32mString\u001b[39m, \u001b[32mInt\u001b[39m] = \u001b[33mMap\u001b[39m(\u001b[32m\"Alice\"\u001b[39m -> \u001b[32m25\u001b[39m, \u001b[32m\"Bob\"\u001b[39m -> \u001b[32m30\u001b[39m, \u001b[32m\"Charlie\"\u001b[39m -> \u001b[32m90\u001b[39m)"
      ]
     },
     "execution_count": 3,
     "metadata": {},
     "output_type": "execute_result"
    }
   ],
   "source": [
    "val map = Map(\"Alice\" -> 25, \"Bob\" -> 30, \"Charlie\" -> 35)\n",
    "val emptyMap = Map.empty[String, Int]\n",
    "\n",
    "// Accessing elements\n",
    "val value = map(\"Alice\")\n",
    "val default = map.getOrElse(\"Adam\", 0)\n",
    "\n",
    "// Adding a new key-value pair\n",
    "val newMap = map + (\"Charlie\" -> 90)"
   ]
  },
  {
   "cell_type": "markdown",
   "metadata": {},
   "source": [
    "* Vector"
   ]
  },
  {
   "cell_type": "code",
   "execution_count": 4,
   "metadata": {},
   "outputs": [
    {
     "data": {
      "text/plain": [
       "\u001b[36mvector\u001b[39m: \u001b[32mVector\u001b[39m[\u001b[32mInt\u001b[39m] = \u001b[33mVector\u001b[39m(\u001b[32m1\u001b[39m, \u001b[32m2\u001b[39m, \u001b[32m3\u001b[39m, \u001b[32m4\u001b[39m, \u001b[32m5\u001b[39m)\n",
       "\u001b[36mfirstElement\u001b[39m: \u001b[32mInt\u001b[39m = \u001b[32m1\u001b[39m\n",
       "\u001b[36mlastElement\u001b[39m: \u001b[32mInt\u001b[39m = \u001b[32m5\u001b[39m\n",
       "\u001b[36mnewVector\u001b[39m: \u001b[32mVector\u001b[39m[\u001b[32mInt\u001b[39m] = \u001b[33mVector\u001b[39m(\u001b[32m1\u001b[39m, \u001b[32m2\u001b[39m, \u001b[32m3\u001b[39m, \u001b[32m4\u001b[39m, \u001b[32m5\u001b[39m, \u001b[32m6\u001b[39m)\n",
       "\u001b[36mnewVec\u001b[39m: \u001b[32mVector\u001b[39m[\u001b[32mInt\u001b[39m] = \u001b[33mVector\u001b[39m(\u001b[32m6\u001b[39m, \u001b[32m1\u001b[39m, \u001b[32m2\u001b[39m, \u001b[32m3\u001b[39m, \u001b[32m4\u001b[39m, \u001b[32m5\u001b[39m)\n",
       "\u001b[36mupdatedVector\u001b[39m: \u001b[32mVector\u001b[39m[\u001b[32mInt\u001b[39m] = \u001b[33mVector\u001b[39m(\u001b[32m1\u001b[39m, \u001b[32m2\u001b[39m, \u001b[32m10\u001b[39m, \u001b[32m4\u001b[39m, \u001b[32m5\u001b[39m)\n",
       "\u001b[36mconcatenated\u001b[39m: \u001b[32mVector\u001b[39m[\u001b[32mInt\u001b[39m] = \u001b[33mVector\u001b[39m(\u001b[32m1\u001b[39m, \u001b[32m2\u001b[39m, \u001b[32m3\u001b[39m, \u001b[32m4\u001b[39m, \u001b[32m5\u001b[39m, \u001b[32m6\u001b[39m, \u001b[32m7\u001b[39m, \u001b[32m8\u001b[39m)"
      ]
     },
     "execution_count": 4,
     "metadata": {},
     "output_type": "execute_result"
    }
   ],
   "source": [
    "val vector = Vector(1, 2, 3, 4, 5)\n",
    "\n",
    "// Accessing elements\n",
    "val firstElement = vector(0)\n",
    "val lastElement = vector.last\n",
    "\n",
    "// Adding the elements\n",
    "val newVector = vector :+ 6  // appends\n",
    "val newVec = 6 +: vector // prepends\n",
    "val updatedVector = vector.updated(2, 10) // updated vector\n",
    "val concatenated = vector ++ Vector(6, 7, 8)"
   ]
  },
  {
   "cell_type": "markdown",
   "metadata": {},
   "source": [
    "### Mutable Collections"
   ]
  },
  {
   "cell_type": "markdown",
   "metadata": {},
   "source": [
    "* ArrayBuffer"
   ]
  },
  {
   "cell_type": "code",
   "execution_count": 5,
   "metadata": {},
   "outputs": [
    {
     "data": {
      "text/plain": [
       "\u001b[32mimport \u001b[39m\u001b[36mscala.collection.mutable.ArrayBuffer\u001b[39m\n",
       "\u001b[36marrayBuffer\u001b[39m: \u001b[32mArrayBuffer\u001b[39m[\u001b[32mInt\u001b[39m] = \u001b[33mArrayBuffer\u001b[39m(\u001b[32m0\u001b[39m, \u001b[32m1\u001b[39m, \u001b[32m10\u001b[39m, \u001b[32m3\u001b[39m, \u001b[32m4\u001b[39m, \u001b[32m5\u001b[39m)\n",
       "\u001b[36mres5_2\u001b[39m: \u001b[32mArrayBuffer\u001b[39m[\u001b[32mInt\u001b[39m] = \u001b[33mArrayBuffer\u001b[39m(\u001b[32m0\u001b[39m, \u001b[32m1\u001b[39m, \u001b[32m10\u001b[39m, \u001b[32m3\u001b[39m, \u001b[32m4\u001b[39m, \u001b[32m5\u001b[39m)\n",
       "\u001b[36mres5_3\u001b[39m: \u001b[32mArrayBuffer\u001b[39m[\u001b[32mInt\u001b[39m] = \u001b[33mArrayBuffer\u001b[39m(\u001b[32m0\u001b[39m, \u001b[32m1\u001b[39m, \u001b[32m10\u001b[39m, \u001b[32m3\u001b[39m, \u001b[32m4\u001b[39m, \u001b[32m5\u001b[39m)\n",
       "\u001b[36mres5_4\u001b[39m: \u001b[32mArrayBuffer\u001b[39m[\u001b[32mInt\u001b[39m] = \u001b[33mArrayBuffer\u001b[39m(\u001b[32m0\u001b[39m, \u001b[32m1\u001b[39m, \u001b[32m10\u001b[39m, \u001b[32m3\u001b[39m, \u001b[32m4\u001b[39m, \u001b[32m5\u001b[39m)\n",
       "\u001b[36mres5_6\u001b[39m: \u001b[32mArrayBuffer\u001b[39m[\u001b[32mInt\u001b[39m] = \u001b[33mArrayBuffer\u001b[39m(\u001b[32m0\u001b[39m, \u001b[32m1\u001b[39m, \u001b[32m10\u001b[39m, \u001b[32m3\u001b[39m, \u001b[32m4\u001b[39m, \u001b[32m5\u001b[39m)"
      ]
     },
     "execution_count": 5,
     "metadata": {},
     "output_type": "execute_result"
    }
   ],
   "source": [
    "import scala.collection.mutable.ArrayBuffer\n",
    "\n",
    "// Creating a mutable ArrayBuffer\n",
    "val arrayBuffer = ArrayBuffer(1, 2, 3) //  ArrayBuffer(1, 2, 3)\n",
    "\n",
    "// Adding elements\n",
    "arrayBuffer += 4   // appends 4 =>  ArrayBuffer(1, 2, 3, 4)\n",
    "arrayBuffer.append(5) // appends 5 =>  ArrayBuffer(1, 2, 3, 4, 5)\n",
    "arrayBuffer.prepend(0) // prepends 0 =>  ArrayBuffer(0, 1, 2, 3, 4, 5)\n",
    "arrayBuffer.insert(2, 10) // inserts 10 at 2 index position =>  ArrayBuffer(0, 1, 10, 2, 3, 4, 5)\n",
    "\n",
    "// Removing elements\n",
    "arrayBuffer -= 2 // removes the value 2 => ArrayBuffer(0, 1, 10, 3, 4, 5)"
   ]
  },
  {
   "cell_type": "markdown",
   "metadata": {},
   "source": [
    "* ListBuffer"
   ]
  },
  {
   "cell_type": "code",
   "execution_count": 6,
   "metadata": {},
   "outputs": [
    {
     "data": {
      "text/plain": [
       "\u001b[32mimport \u001b[39m\u001b[36mscala.collection.mutable.ListBuffer\u001b[39m\n",
       "\u001b[36mlistBuffer\u001b[39m: \u001b[32mListBuffer\u001b[39m[\u001b[32mInt\u001b[39m] = \u001b[33mListBuffer\u001b[39m(\u001b[32m0\u001b[39m, \u001b[32m1\u001b[39m, \u001b[32m10\u001b[39m, \u001b[32m3\u001b[39m, \u001b[32m4\u001b[39m, \u001b[32m5\u001b[39m)\n",
       "\u001b[36mres6_2\u001b[39m: \u001b[32mListBuffer\u001b[39m[\u001b[32mInt\u001b[39m] = \u001b[33mListBuffer\u001b[39m(\u001b[32m0\u001b[39m, \u001b[32m1\u001b[39m, \u001b[32m10\u001b[39m, \u001b[32m3\u001b[39m, \u001b[32m4\u001b[39m, \u001b[32m5\u001b[39m)\n",
       "\u001b[36mres6_3\u001b[39m: \u001b[32mListBuffer\u001b[39m[\u001b[32mInt\u001b[39m] = \u001b[33mListBuffer\u001b[39m(\u001b[32m0\u001b[39m, \u001b[32m1\u001b[39m, \u001b[32m10\u001b[39m, \u001b[32m3\u001b[39m, \u001b[32m4\u001b[39m, \u001b[32m5\u001b[39m)\n",
       "\u001b[36mres6_4\u001b[39m: \u001b[32mListBuffer\u001b[39m[\u001b[32mInt\u001b[39m] = \u001b[33mListBuffer\u001b[39m(\u001b[32m0\u001b[39m, \u001b[32m1\u001b[39m, \u001b[32m10\u001b[39m, \u001b[32m3\u001b[39m, \u001b[32m4\u001b[39m, \u001b[32m5\u001b[39m)\n",
       "\u001b[36mres6_6\u001b[39m: \u001b[32mListBuffer\u001b[39m[\u001b[32mInt\u001b[39m] = \u001b[33mListBuffer\u001b[39m(\u001b[32m0\u001b[39m, \u001b[32m1\u001b[39m, \u001b[32m10\u001b[39m, \u001b[32m3\u001b[39m, \u001b[32m4\u001b[39m, \u001b[32m5\u001b[39m)"
      ]
     },
     "execution_count": 6,
     "metadata": {},
     "output_type": "execute_result"
    }
   ],
   "source": [
    "import scala.collection.mutable.ListBuffer\n",
    "\n",
    "// Creating a mutable ListBuffer\n",
    "val listBuffer = ListBuffer(1, 2, 3) //  ListBuffer(1, 2, 3)\n",
    "\n",
    "// Adding elements\n",
    "listBuffer += 4   // appends 4 =>  ListBuffer(1, 2, 3, 4)\n",
    "listBuffer.append(5) // appends 5 =>  ListBuffer(1, 2, 3, 4, 5)\n",
    "listBuffer.prepend(0) // prepends 0 =>  ListBuffer(0, 1, 2, 3, 4, 5)\n",
    "listBuffer.insert(2, 10) // inserts 10 at 2 index position =>  ListBuffer(0, 1, 10, 2, 3, 4, 5)\n",
    "\n",
    "// Removing elements\n",
    "listBuffer -= 2 // removes the value 2 => ListBuffer(0, 1, 10, 3, 4, 5)"
   ]
  },
  {
   "cell_type": "markdown",
   "metadata": {},
   "source": [
    "* Mutable Set"
   ]
  },
  {
   "cell_type": "code",
   "execution_count": 7,
   "metadata": {},
   "outputs": [
    {
     "data": {
      "text/plain": [
       "\u001b[32mimport \u001b[39m\u001b[36mscala.collection.mutable.Set\u001b[39m\n",
       "\u001b[36mmutableSet\u001b[39m: \u001b[32mSet\u001b[39m[\u001b[32mInt\u001b[39m] = \u001b[33mHashSet\u001b[39m(\u001b[32m3\u001b[39m, \u001b[32m4\u001b[39m)\n",
       "\u001b[36mres7_2\u001b[39m: \u001b[32mBoolean\u001b[39m = \u001b[32mtrue\u001b[39m\n",
       "\u001b[36mres7_3\u001b[39m: \u001b[32mSet\u001b[39m[\u001b[32mInt\u001b[39m] = \u001b[33mHashSet\u001b[39m(\u001b[32m3\u001b[39m, \u001b[32m4\u001b[39m)\n",
       "\u001b[36mres7_4\u001b[39m: \u001b[32mBoolean\u001b[39m = \u001b[32mtrue\u001b[39m\n",
       "\u001b[36mres7_5\u001b[39m: \u001b[32mSet\u001b[39m[\u001b[32mInt\u001b[39m] = \u001b[33mHashSet\u001b[39m(\u001b[32m3\u001b[39m, \u001b[32m4\u001b[39m)"
      ]
     },
     "execution_count": 7,
     "metadata": {},
     "output_type": "execute_result"
    }
   ],
   "source": [
    "import scala.collection.mutable.Set\n",
    "\n",
    "val mutableSet = Set(1, 2, 3) //  Set(1, 2, 3)\n",
    "\n",
    "// Adding elements\n",
    "mutableSet.add(4) // Set(1, 2, 3, 4)\n",
    "mutableSet += 4 // Set(1, 2, 3, 4)\n",
    "\n",
    "// Removing elements\n",
    "mutableSet.remove(1) // Set(2, 3, 4)\n",
    "mutableSet -= 2 // Set(3, 4)"
   ]
  },
  {
   "cell_type": "markdown",
   "metadata": {},
   "source": [
    "* Mutable Map"
   ]
  },
  {
   "cell_type": "code",
   "execution_count": 8,
   "metadata": {},
   "outputs": [
    {
     "data": {
      "text/plain": [
       "\u001b[32mimport \u001b[39m\u001b[36mscala.collection.mutable.Map\u001b[39m\n",
       "\u001b[36mmutableMap\u001b[39m: \u001b[32mMap\u001b[39m[\u001b[32mString\u001b[39m, \u001b[32mInt\u001b[39m] = \u001b[33mHashMap\u001b[39m(\n",
       "  \u001b[32m\"four\"\u001b[39m -> \u001b[32m4\u001b[39m,\n",
       "  \u001b[32m\"ten\"\u001b[39m -> \u001b[32m10\u001b[39m,\n",
       "  \u001b[32m\"five\"\u001b[39m -> \u001b[32m5\u001b[39m,\n",
       "  \u001b[32m\"three\"\u001b[39m -> \u001b[32m3\u001b[39m\n",
       ")\n",
       "\u001b[36mres8_3\u001b[39m: \u001b[32mOption\u001b[39m[\u001b[32mInt\u001b[39m] = \u001b[32mNone\u001b[39m\n",
       "\u001b[36mres8_4\u001b[39m: \u001b[32mMap\u001b[39m[\u001b[32mString\u001b[39m, \u001b[32mInt\u001b[39m] = \u001b[33mHashMap\u001b[39m(\n",
       "  \u001b[32m\"four\"\u001b[39m -> \u001b[32m4\u001b[39m,\n",
       "  \u001b[32m\"ten\"\u001b[39m -> \u001b[32m10\u001b[39m,\n",
       "  \u001b[32m\"five\"\u001b[39m -> \u001b[32m5\u001b[39m,\n",
       "  \u001b[32m\"three\"\u001b[39m -> \u001b[32m3\u001b[39m\n",
       ")\n",
       "\u001b[36mres8_5\u001b[39m: \u001b[32mMap\u001b[39m[\u001b[32mString\u001b[39m, \u001b[32mInt\u001b[39m] = \u001b[33mHashMap\u001b[39m(\n",
       "  \u001b[32m\"four\"\u001b[39m -> \u001b[32m4\u001b[39m,\n",
       "  \u001b[32m\"ten\"\u001b[39m -> \u001b[32m10\u001b[39m,\n",
       "  \u001b[32m\"five\"\u001b[39m -> \u001b[32m5\u001b[39m,\n",
       "  \u001b[32m\"three\"\u001b[39m -> \u001b[32m3\u001b[39m\n",
       ")\n",
       "\u001b[36mres8_6\u001b[39m: \u001b[32mOption\u001b[39m[\u001b[32mInt\u001b[39m] = \u001b[33mSome\u001b[39m(value = \u001b[32m1\u001b[39m)"
      ]
     },
     "execution_count": 8,
     "metadata": {},
     "output_type": "execute_result"
    }
   ],
   "source": [
    "import scala.collection.mutable.Map\n",
    "\n",
    "val mutableMap = Map(\"one\" -> 1, \"two\" -> 2, \"three\" -> 3) // Map(\"one\" -> 1, \"two\" -> 2, \"three\" -> 3)\n",
    "\n",
    "// Adding key-value pairs\n",
    "mutableMap(\"four\") = 4 // Map(\"one\" -> 1, \"two\" -> 2, \"three\" -> 3, \"four\" -> 4)\n",
    "mutableMap.put(\"five\", 5) // Map(\"one\" -> 1, \"two\" -> 2, \"three\" -> 3, \"four\" -> 4, \"five\" -> 5)\n",
    "mutableMap += (\"ten\" -> 10) // Map(\"one\" -> 1, \"two\" -> 2, \"three\" -> 3, \"four\" -> 4, \"five\" -> 5, \"ten\" -> 10)\n",
    "\n",
    "// Removing key-value pairs\n",
    "mutableMap -= \"two\" // Map(\"one\" -> 1, \"three\" -> 3 , \"four\" -> 4, \"five\" -> 5, \"ten\" -> 10)\n",
    "mutableMap.remove(\"one\") // Map(\"three\" -> 3 , \"four\" -> 4, \"five\" -> 5, \"ten\" -> 10)"
   ]
  }
 ],
 "metadata": {
  "kernelspec": {
   "display_name": "Scala",
   "language": "scala",
   "name": "scala"
  },
  "language_info": {
   "codemirror_mode": "text/x-scala",
   "file_extension": ".sc",
   "mimetype": "text/x-scala",
   "name": "scala",
   "nbconvert_exporter": "script",
   "version": "2.13.14"
  }
 },
 "nbformat": 4,
 "nbformat_minor": 2
}
