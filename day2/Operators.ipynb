{
 "cells": [
  {
   "cell_type": "markdown",
   "metadata": {},
   "source": [
    "## Operators"
   ]
  },
  {
   "cell_type": "markdown",
   "metadata": {},
   "source": [
    "### Relational Operators"
   ]
  },
  {
   "cell_type": "code",
   "execution_count": 1,
   "metadata": {},
   "outputs": [
    {
     "name": "stdout",
     "output_type": "stream",
     "text": [
      "1. Equal to (==):              Is a == b? false\n",
      "2. Not equal to (!=):          Is a != b? true\n",
      "3. Greater than (>):           Is a > b?  false\n",
      "4. Less than (<):              Is a < b?  true\n",
      "5. Greater than equal to (>=): Is a >= b? false\n",
      "6. Less than equal to (<=):    Is a <= b? true\n"
     ]
    },
    {
     "data": {
      "text/plain": [
       "\u001b[36ma\u001b[39m: \u001b[32mInt\u001b[39m = \u001b[32m2\u001b[39m\n",
       "\u001b[36mb\u001b[39m: \u001b[32mInt\u001b[39m = \u001b[32m3\u001b[39m"
      ]
     },
     "execution_count": 1,
     "metadata": {},
     "output_type": "execute_result"
    }
   ],
   "source": [
    "val a = 2\n",
    "val b = 3\n",
    "\n",
    "println(\"1. Equal to (==):              Is a == b? \" + (a == b))\n",
    "println(\"2. Not equal to (!=):          Is a != b? \" + (a != b))\n",
    "println(\"3. Greater than (>):           Is a > b?  \" + (a > b))\n",
    "println(\"4. Less than (<):              Is a < b?  \" + (a < b))\n",
    "println(\"5. Greater than equal to (>=): Is a >= b? \" + (a >= b))\n",
    "println(\"6. Less than equal to (<=):    Is a <= b? \" + (a <= b))"
   ]
  },
  {
   "cell_type": "markdown",
   "metadata": {},
   "source": [
    "### Arithmetic Operators"
   ]
  },
  {
   "cell_type": "code",
   "execution_count": 2,
   "metadata": {},
   "outputs": [
    {
     "name": "stdout",
     "output_type": "stream",
     "text": [
      "1. Addition operator (+):       5\n",
      "2. Subtraction operator (-):    -1\n",
      "3. Division operator (/):       0\n",
      "4. Multiplcation  operator (*): 6\n",
      "5. Modulus operator (%):        2\n",
      "6. Exponent operator (**):      8.0\n"
     ]
    },
    {
     "data": {
      "text/plain": [
       "\u001b[36mx\u001b[39m: \u001b[32mInt\u001b[39m = \u001b[32m2\u001b[39m\n",
       "\u001b[36my\u001b[39m: \u001b[32mInt\u001b[39m = \u001b[32m3\u001b[39m"
      ]
     },
     "execution_count": 2,
     "metadata": {},
     "output_type": "execute_result"
    }
   ],
   "source": [
    "val x = 2\n",
    "val y = 3\n",
    "\n",
    "println(\"1. Addition operator (+):       \" + (x + y))\n",
    "println(\"2. Subtraction operator (-):    \" + (x - y))\n",
    "println(\"3. Division operator (/):       \" + (x / y))\n",
    "println(\"4. Multiplcation  operator (*): \" + (x * y))\n",
    "println(\"5. Modulus operator (%):        \" + (x % y))\n",
    "println(\"6. Exponent operator (**):      \" + (scala.math.pow(x,y)))"
   ]
  },
  {
   "cell_type": "markdown",
   "metadata": {},
   "source": [
    "### Logical Operators"
   ]
  },
  {
   "cell_type": "code",
   "execution_count": 3,
   "metadata": {},
   "outputs": [
    {
     "name": "stdout",
     "output_type": "stream",
     "text": [
      "1. Logical AND operator (&&): false\n",
      "2. Logical OR operator (||):  true\n",
      "3. Logical NOT operator (!):  false\n"
     ]
    },
    {
     "data": {
      "text/plain": [
       "\u001b[36mx\u001b[39m: \u001b[32mBoolean\u001b[39m = \u001b[32mtrue\u001b[39m\n",
       "\u001b[36my\u001b[39m: \u001b[32mBoolean\u001b[39m = \u001b[32mfalse\u001b[39m"
      ]
     },
     "execution_count": 3,
     "metadata": {},
     "output_type": "execute_result"
    }
   ],
   "source": [
    "val x = true\n",
    "val y = false\n",
    "\n",
    "println(\"1. Logical AND operator (&&): \" + (x && y))\n",
    "println(\"2. Logical OR operator (||):  \" + (x || y))\n",
    "println(\"3. Logical NOT operator (!):  \" + (!x))"
   ]
  },
  {
   "cell_type": "markdown",
   "metadata": {},
   "source": [
    "### Assignment Operators"
   ]
  },
  {
   "cell_type": "code",
   "execution_count": 4,
   "metadata": {},
   "outputs": [
    {
     "name": "stdout",
     "output_type": "stream",
     "text": [
      "1. Add and assignment operator (+=):          7\n",
      "2. Subtract and assignment operator (+=):     5\n",
      "3. Multiply and assignment operator (*=):     10\n",
      "4. Divide and assignment operator (/=):       5\n",
      "5. Modulus and assignment operator (%=):      1\n",
      "6. Right shift and assignment operator (>>=): 0\n",
      "7. Left shift and assignment operator (<<=):  0\n",
      "8. Bitwise and assignment operator (&=):      0\n",
      "9. Inclusive OR and assignment operator (|=): 2\n",
      "10. Exclusive OR and assignment operator (^=): 0\n"
     ]
    },
    {
     "data": {
      "text/html": [
       "<div class=\"jp-RenderedText\">\n",
       "<pre><code><span style=\"color: rgb(0, 187, 187)\"><span class=\"ansi-cyan-fg\">x</span></span>: <span style=\"color: rgb(0, 187, 0)\"><span class=\"ansi-green-fg\">Int</span></span> = <span style=\"color: rgb(0, 187, 0)\"><span class=\"ansi-green-fg\">2</span></span>\n",
       "<span style=\"color: rgb(0, 187, 187)\"><span class=\"ansi-cyan-fg\">y</span></span>: <span style=\"color: rgb(0, 187, 0)\"><span class=\"ansi-green-fg\">Int</span></span> = <span style=\"color: rgb(0, 187, 0)\"><span class=\"ansi-green-fg\">3</span></span>\n",
       "<span style=\"color: rgb(0, 187, 187)\"><span class=\"ansi-cyan-fg\">z</span></span>: <span style=\"color: rgb(0, 187, 0)\"><span class=\"ansi-green-fg\">Int</span></span> = <span style=\"color: rgb(0, 187, 0)\"><span class=\"ansi-green-fg\">0</span></span></code></pre>\n",
       "</div>"
      ],
      "text/plain": [
       "\u001b[36mx\u001b[39m: \u001b[32mInt\u001b[39m = \u001b[32m2\u001b[39m\n",
       "\u001b[36my\u001b[39m: \u001b[32mInt\u001b[39m = \u001b[32m3\u001b[39m\n",
       "\u001b[36mz\u001b[39m: \u001b[32mInt\u001b[39m = \u001b[32m0\u001b[39m"
      ]
     },
     "metadata": {},
     "output_type": "display_data"
    }
   ],
   "source": [
    "val x = 2\n",
    "val y = 3\n",
    "\n",
    "var z = x+y\n",
    "\n",
    "z += x\n",
    "\n",
    "println(\"1. Add and assignment operator (+=):          \" + z)\n",
    "\n",
    "z -= x\n",
    "println(\"2. Subtract and assignment operator (+=):     \" + z)\n",
    "\n",
    "z *= x\n",
    "println(\"3. Multiply and assignment operator (*=):     \" + z)\n",
    "\n",
    "z /= x\n",
    "println(\"4. Divide and assignment operator (/=):       \" + z)\n",
    "\n",
    "z %= x\n",
    "println(\"5. Modulus and assignment operator (%=):      \" + z)\n",
    "\n",
    "z >>= 2\n",
    "println(\"6. Right shift and assignment operator (>>=): \" + z)\n",
    "\n",
    "z <<= 2\n",
    "println(\"7. Left shift and assignment operator (<<=):  \" + z)\n",
    "\n",
    "z &= x\n",
    "println(\"8. Bitwise and assignment operator (&=):      \" + z)\n",
    "\n",
    "z |= x\n",
    "println(\"9. Inclusive OR and assignment operator (|=): \" + z)\n",
    "\n",
    "z ^= x\n",
    "println(\"10. Exclusive OR and assignment operator (^=): \" + z)"
   ]
  },
  {
   "cell_type": "markdown",
   "metadata": {},
   "source": [
    "### Bitwise Operators"
   ]
  },
  {
   "cell_type": "code",
   "execution_count": 5,
   "metadata": {},
   "outputs": [
    {
     "name": "stdout",
     "output_type": "stream",
     "text": [
      "1. Bitwise AND (&): 2\n",
      "2. Bitwise OR (|): 3\n",
      "3. Bitwise XOR (^): 1\n",
      "4. Bitwise NOT (~): -3\n",
      "5. Left Shift (<<): 16\n",
      "6. Right Shift (>>): 0\n"
     ]
    },
    {
     "data": {
      "text/plain": [
       "\u001b[36mx\u001b[39m: \u001b[32mInt\u001b[39m = \u001b[32m2\u001b[39m\n",
       "\u001b[36my\u001b[39m: \u001b[32mInt\u001b[39m = \u001b[32m3\u001b[39m"
      ]
     },
     "execution_count": 5,
     "metadata": {},
     "output_type": "execute_result"
    }
   ],
   "source": [
    "val x = 2\n",
    "val y = 3\n",
    "\n",
    "println(s\"1. Bitwise AND (&): ${x & y}\")         \n",
    "println(s\"2. Bitwise OR (|): ${x | y}\")           \n",
    "println(s\"3. Bitwise XOR (^): ${x ^ y}\")         \n",
    "println(s\"4. Bitwise NOT (~): ${~x}\")        \n",
    "println(s\"5. Left Shift (<<): ${x<<y}\")           \n",
    "println(s\"6. Right Shift (>>): ${x>>y}\")"
   ]
  }
 ],
 "metadata": {
  "kernelspec": {
   "display_name": "Scala",
   "language": "scala",
   "name": "scala"
  },
  "language_info": {
   "codemirror_mode": "text/x-scala",
   "file_extension": ".sc",
   "mimetype": "text/x-scala",
   "name": "scala",
   "nbconvert_exporter": "script",
   "version": "2.13.14"
  }
 },
 "nbformat": 4,
 "nbformat_minor": 2
}
