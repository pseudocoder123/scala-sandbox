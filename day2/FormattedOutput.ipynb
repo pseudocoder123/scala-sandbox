{
 "cells": [
  {
   "cell_type": "markdown",
   "metadata": {},
   "source": [
    "## Displaying output in various formats\n"
   ]
  },
  {
   "cell_type": "markdown",
   "metadata": {},
   "source": [
    "#### Basic methods: `println` and `print`\n",
    "* `println`: Outputs to the console with a trailing newline. Any type can be passed as an argument"
   ]
  },
  {
   "cell_type": "code",
   "execution_count": 1,
   "metadata": {},
   "outputs": [
    {
     "name": "stdout",
     "output_type": "stream",
     "text": [
      "Hello World\n",
      "2000"
     ]
    }
   ],
   "source": [
    "println(\"Hello World\")\n",
    "print(2000)"
   ]
  },
  {
   "cell_type": "markdown",
   "metadata": {},
   "source": [
    "* `print`: Outputs text to the console without adding a newline by default. To mimic `println`, add \"\\n\" to the end of the string."
   ]
  },
  {
   "cell_type": "code",
   "execution_count": 2,
   "metadata": {},
   "outputs": [
    {
     "name": "stdout",
     "output_type": "stream",
     "text": [
      "Hello!Scala\n",
      "Version 3.5.2"
     ]
    }
   ],
   "source": [
    "print(\"Hello!\")\n",
    "print(\"Scala\\n\")\n",
    "print(\"Version 3.5.2\")"
   ]
  },
  {
   "cell_type": "markdown",
   "metadata": {},
   "source": [
    "#### Formatted output: `printf`, string interpolators(`s`, `f`, `raw`), `String.format`, `formatted`\n",
    "* `printf`: Allows formatted output using format specifiers. These specifiers tell printf how to interpret each variable.\n",
    "**%s** for String, **%d** for integer, **%b** for boolean, **%c** for character, **%f** for floating-point number"
   ]
  },
  {
   "cell_type": "code",
   "execution_count": 3,
   "metadata": {},
   "outputs": [
    {
     "name": "stdout",
     "output_type": "stream",
     "text": [
      "My name is Saketh, and I'm 24 years old\n",
      "isDoctor = false\n",
      "Gender is = M\n",
      "Pi is = 3.141590\n",
      "Pi is (two decimal places) = 3.14\n"
     ]
    }
   ],
   "source": [
    "printf(\"My name is %s, and I'm %d years old\\n\", \"Saketh\", 24)\n",
    "printf(\"isDoctor = %b\\n\", false)\n",
    "printf(\"Gender is = %c\\n\", 'M')\n",
    "printf(\"Pi is = %f\\n\", 3.14159)\n",
    "printf(\"Pi is (two decimal places) = %.2f\\n\", 3.14159) // Till only two decimal places (specified precision)\n"
   ]
  },
  {
   "cell_type": "markdown",
   "metadata": {},
   "source": [
    "String interpolators to embed the variables in strings\n",
    "* `s`-interpolation: Inserts variables directly into strings"
   ]
  },
  {
   "cell_type": "code",
   "execution_count": 4,
   "metadata": {},
   "outputs": [
    {
     "name": "stdout",
     "output_type": "stream",
     "text": [
      "Hi, my name is Saketh\n"
     ]
    },
    {
     "data": {
      "text/plain": [
       "\u001b[36mname\u001b[39m: \u001b[32mString\u001b[39m = \u001b[32m\"Saketh\"\u001b[39m"
      ]
     },
     "execution_count": 4,
     "metadata": {},
     "output_type": "execute_result"
    }
   ],
   "source": [
    "val name = \"Saketh\"\n",
    "println(s\"Hi, my name is $name\")"
   ]
  },
  {
   "cell_type": "markdown",
   "metadata": {},
   "source": [
    "* `f`-interpolation: Adds formatting, allowing control over values within strings"
   ]
  },
  {
   "cell_type": "code",
   "execution_count": 5,
   "metadata": {},
   "outputs": [
    {
     "name": "stdout",
     "output_type": "stream",
     "text": [
      "Pi = 3.141592\n",
      "Pi is 3.14\n"
     ]
    },
    {
     "data": {
      "text/plain": [
       "\u001b[36mpi\u001b[39m: \u001b[32mDouble\u001b[39m = \u001b[32m3.141592\u001b[39m"
      ]
     },
     "execution_count": 5,
     "metadata": {},
     "output_type": "execute_result"
    }
   ],
   "source": [
    "val pi = 3.141592\n",
    "println(f\"Pi = $pi%f\")\n",
    "println(f\"Pi is $pi%.2f\")"
   ]
  },
  {
   "cell_type": "markdown",
   "metadata": {},
   "source": [
    "* `raw` interpolation: Outputs strings without interpreting escape characters like \\n"
   ]
  },
  {
   "cell_type": "code",
   "execution_count": 6,
   "metadata": {},
   "outputs": [
    {
     "name": "stdout",
     "output_type": "stream",
     "text": [
      "Line1\\nLine2\n"
     ]
    }
   ],
   "source": [
    "println(raw\"Line1\\nLine2\")"
   ]
  },
  {
   "cell_type": "markdown",
   "metadata": {},
   "source": [
    "* `String.format` method: Similar to `printf`, but `String.format` returns a formatted string"
   ]
  },
  {
   "cell_type": "code",
   "execution_count": 7,
   "metadata": {},
   "outputs": [
    {
     "name": "stdout",
     "output_type": "stream",
     "text": [
      "My name is Saketh and I'm 24 years old\n"
     ]
    },
    {
     "data": {
      "text/plain": [
       "\u001b[36mformattedString\u001b[39m: \u001b[32mString\u001b[39m = \u001b[32m\"My name is Saketh and I'm 24 years old\"\u001b[39m"
      ]
     },
     "execution_count": 7,
     "metadata": {},
     "output_type": "execute_result"
    }
   ],
   "source": [
    "val formattedString = \"My name is %s and I'm %d years old\".format(\"Saketh\", 24)\n",
    "println(formattedString)"
   ]
  },
  {
   "cell_type": "markdown",
   "metadata": {},
   "source": [
    "* `formatted` method: Applies basic formatting to a value"
   ]
  },
  {
   "cell_type": "code",
   "execution_count": 8,
   "metadata": {},
   "outputs": [
    {
     "name": "stdout",
     "output_type": "stream",
     "text": [
      "Name is Saketh\n",
      "12,345,678.90\n"
     ]
    },
    {
     "data": {
      "text/plain": [
       "\u001b[36mname\u001b[39m: \u001b[32mString\u001b[39m = \u001b[32m\"Saketh\"\u001b[39m\n",
       "\u001b[36moutput\u001b[39m: \u001b[32mString\u001b[39m = \u001b[32m\"Name is Saketh\"\u001b[39m\n",
       "\u001b[36mnumber\u001b[39m: \u001b[32mDouble\u001b[39m = \u001b[32m1.23456789E7\u001b[39m\n",
       "\u001b[36mbigNumberFormatted\u001b[39m: \u001b[32mString\u001b[39m = \u001b[32m\"12,345,678.90\"\u001b[39m"
      ]
     },
     "execution_count": 8,
     "metadata": {},
     "output_type": "execute_result"
    }
   ],
   "source": [
    "val name = \"Saketh\"\n",
    "val output = \"Name is %s\".formatted(name)\n",
    "\n",
    "val number = 12345678.9\n",
    "val bigNumberFormatted = \"%,.2f\".formatted(number)\n",
    "\n",
    "println(output)\n",
    "println(bigNumberFormatted)"
   ]
  },
  {
   "cell_type": "markdown",
   "metadata": {},
   "source": [
    "#### String Concatenation"
   ]
  },
  {
   "cell_type": "code",
   "execution_count": 9,
   "metadata": {},
   "outputs": [
    {
     "name": "stdout",
     "output_type": "stream",
     "text": [
      "Hi, My name is Saketh, and I'll be 25 years old next year!\n"
     ]
    },
    {
     "data": {
      "text/plain": [
       "\u001b[36mname\u001b[39m: \u001b[32mString\u001b[39m = \u001b[32m\"Saketh\"\u001b[39m\n",
       "\u001b[36mage\u001b[39m: \u001b[32mInt\u001b[39m = \u001b[32m24\u001b[39m"
      ]
     },
     "execution_count": 9,
     "metadata": {},
     "output_type": "execute_result"
    }
   ],
   "source": [
    "val name = \"Saketh\"\n",
    "val age = 24\n",
    "\n",
    "println(\"Hi, My name is \" + name + \", and I'll be \" + (age+1) + \" years old next year!\")"
   ]
  },
  {
   "cell_type": "markdown",
   "metadata": {},
   "source": [
    "#### Multi-line strings\n",
    "`stripMargin`: Removes the leading | character and trims preceding whitespace for better alignment in code."
   ]
  },
  {
   "cell_type": "code",
   "execution_count": 10,
   "metadata": {},
   "outputs": [
    {
     "name": "stdout",
     "output_type": "stream",
     "text": [
      "Hello,\n",
      "This is a multi-line\n",
      "string in Scala.\n"
     ]
    },
    {
     "data": {
      "text/plain": [
       "\u001b[36mmultiLineString\u001b[39m: \u001b[32mString\u001b[39m = \u001b[32m\"\"\"Hello,\n",
       "This is a multi-line\n",
       "string in Scala.\"\"\"\u001b[39m"
      ]
     },
     "execution_count": 10,
     "metadata": {},
     "output_type": "execute_result"
    }
   ],
   "source": [
    "val multiLineString = \"\"\"Hello,\n",
    "                        |This is a multi-line\n",
    "                        |string in Scala.\"\"\".stripMargin\n",
    "println(multiLineString)"
   ]
  }
 ],
 "metadata": {
  "kernelspec": {
   "display_name": "Scala",
   "language": "scala",
   "name": "scala"
  },
  "language_info": {
   "codemirror_mode": "text/x-scala",
   "file_extension": ".sc",
   "mimetype": "text/x-scala",
   "name": "scala",
   "nbconvert_exporter": "script",
   "version": "2.13.14"
  }
 },
 "nbformat": 4,
 "nbformat_minor": 2
}
