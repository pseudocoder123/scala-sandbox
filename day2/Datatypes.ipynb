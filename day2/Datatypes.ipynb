{
 "cells": [
  {
   "cell_type": "markdown",
   "metadata": {},
   "source": [
    "## Datatypes"
   ]
  },
  {
   "cell_type": "markdown",
   "metadata": {},
   "source": [
    "#### Numeric Types"
   ]
  },
  {
   "cell_type": "code",
   "execution_count": 1,
   "metadata": {},
   "outputs": [
    {
     "data": {
      "text/plain": [
       "\u001b[36mbyte\u001b[39m: \u001b[32mByte\u001b[39m = \u001b[32m27\u001b[39m\n",
       "\u001b[36mshort\u001b[39m: \u001b[32mShort\u001b[39m = \u001b[32m12345\u001b[39m\n",
       "\u001b[36mint\u001b[39m: \u001b[32mInt\u001b[39m = \u001b[32m2147483647\u001b[39m\n",
       "\u001b[36mlong\u001b[39m: \u001b[32mLong\u001b[39m = \u001b[32m9223372036854775807L\u001b[39m\n",
       "\u001b[36mfloat\u001b[39m: \u001b[32mFloat\u001b[39m = \u001b[32m3.14F\u001b[39m\n",
       "\u001b[36mdouble\u001b[39m: \u001b[32mDouble\u001b[39m = \u001b[32m3.14159\u001b[39m"
      ]
     },
     "execution_count": 1,
     "metadata": {},
     "output_type": "execute_result"
    }
   ],
   "source": [
    "val byte: Byte = 27 // 8-bit signed value, with default value: 0\n",
    "val short: Short = 12345 // 16-bit signed value, with default value: 0\n",
    "val int: Int = 2147483647 // 32-bit signed value, with default value: 0\n",
    "val long: Long = 9223372036854775807L // 64-bit signed value, with default value: 0L\n",
    "val float: Float = 3.14f // 32-bit floating point, with default value: 0.0f\n",
    "val double: Double = 3.14159 // 64-bit floating point, with default value: 0.0D"
   ]
  },
  {
   "cell_type": "markdown",
   "metadata": {},
   "source": [
    "#### Boolean Type"
   ]
  },
  {
   "cell_type": "code",
   "execution_count": 2,
   "metadata": {},
   "outputs": [
    {
     "data": {
      "text/plain": [
       "\u001b[36mboolean\u001b[39m: \u001b[32mBoolean\u001b[39m = \u001b[32mtrue\u001b[39m"
      ]
     },
     "execution_count": 2,
     "metadata": {},
     "output_type": "execute_result"
    }
   ],
   "source": [
    "val boolean: Boolean = true // either `true` or `false`, with default value: `false`"
   ]
  },
  {
   "cell_type": "markdown",
   "metadata": {},
   "source": [
    "#### Character Type"
   ]
  },
  {
   "cell_type": "code",
   "execution_count": 3,
   "metadata": {},
   "outputs": [
    {
     "data": {
      "text/plain": [
       "\u001b[36mchar\u001b[39m: \u001b[32mChar\u001b[39m = \u001b[32m'S'\u001b[39m"
      ]
     },
     "execution_count": 3,
     "metadata": {},
     "output_type": "execute_result"
    }
   ],
   "source": [
    "val char: Char = 'S' // 16-bit unicode character, with default value: '\\u0000'"
   ]
  },
  {
   "cell_type": "markdown",
   "metadata": {},
   "source": [
    "#### String Type"
   ]
  },
  {
   "cell_type": "code",
   "execution_count": 4,
   "metadata": {},
   "outputs": [
    {
     "data": {
      "text/plain": [
       "\u001b[36mstr\u001b[39m: \u001b[32mString\u001b[39m = \u001b[32m\"Scala\"\u001b[39m"
      ]
     },
     "execution_count": 4,
     "metadata": {},
     "output_type": "execute_result"
    }
   ],
   "source": [
    "val str: String = \"Scala\" // sequence of characters, with default: null for uninitialized Strings"
   ]
  },
  {
   "cell_type": "markdown",
   "metadata": {},
   "source": [
    "#### Unit Type"
   ]
  },
  {
   "cell_type": "code",
   "execution_count": 5,
   "metadata": {},
   "outputs": [],
   "source": [
    "val unit: Unit = () // Signifies no meaningful value, similar to void"
   ]
  },
  {
   "cell_type": "markdown",
   "metadata": {},
   "source": [
    "#### Any, AnyVal, AnyRef, Nothing Hierarchy:\n",
    "These types are more abstract and structural rather than holding data directly. These may not be the data types in the traditional sense of holding data.\n",
    "* `Any`: The supertype of all types.\n",
    "* `AnyValue`: Represents all value types(Int, Double, Boolean)\n",
    "* `AnyReference`: Represents all reference types(String, custom classes, collections), similar to java.lang.Object in Java.\n",
    "* `Nothing`: The subtype of all types, used for exceptional or non-returning cases in Scala. (e.g.,methods that throw exceptions)."
   ]
  },
  {
   "cell_type": "code",
   "execution_count": 6,
   "metadata": {},
   "outputs": [
    {
     "data": {
      "text/plain": [
       "\u001b[36many\u001b[39m: \u001b[32mAny\u001b[39m = \u001b[32m42\u001b[39m\n",
       "\u001b[36manyVal\u001b[39m: \u001b[32mAnyVal\u001b[39m = \u001b[32m42\u001b[39m\n",
       "\u001b[36manyRef\u001b[39m: \u001b[32mAnyRef\u001b[39m = \u001b[32m\"Hello\"\u001b[39m"
      ]
     },
     "execution_count": 6,
     "metadata": {},
     "output_type": "execute_result"
    }
   ],
   "source": [
    "val any: Any = 42 // Can hold any data type\n",
    "val anyVal: AnyVal = 42 // Holds only value types\n",
    "val anyRef: AnyRef = \"Hello\" // Holds only reference types\n",
    "// def fail(msg: String): Nothing = throw new Exception(msg)  // Used to signal abnormal termination"
   ]
  }
 ],
 "metadata": {
  "kernelspec": {
   "display_name": "Scala",
   "language": "scala",
   "name": "scala"
  },
  "language_info": {
   "codemirror_mode": "text/x-scala",
   "file_extension": ".sc",
   "mimetype": "text/x-scala",
   "name": "scala",
   "nbconvert_exporter": "script",
   "version": "2.13.14"
  }
 },
 "nbformat": 4,
 "nbformat_minor": 2
}
