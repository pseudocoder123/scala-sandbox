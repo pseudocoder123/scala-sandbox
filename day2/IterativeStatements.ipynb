{
 "cells": [
  {
   "cell_type": "markdown",
   "metadata": {},
   "source": [
    "## Iterative Statements"
   ]
  },
  {
   "cell_type": "markdown",
   "metadata": {},
   "source": [
    "Scala provides several constructs for iteration, although a functional approach (such as using higher-order functions) is preferred for many repetitive tasks. Here’s an overview of the basic iterative statements in Scala"
   ]
  },
  {
   "cell_type": "markdown",
   "metadata": {},
   "source": [
    "* `for` loop:"
   ]
  },
  {
   "cell_type": "code",
   "execution_count": 1,
   "metadata": {},
   "outputs": [
    {
     "name": "stdout",
     "output_type": "stream",
     "text": [
      "Basic for loop using to\n",
      "1\n",
      "2\n",
      "3\n",
      "4\n",
      "5\n",
      "Basic for loop using until\n",
      "1\n",
      "2\n",
      "3\n",
      "4\n",
      "for with multiple variables\n",
      "x: 1, y: 1\n",
      "x: 1, y: 2\n",
      "x: 2, y: 1\n",
      "x: 2, y: 2\n",
      "x: 3, y: 1\n",
      "x: 3, y: 2\n",
      "for with filtering (Guard)\n",
      "2\n",
      "4\n",
      "6\n",
      "8\n",
      "10\n",
      "for Comprehension\n",
      "Vector(2, 4, 6, 8, 10)\n"
     ]
    },
    {
     "data": {
      "text/plain": [
       "\u001b[36mdoubled\u001b[39m: \u001b[32mIndexedSeq\u001b[39m[\u001b[32mInt\u001b[39m] = \u001b[33mVector\u001b[39m(\u001b[32m2\u001b[39m, \u001b[32m4\u001b[39m, \u001b[32m6\u001b[39m, \u001b[32m8\u001b[39m, \u001b[32m10\u001b[39m)"
      ]
     },
     "execution_count": 1,
     "metadata": {},
     "output_type": "execute_result"
    }
   ],
   "source": [
    "// Basic for loop\n",
    "println(\"Basic for loop using to\")\n",
    "for (i <- 1 to 5) {\n",
    "  println(i)  // Prints numbers from 1 to 5\n",
    "}\n",
    "\n",
    "println(\"Basic for loop using until\")\n",
    "for (i <- 1 until 5) {\n",
    "  println(i)  // Prints numbers from 1 to 4\n",
    "}\n",
    "\n",
    "println(\"for with multiple variables\")\n",
    "for (x <- 1 to 3; y <- 1 to 2) {\n",
    "  println(s\"x: $x, y: $y\")\n",
    "}\n",
    "\n",
    "println(\"for with filtering (Guard)\")\n",
    "for (i <- 1 to 10 if i % 2 == 0) {\n",
    "  println(i)  // Prints only even numbers (2,4,6,8,10)\n",
    "}\n",
    "\n",
    "println(\"for Comprehension\") // The for comprehension is often used to create a new collection by transforming elements.\n",
    "val doubled = for (i <- 1 to 5) yield i * 2\n",
    "println(doubled)"
   ]
  },
  {
   "cell_type": "markdown",
   "metadata": {},
   "source": [
    "* `while` loop:"
   ]
  },
  {
   "cell_type": "code",
   "execution_count": 2,
   "metadata": {},
   "outputs": [
    {
     "name": "stdout",
     "output_type": "stream",
     "text": [
      "0\n",
      "1\n",
      "2\n",
      "3\n",
      "4\n"
     ]
    },
    {
     "data": {
      "text/html": [
       "<div class=\"jp-RenderedText\">\n",
       "<pre><code><span style=\"color: rgb(0, 187, 187)\"><span class=\"ansi-cyan-fg\">i</span></span>: <span style=\"color: rgb(0, 187, 0)\"><span class=\"ansi-green-fg\">Int</span></span> = <span style=\"color: rgb(0, 187, 0)\"><span class=\"ansi-green-fg\">5</span></span></code></pre>\n",
       "</div>"
      ],
      "text/plain": [
       "\u001b[36mi\u001b[39m: \u001b[32mInt\u001b[39m = \u001b[32m5\u001b[39m"
      ]
     },
     "metadata": {},
     "output_type": "display_data"
    }
   ],
   "source": [
    "var i = 0\n",
    "while (i < 5) {\n",
    "  println(i)\n",
    "  i += 1\n",
    "}"
   ]
  },
  {
   "cell_type": "markdown",
   "metadata": {},
   "source": [
    "* `do-while` loop: similar to while but ensures that the loop executes at least once, as the condition is checked after the first iteration."
   ]
  },
  {
   "cell_type": "code",
   "execution_count": 3,
   "metadata": {},
   "outputs": [
    {
     "name": "stdout",
     "output_type": "stream",
     "text": [
      "0\n",
      "1\n",
      "2\n",
      "3\n",
      "4\n"
     ]
    },
    {
     "data": {
      "text/html": [
       "<div class=\"jp-RenderedText\">\n",
       "<pre><code><span style=\"color: rgb(0, 187, 187)\"><span class=\"ansi-cyan-fg\">i</span></span>: <span style=\"color: rgb(0, 187, 0)\"><span class=\"ansi-green-fg\">Int</span></span> = <span style=\"color: rgb(0, 187, 0)\"><span class=\"ansi-green-fg\">5</span></span></code></pre>\n",
       "</div>"
      ],
      "text/plain": [
       "\u001b[36mi\u001b[39m: \u001b[32mInt\u001b[39m = \u001b[32m5\u001b[39m"
      ]
     },
     "metadata": {},
     "output_type": "display_data"
    }
   ],
   "source": [
    "var i = 0\n",
    "do {\n",
    "  println(i)\n",
    "  i += 1\n",
    "} while (i < 5)"
   ]
  }
 ],
 "metadata": {
  "kernelspec": {
   "display_name": "Scala",
   "language": "scala",
   "name": "scala"
  },
  "language_info": {
   "codemirror_mode": "text/x-scala",
   "file_extension": ".sc",
   "mimetype": "text/x-scala",
   "name": "scala",
   "nbconvert_exporter": "script",
   "version": "2.13.14"
  }
 },
 "nbformat": 4,
 "nbformat_minor": 2
}
