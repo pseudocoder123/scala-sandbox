{
 "cells": [
  {
   "cell_type": "markdown",
   "metadata": {},
   "source": [
    "## Multi Dimensional Arrays"
   ]
  },
  {
   "cell_type": "markdown",
   "metadata": {},
   "source": [
    "* Declaration and Initialization"
   ]
  },
  {
   "cell_type": "code",
   "execution_count": 1,
   "metadata": {},
   "outputs": [
    {
     "data": {
      "text/plain": [
       "\u001b[36mmatrix1\u001b[39m: \u001b[32mArray\u001b[39m[\u001b[32mArray\u001b[39m[\u001b[32mInt\u001b[39m]] = \u001b[33mArray\u001b[39m(\n",
       "  \u001b[33mArray\u001b[39m(\u001b[32m0\u001b[39m, \u001b[32m0\u001b[39m, \u001b[32m0\u001b[39m, \u001b[32m0\u001b[39m),\n",
       "  \u001b[33mArray\u001b[39m(\u001b[32m0\u001b[39m, \u001b[32m0\u001b[39m, \u001b[32m0\u001b[39m, \u001b[32m0\u001b[39m),\n",
       "  \u001b[33mArray\u001b[39m(\u001b[32m0\u001b[39m, \u001b[32m0\u001b[39m, \u001b[32m0\u001b[39m, \u001b[32m0\u001b[39m)\n",
       ")\n",
       "\u001b[36mmatrix2\u001b[39m: \u001b[32mArray\u001b[39m[\u001b[32mArray\u001b[39m[\u001b[32mInt\u001b[39m]] = \u001b[33mArray\u001b[39m(\n",
       "  \u001b[33mArray\u001b[39m(\u001b[32m-1\u001b[39m, \u001b[32m-1\u001b[39m, \u001b[32m-1\u001b[39m, \u001b[32m-1\u001b[39m),\n",
       "  \u001b[33mArray\u001b[39m(\u001b[32m-1\u001b[39m, \u001b[32m-1\u001b[39m, \u001b[32m-1\u001b[39m, \u001b[32m-1\u001b[39m),\n",
       "  \u001b[33mArray\u001b[39m(\u001b[32m-1\u001b[39m, \u001b[32m-1\u001b[39m, \u001b[32m-1\u001b[39m, \u001b[32m-1\u001b[39m)\n",
       ")\n",
       "\u001b[36mmatrix3\u001b[39m: \u001b[32mArray\u001b[39m[\u001b[32mArray\u001b[39m[\u001b[32mInt\u001b[39m]] = \u001b[33mArray\u001b[39m(\n",
       "  \u001b[33mArray\u001b[39m(\u001b[32m1\u001b[39m, \u001b[32m2\u001b[39m, \u001b[32m3\u001b[39m, \u001b[32m4\u001b[39m),\n",
       "  \u001b[33mArray\u001b[39m(\u001b[32m5\u001b[39m, \u001b[32m6\u001b[39m, \u001b[32m7\u001b[39m, \u001b[32m8\u001b[39m),\n",
       "  \u001b[33mArray\u001b[39m(\u001b[32m9\u001b[39m, \u001b[32m10\u001b[39m, \u001b[32m11\u001b[39m, \u001b[32m12\u001b[39m)\n",
       ")\n",
       "\u001b[36mcube\u001b[39m: \u001b[32mArray\u001b[39m[\u001b[32mArray\u001b[39m[\u001b[32mArray\u001b[39m[\u001b[32mInt\u001b[39m]]] = \u001b[33mArray\u001b[39m(\n",
       "  \u001b[33mArray\u001b[39m(\u001b[33mArray\u001b[39m(\u001b[32m0\u001b[39m, \u001b[32m0\u001b[39m, \u001b[32m0\u001b[39m, \u001b[32m0\u001b[39m), \u001b[33mArray\u001b[39m(\u001b[32m0\u001b[39m, \u001b[32m0\u001b[39m, \u001b[32m0\u001b[39m, \u001b[32m0\u001b[39m), \u001b[33mArray\u001b[39m(\u001b[32m0\u001b[39m, \u001b[32m0\u001b[39m, \u001b[32m0\u001b[39m, \u001b[32m0\u001b[39m)),\n",
       "  \u001b[33mArray\u001b[39m(\u001b[33mArray\u001b[39m(\u001b[32m0\u001b[39m, \u001b[32m0\u001b[39m, \u001b[32m0\u001b[39m, \u001b[32m0\u001b[39m), \u001b[33mArray\u001b[39m(\u001b[32m0\u001b[39m, \u001b[32m0\u001b[39m, \u001b[32m0\u001b[39m, \u001b[32m0\u001b[39m), \u001b[33mArray\u001b[39m(\u001b[32m0\u001b[39m, \u001b[32m0\u001b[39m, \u001b[32m0\u001b[39m, \u001b[32m0\u001b[39m))\n",
       ")\n",
       "\u001b[36mmultiDimArr\u001b[39m: \u001b[32mArray\u001b[39m[\u001b[32mArray\u001b[39m[\u001b[32mInt\u001b[39m]] = \u001b[33mArray\u001b[39m(\n",
       "  \u001b[33mArray\u001b[39m(\u001b[32m1\u001b[39m, \u001b[32m2\u001b[39m),\n",
       "  \u001b[33mArray\u001b[39m(\u001b[32m3\u001b[39m, \u001b[32m4\u001b[39m, \u001b[32m5\u001b[39m),\n",
       "  \u001b[33mArray\u001b[39m(\u001b[32m6\u001b[39m, \u001b[32m7\u001b[39m, \u001b[32m8\u001b[39m, \u001b[32m9\u001b[39m)\n",
       ")"
      ]
     },
     "execution_count": 1,
     "metadata": {},
     "output_type": "execute_result"
    }
   ],
   "source": [
    "val matrix1 = Array.ofDim[Int](3, 4)\n",
    "val matrix2 = Array.fill(3,4)(-1)\n",
    "val matrix3 = Array(\n",
    "  Array(1, 2, 3, 4),\n",
    "  Array(5, 6, 7, 8),\n",
    "  Array(9, 10, 11, 12)\n",
    ")\n",
    "val cube = Array.ofDim[Int](2, 3, 4)\n",
    "val multiDimArr = Array(\n",
    "  Array(1, 2),\n",
    "  Array(3, 4, 5),\n",
    "  Array(6, 7, 8, 9)\n",
    ")"
   ]
  },
  {
   "cell_type": "markdown",
   "metadata": {},
   "source": [
    "* Accessing and Modifying Elements:"
   ]
  },
  {
   "cell_type": "code",
   "execution_count": 2,
   "metadata": {},
   "outputs": [
    {
     "name": "stdout",
     "output_type": "stream",
     "text": [
      "5\n",
      "42\n"
     ]
    },
    {
     "data": {
      "text/plain": [
       "\u001b[36mmatrix\u001b[39m: \u001b[32mArray\u001b[39m[\u001b[32mArray\u001b[39m[\u001b[32mInt\u001b[39m]] = \u001b[33mArray\u001b[39m(\n",
       "  \u001b[33mArray\u001b[39m(\u001b[32m1\u001b[39m, \u001b[32m2\u001b[39m, \u001b[32m3\u001b[39m),\n",
       "  \u001b[33mArray\u001b[39m(\u001b[32m4\u001b[39m, \u001b[32m42\u001b[39m, \u001b[32m6\u001b[39m),\n",
       "  \u001b[33mArray\u001b[39m(\u001b[32m7\u001b[39m, \u001b[32m8\u001b[39m, \u001b[32m9\u001b[39m)\n",
       ")"
      ]
     },
     "execution_count": 2,
     "metadata": {},
     "output_type": "execute_result"
    }
   ],
   "source": [
    "val matrix: Array[Array[Int]] = Array(\n",
    "  Array(1, 2, 3),\n",
    "  Array(4, 5, 6),\n",
    "  Array(7, 8, 9)\n",
    ")\n",
    "\n",
    "println(matrix(1)(1)) // Accessing the element at the index 2\n",
    "matrix(1)(1) = 42 // Modified the element at the index 1\n",
    "println(matrix(1)(1))"
   ]
  },
  {
   "cell_type": "markdown",
   "metadata": {},
   "source": [
    "* Common Matrix Operations:"
   ]
  },
  {
   "cell_type": "code",
   "execution_count": 3,
   "metadata": {},
   "outputs": [
    {
     "name": "stdout",
     "output_type": "stream",
     "text": [
      "Iterating through elements using forloop:\n",
      "Element at (0,0): 1\n",
      "Element at (0,1): 2\n",
      "Element at (0,2): 3\n",
      "Element at (1,0): 4\n",
      "Element at (1,1): 5\n",
      "Element at (1,2): 6\n",
      "Element at (2,0): 7\n",
      "Element at (2,1): 8\n",
      "Element at (2,2): 9\n",
      "Iterating through elements using foreach():\n",
      "Element at (0,0): 1\n",
      "Element at (0,1): 2\n",
      "Element at (0,2): 3\n",
      "Element at (1,0): 4\n",
      "Element at (1,1): 5\n",
      "Element at (1,2): 6\n",
      "Element at (2,0): 7\n",
      "Element at (2,1): 8\n",
      "Element at (2,2): 9\n"
     ]
    },
    {
     "data": {
      "text/plain": [
       "\u001b[36mmatrix\u001b[39m: \u001b[32mArray\u001b[39m[\u001b[32mArray\u001b[39m[\u001b[32mInt\u001b[39m]] = \u001b[33mArray\u001b[39m(\n",
       "  \u001b[33mArray\u001b[39m(\u001b[32m1\u001b[39m, \u001b[32m2\u001b[39m, \u001b[32m3\u001b[39m),\n",
       "  \u001b[33mArray\u001b[39m(\u001b[32m4\u001b[39m, \u001b[32m5\u001b[39m, \u001b[32m6\u001b[39m),\n",
       "  \u001b[33mArray\u001b[39m(\u001b[32m7\u001b[39m, \u001b[32m8\u001b[39m, \u001b[32m9\u001b[39m)\n",
       ")"
      ]
     },
     "execution_count": 3,
     "metadata": {},
     "output_type": "execute_result"
    }
   ],
   "source": [
    "val matrix: Array[Array[Int]] = Array(\n",
    "  Array(1, 2, 3),\n",
    "  Array(4, 5, 6),\n",
    "  Array(7, 8, 9)\n",
    ")\n",
    "\n",
    "println(\"Iterating through elements using forloop:\")\n",
    "for {\n",
    "  i <- matrix.indices\n",
    "  j <- matrix(i).indices\n",
    "} println(s\"Element at ($i,$j): ${matrix(i)(j)}\")\n",
    "\n",
    "println(\"Iterating through elements using foreach():\")\n",
    "matrix.zipWithIndex.foreach { case (row, i) =>\n",
    "  row.zipWithIndex.foreach { case (element, j) =>\n",
    "    println(s\"Element at ($i,$j): $element\")\n",
    "  }\n",
    "}"
   ]
  },
  {
   "cell_type": "markdown",
   "metadata": {},
   "source": [
    "* Common Matrix Methods:"
   ]
  },
  {
   "cell_type": "code",
   "execution_count": 4,
   "metadata": {},
   "outputs": [
    {
     "data": {
      "text/plain": [
       "\u001b[36mmatrix\u001b[39m: \u001b[32mArray\u001b[39m[\u001b[32mArray\u001b[39m[\u001b[32mInt\u001b[39m]] = \u001b[33mArray\u001b[39m(\n",
       "  \u001b[33mArray\u001b[39m(\u001b[32m1\u001b[39m, \u001b[32m2\u001b[39m, \u001b[32m3\u001b[39m),\n",
       "  \u001b[33mArray\u001b[39m(\u001b[32m4\u001b[39m, \u001b[32m5\u001b[39m, \u001b[32m6\u001b[39m),\n",
       "  \u001b[33mArray\u001b[39m(\u001b[32m7\u001b[39m, \u001b[32m8\u001b[39m, \u001b[32m9\u001b[39m)\n",
       ")\n",
       "\u001b[36mtransposed\u001b[39m: \u001b[32mArray\u001b[39m[\u001b[32mArray\u001b[39m[\u001b[32mInt\u001b[39m]] = \u001b[33mArray\u001b[39m(\n",
       "  \u001b[33mArray\u001b[39m(\u001b[32m1\u001b[39m, \u001b[32m4\u001b[39m, \u001b[32m7\u001b[39m),\n",
       "  \u001b[33mArray\u001b[39m(\u001b[32m2\u001b[39m, \u001b[32m5\u001b[39m, \u001b[32m8\u001b[39m),\n",
       "  \u001b[33mArray\u001b[39m(\u001b[32m3\u001b[39m, \u001b[32m6\u001b[39m, \u001b[32m9\u001b[39m)\n",
       ")\n",
       "\u001b[36msquaredMatrix\u001b[39m: \u001b[32mArray\u001b[39m[\u001b[32mArray\u001b[39m[\u001b[32mInt\u001b[39m]] = \u001b[33mArray\u001b[39m(\n",
       "  \u001b[33mArray\u001b[39m(\u001b[32m1\u001b[39m, \u001b[32m4\u001b[39m, \u001b[32m9\u001b[39m),\n",
       "  \u001b[33mArray\u001b[39m(\u001b[32m16\u001b[39m, \u001b[32m25\u001b[39m, \u001b[32m36\u001b[39m),\n",
       "  \u001b[33mArray\u001b[39m(\u001b[32m49\u001b[39m, \u001b[32m64\u001b[39m, \u001b[32m81\u001b[39m)\n",
       ")"
      ]
     },
     "execution_count": 4,
     "metadata": {},
     "output_type": "execute_result"
    }
   ],
   "source": [
    "val matrix: Array[Array[Int]] = Array(\n",
    "  Array(1, 2, 3),\n",
    "  Array(4, 5, 6),\n",
    "  Array(7, 8, 9)\n",
    ")\n",
    "\n",
    "// Transposing a 2D array\n",
    "val transposed = matrix.transpose\n",
    "\n",
    "// Mapping each element to its square\n",
    "val squaredMatrix = matrix.map(row => row.map(x => x * x))"
   ]
  }
 ],
 "metadata": {
  "kernelspec": {
   "display_name": "Scala",
   "language": "scala",
   "name": "scala"
  },
  "language_info": {
   "codemirror_mode": "text/x-scala",
   "file_extension": ".sc",
   "mimetype": "text/x-scala",
   "name": "scala",
   "nbconvert_exporter": "script",
   "version": "2.13.14"
  }
 },
 "nbformat": 4,
 "nbformat_minor": 2
}
