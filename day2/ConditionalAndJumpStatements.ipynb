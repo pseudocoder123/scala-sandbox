{
 "cells": [
  {
   "cell_type": "markdown",
   "metadata": {},
   "source": [
    "## Conditional and Jump Statements"
   ]
  },
  {
   "cell_type": "markdown",
   "metadata": {},
   "source": [
    "### Conditional statements\n",
    "Selection Statements: if, if-else, match<br/>\n",
    "Short-Circuiting: Using && and || to control the flow by stopping evaluation when a condition is met<br/>\n",
    "Exception Handling: try-catch for managing unexpected or error conditions"
   ]
  },
  {
   "cell_type": "markdown",
   "metadata": {},
   "source": [
    "* `if` statement"
   ]
  },
  {
   "cell_type": "code",
   "execution_count": 1,
   "metadata": {},
   "outputs": [
    {
     "name": "stdout",
     "output_type": "stream",
     "text": [
      "You are an adult.\n"
     ]
    },
    {
     "data": {
      "text/plain": [
       "\u001b[36mage\u001b[39m: \u001b[32mInt\u001b[39m = \u001b[32m20\u001b[39m"
      ]
     },
     "execution_count": 1,
     "metadata": {},
     "output_type": "execute_result"
    }
   ],
   "source": [
    "val age = 20\n",
    "if (age >= 18) {\n",
    "  println(\"You are an adult.\")\n",
    "}"
   ]
  },
  {
   "cell_type": "markdown",
   "metadata": {},
   "source": [
    "* `if-else` statements"
   ]
  },
  {
   "cell_type": "code",
   "execution_count": 2,
   "metadata": {},
   "outputs": [
    {
     "name": "stdout",
     "output_type": "stream",
     "text": [
      "Ready to vote...\n"
     ]
    },
    {
     "data": {
      "text/plain": [
       "\u001b[36mage\u001b[39m: \u001b[32mInt\u001b[39m = \u001b[32m18\u001b[39m"
      ]
     },
     "execution_count": 2,
     "metadata": {},
     "output_type": "execute_result"
    }
   ],
   "source": [
    "val age = 18\n",
    "if(age >= 18){\n",
    "    println(\"Ready to vote...\")\n",
    "}\n",
    "else{\n",
    "    println(\"Minor\")\n",
    "}"
   ]
  },
  {
   "cell_type": "markdown",
   "metadata": {},
   "source": [
    "* `if-else-if-else` statements"
   ]
  },
  {
   "cell_type": "code",
   "execution_count": 3,
   "metadata": {},
   "outputs": [
    {
     "name": "stdout",
     "output_type": "stream",
     "text": [
      "Grade: A\n"
     ]
    },
    {
     "data": {
      "text/plain": [
       "\u001b[36mscore\u001b[39m: \u001b[32mInt\u001b[39m = \u001b[32m95\u001b[39m"
      ]
     },
     "execution_count": 3,
     "metadata": {},
     "output_type": "execute_result"
    }
   ],
   "source": [
    "// Basic if/ else-if/ else ladder\n",
    "val score = 95\n",
    "if(score >= 80){\n",
    "    println(\"Grade: A\")\n",
    "}\n",
    "else if(score >= 50){\n",
    "    println(\"Grade: B\")\n",
    "}\n",
    "else{\n",
    "    println(\"Grade: C\")\n",
    "}"
   ]
  },
  {
   "cell_type": "markdown",
   "metadata": {},
   "source": [
    "These statements are expressions in Scala, meaning they return a value and can be assigned to a variable."
   ]
  },
  {
   "cell_type": "code",
   "execution_count": 4,
   "metadata": {},
   "outputs": [
    {
     "name": "stdout",
     "output_type": "stream",
     "text": [
      "Grade: A\n",
      "Passed\n",
      "Passed\n"
     ]
    },
    {
     "data": {
      "text/plain": [
       "\u001b[36mscore\u001b[39m: \u001b[32mInt\u001b[39m = \u001b[32m95\u001b[39m\n",
       "\u001b[36mresult\u001b[39m: \u001b[32mString\u001b[39m = \u001b[32m\"Grade: A\"\u001b[39m\n",
       "\u001b[36mgrade\u001b[39m: \u001b[32mChar\u001b[39m = \u001b[32m'P'\u001b[39m\n",
       "\u001b[36mgradeReview\u001b[39m: \u001b[32mString\u001b[39m = \u001b[32m\"Passed\"\u001b[39m"
      ]
     },
     "execution_count": 4,
     "metadata": {},
     "output_type": "execute_result"
    }
   ],
   "source": [
    "val score = 95\n",
    "val result = if(score>=80) \"Grade: A\" else if(score>=50) \"Grade: B\" else \"Grade: C\"\n",
    "println(result)\n",
    "\n",
    "// Scala doesn't have ternary operators(?:). As these statements are expressions, they behave like ternary operators\n",
    "val grade = 'P'\n",
    "val gradeReview = if(grade == 'P') \"Passed\" else \"Failed\"\n",
    "println(gradeReview)\n",
    "println(if(grade == 'P') \"Passed\" else \"Failed\") // Inline"
   ]
  },
  {
   "cell_type": "markdown",
   "metadata": {},
   "source": [
    "* `match` statements: Similar to `switch` statements in Java. These statements are also expressions(return a value)"
   ]
  },
  {
   "cell_type": "code",
   "execution_count": 5,
   "metadata": {},
   "outputs": [
    {
     "name": "stdout",
     "output_type": "stream",
     "text": [
      "Wednesday\n"
     ]
    },
    {
     "data": {
      "text/plain": [
       "\u001b[36mday\u001b[39m: \u001b[32mInt\u001b[39m = \u001b[32m3\u001b[39m\n",
       "\u001b[36mdayName\u001b[39m: \u001b[32mString\u001b[39m = \u001b[32m\"Wednesday\"\u001b[39m"
      ]
     },
     "execution_count": 5,
     "metadata": {},
     "output_type": "execute_result"
    }
   ],
   "source": [
    "// Basic pattern matching\n",
    "val day = 3\n",
    "val dayName = day match {\n",
    "    case 1 => \"Monday\"\n",
    "    case 2 => \"Tuesday\"\n",
    "    case 3 => \"Wednesday\"\n",
    "    case 4 => \"Thursday\"\n",
    "    case 5 => \"Friday\"\n",
    "    case 6 => \"Saturday\"\n",
    "    case 7 => \"Sunday\"\n",
    "    case _ => \"Invalid day\" // default case\n",
    "}\n",
    "println(dayName)"
   ]
  },
  {
   "cell_type": "markdown",
   "metadata": {},
   "source": [
    "Scala’s `match` expression also allows guards to add extra conditions to case statements. Additionally, pattern matching with types is also possible."
   ]
  },
  {
   "cell_type": "code",
   "execution_count": 6,
   "metadata": {},
   "outputs": [
    {
     "name": "stdout",
     "output_type": "stream",
     "text": [
      "Positive Even\n",
      "String: Scala\n"
     ]
    },
    {
     "data": {
      "text/plain": [
       "\u001b[36mnum\u001b[39m: \u001b[32mInt\u001b[39m = \u001b[32m36\u001b[39m\n",
       "\u001b[36mnumDesc\u001b[39m: \u001b[32mString\u001b[39m = \u001b[32m\"Positive Even\"\u001b[39m\n",
       "\u001b[36minput\u001b[39m: \u001b[32mAny\u001b[39m = \u001b[32m\"Scala\"\u001b[39m\n",
       "\u001b[36mresult\u001b[39m: \u001b[32mString\u001b[39m = \u001b[32m\"String: Scala\"\u001b[39m"
      ]
     },
     "execution_count": 6,
     "metadata": {},
     "output_type": "execute_result"
    }
   ],
   "source": [
    "// Pattern matching with guards\n",
    "val num = 36\n",
    "val numDesc = num match {\n",
    "    case n if n < 0 => \"Negative number\"\n",
    "    case n if n == 0 => \"Zero\"\n",
    "    case n if n%2 == 0 => \"Positive Even\"\n",
    "    case _ => \"Positive Odd\"\n",
    "}\n",
    "println(numDesc)\n",
    "\n",
    "// Pattern matching with types\n",
    "val input: Any = \"Scala\"\n",
    "val result = input match {\n",
    "    case i: Int => s\"Integer: ${input}\"\n",
    "    case s: String => s\"String: ${input}\"\n",
    "    case b: Boolean => s\"Boolean: $input\"\n",
    "    case _ => \"Other type\"\n",
    "}\n",
    "println(result)"
   ]
  },
  {
   "cell_type": "markdown",
   "metadata": {},
   "source": [
    "* Using `&&` and `||` to control the flow"
   ]
  },
  {
   "cell_type": "code",
   "execution_count": 7,
   "metadata": {},
   "outputs": [
    {
     "name": "stdout",
     "output_type": "stream",
     "text": [
      "Not allowed to drive.\n"
     ]
    },
    {
     "data": {
      "text/plain": [
       "\u001b[36misAdult\u001b[39m: \u001b[32mBoolean\u001b[39m = \u001b[32mtrue\u001b[39m\n",
       "\u001b[36mhasLicense\u001b[39m: \u001b[32mBoolean\u001b[39m = \u001b[32mfalse\u001b[39m"
      ]
     },
     "execution_count": 7,
     "metadata": {},
     "output_type": "execute_result"
    }
   ],
   "source": [
    "val isAdult = true\n",
    "val hasLicense = false\n",
    "\n",
    "if (isAdult && hasLicense) {\n",
    "  println(\"Allowed to drive.\")\n",
    "} else {\n",
    "  println(\"Not allowed to drive.\")\n",
    "}"
   ]
  },
  {
   "cell_type": "markdown",
   "metadata": {},
   "source": [
    "* `try-catch`:"
   ]
  },
  {
   "cell_type": "code",
   "execution_count": 8,
   "metadata": {},
   "outputs": [
    {
     "name": "stdout",
     "output_type": "stream",
     "text": [
      "Division by zero!\n",
      "This is always executed\n"
     ]
    }
   ],
   "source": [
    "val result = try {\n",
    "  val result = 10 / 0\n",
    "} catch {\n",
    "  case e: ArithmeticException => println(\"Division by zero!\")\n",
    "  case e: Exception => println(\"Some other error occurred\")\n",
    "} finally {\n",
    "  println(\"This is always executed\")\n",
    "}"
   ]
  },
  {
   "cell_type": "markdown",
   "metadata": {},
   "source": [
    "### Jump Statements"
   ]
  },
  {
   "cell_type": "markdown",
   "metadata": {},
   "source": [
    "Scala discourages the use of explicit jump statements for control flow, promoting a functional style instead. However, there a ways to resemble traditional jumps"
   ]
  },
  {
   "cell_type": "markdown",
   "metadata": {},
   "source": [
    "* `return` statement: Scala doesn’t require an explicit return if the last line of the function is the expression to be returned\n",
    "* `break` and `continue`: Scala does not have built-in `break` or `continue` statements. Instead, you can achieve similar functionality using the `scala.util.control.Breaks` object. Need to import `scala.util.control.Breaks._` and use `breakable` and `break`."
   ]
  },
  {
   "cell_type": "code",
   "execution_count": 9,
   "metadata": {},
   "outputs": [
    {
     "name": "stderr",
     "output_type": "stream",
     "text": [
      "cmd9.sc:7: Auto-application to `()` is deprecated. Supply the empty argument list `()` explicitly to invoke method break,\n",
      "or remove the empty argument list from its definition (Java-defined methods are exempt).\n",
      "In Scala 3, an unapplied method like this will be eta-expanded into a function. [quickfixable]\n",
      "    if (i == 5) break  // Exits the loop when i equals 5\n",
      "                ^\n",
      "cmd9.sc:16: Auto-application to `()` is deprecated. Supply the empty argument list `()` explicitly to invoke method break,\n",
      "or remove the empty argument list from its definition (Java-defined methods are exempt).\n",
      "In Scala 3, an unapplied method like this will be eta-expanded into a function. [quickfixable]\n",
      "    if (i == 3) break  // Skips iteration when i equals 3\n",
      "                ^\n"
     ]
    },
    {
     "name": "stdout",
     "output_type": "stream",
     "text": [
      "Simulating `break`....\n",
      "1\n",
      "2\n",
      "3\n",
      "4\n",
      "Simulating `continue`....\n",
      "1\n",
      "2\n",
      "4\n",
      "5\n"
     ]
    },
    {
     "data": {
      "text/plain": [
       "\u001b[32mimport \u001b[39m\u001b[36mscala.util.control.Breaks._\u001b[39m"
      ]
     },
     "execution_count": 9,
     "metadata": {},
     "output_type": "execute_result"
    }
   ],
   "source": [
    "import scala.util.control.Breaks._\n",
    "\n",
    "// Using break\n",
    "println(\"Simulating `break`....\")\n",
    "breakable {\n",
    "  for (i <- 1 to 10) {\n",
    "    if (i == 5) break  // Exits the loop when i equals 5\n",
    "    println(i)\n",
    "  }\n",
    "}\n",
    "\n",
    "// Simulating continue using nested breakable\n",
    "println(\"Simulating `continue`....\")\n",
    "for (i <- 1 to 5) {\n",
    "  breakable {\n",
    "    if (i == 3) break  // Skips iteration when i equals 3\n",
    "    println(i)\n",
    "  }\n",
    "}"
   ]
  }
 ],
 "metadata": {
  "kernelspec": {
   "display_name": "Scala",
   "language": "scala",
   "name": "scala"
  },
  "language_info": {
   "codemirror_mode": "text/x-scala",
   "file_extension": ".sc",
   "mimetype": "text/x-scala",
   "name": "scala",
   "nbconvert_exporter": "script",
   "version": "2.13.14"
  }
 },
 "nbformat": 4,
 "nbformat_minor": 2
}
