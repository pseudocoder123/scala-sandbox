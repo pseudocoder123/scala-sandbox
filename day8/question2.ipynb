{
 "cells": [
  {
   "cell_type": "markdown",
   "metadata": {},
   "source": [
    "/*\n",
    "trait Task --->  doTask (implemented method) <br/>\n",
    "trait Cook  extends Task --> doTask (override) <br/>\n",
    "trait Garnish extends Cook --> doTask (overide) <br/>\n",
    "trait Pack extends Garnish --> doTask (overide) <br/>\n",
    "class Activity extends Task---> doActivity ---> Call for doTask <br/>\n",
    "\n",
    "\n",
    "create object in main method  <br/>\n",
    "\n",
    "val:Task = new Activity with Cook with Garnish with Pack <br/>\n",
    "\n",
    "observe the behavior <br/>\n",
    "\n",
    "observe the behavior by changing the order of inheritance <br/>\n",
    "*/"
   ]
  },
  {
   "cell_type": "code",
   "execution_count": 1,
   "metadata": {},
   "outputs": [
    {
     "data": {
      "text/plain": [
       "defined \u001b[32mtrait\u001b[39m \u001b[36mTask\u001b[39m"
      ]
     },
     "execution_count": 1,
     "metadata": {},
     "output_type": "execute_result"
    }
   ],
   "source": [
    "trait Task {\n",
    "    def doTask(): Unit = {\n",
    "        println(\"doTask from Task\")\n",
    "    }\n",
    "}"
   ]
  },
  {
   "cell_type": "code",
   "execution_count": 2,
   "metadata": {},
   "outputs": [
    {
     "data": {
      "text/plain": [
       "defined \u001b[32mtrait\u001b[39m \u001b[36mCook1\u001b[39m\n",
       "defined \u001b[32mtrait\u001b[39m \u001b[36mGarnish1\u001b[39m\n",
       "defined \u001b[32mtrait\u001b[39m \u001b[36mPack1\u001b[39m"
      ]
     },
     "execution_count": 2,
     "metadata": {},
     "output_type": "execute_result"
    }
   ],
   "source": [
    "trait Cook1 extends Task {\n",
    "    override def doTask(): Unit = {\n",
    "        super.doTask()\n",
    "        println(\"doTask from Cook\")\n",
    "    }\n",
    "}\n",
    "\n",
    "trait Garnish1 extends Cook1 {\n",
    "    override def doTask(): Unit = {\n",
    "        super.doTask()\n",
    "        println(\"doTask from Garnish\")\n",
    "    }\n",
    "}\n",
    "\n",
    "trait Pack1 extends Garnish1 {\n",
    "    override def doTask(): Unit = {\n",
    "        super.doTask()\n",
    "        println(\"doTask from Pack\")\n",
    "    }\n",
    "}"
   ]
  },
  {
   "cell_type": "code",
   "execution_count": 3,
   "metadata": {},
   "outputs": [
    {
     "data": {
      "text/plain": [
       "defined \u001b[32mtrait\u001b[39m \u001b[36mCook2\u001b[39m\n",
       "defined \u001b[32mtrait\u001b[39m \u001b[36mGarnish2\u001b[39m\n",
       "defined \u001b[32mtrait\u001b[39m \u001b[36mPack2\u001b[39m"
      ]
     },
     "execution_count": 3,
     "metadata": {},
     "output_type": "execute_result"
    }
   ],
   "source": [
    "trait Cook2 extends Task {\n",
    "    override def doTask(): Unit = {\n",
    "        super.doTask()\n",
    "        println(\"doTask from Cook\")\n",
    "    }\n",
    "}\n",
    "\n",
    "trait Garnish2 extends Task {\n",
    "    override def doTask(): Unit = {\n",
    "        super.doTask()\n",
    "        println(\"doTask from Garnish\")\n",
    "    }\n",
    "}\n",
    "\n",
    "trait Pack2 extends Task {\n",
    "    override def doTask(): Unit = {\n",
    "        super.doTask()\n",
    "        println(\"doTask from Pack\")\n",
    "    }\n",
    "}"
   ]
  },
  {
   "cell_type": "code",
   "execution_count": 4,
   "metadata": {},
   "outputs": [
    {
     "data": {
      "text/plain": [
       "defined \u001b[32mclass\u001b[39m \u001b[36mActivity\u001b[39m"
      ]
     },
     "execution_count": 4,
     "metadata": {},
     "output_type": "execute_result"
    }
   ],
   "source": [
    "class Activity extends Task {\n",
    "    def doActivity(): Unit = {\n",
    "        println(\"Activity started\")\n",
    "        doTask()\n",
    "    }\n",
    "}"
   ]
  },
  {
   "cell_type": "code",
   "execution_count": 5,
   "metadata": {},
   "outputs": [
    {
     "name": "stdout",
     "output_type": "stream",
     "text": [
      "Task1: \n",
      "doTask from Task\n",
      "doTask from Cook\n",
      "doTask from Garnish\n",
      "doTask from Pack\n",
      "Task2: \n",
      "doTask from Task\n",
      "doTask from Cook\n",
      "doTask from Garnish\n",
      "doTask from Pack\n"
     ]
    },
    {
     "data": {
      "text/plain": [
       "\u001b[36mtask1\u001b[39m: \u001b[32mTask\u001b[39m = ammonite.$sess.cmd5$Helper$$anon$1@2a7ef273\n",
       "\u001b[36mtask2\u001b[39m: \u001b[32mTask\u001b[39m = ammonite.$sess.cmd5$Helper$$anon$2@106b9e95"
      ]
     },
     "execution_count": 5,
     "metadata": {},
     "output_type": "execute_result"
    }
   ],
   "source": [
    "val task1: Task = new Activity with Cook1 with Garnish1 with Pack1\n",
    "val task2: Task = new Activity with Garnish1 with Pack1 with Cook1\n",
    "\n",
    "println(\"Task1: \")\n",
    "task1.doTask()\n",
    "\n",
    "println(\"Task2: \")\n",
    "task2.doTask()"
   ]
  },
  {
   "cell_type": "code",
   "execution_count": 7,
   "metadata": {},
   "outputs": [
    {
     "name": "stdout",
     "output_type": "stream",
     "text": [
      "Task3: \n",
      "doTask from Task\n",
      "doTask from Cook\n",
      "doTask from Garnish\n",
      "doTask from Pack\n",
      "Task4: \n",
      "doTask from Task\n",
      "doTask from Garnish\n",
      "doTask from Pack\n",
      "doTask from Cook\n"
     ]
    },
    {
     "data": {
      "text/plain": [
       "\u001b[36mtask3\u001b[39m: \u001b[32mTask\u001b[39m = ammonite.$sess.cmd7$Helper$$anon$1@2c743159\n",
       "\u001b[36mtask4\u001b[39m: \u001b[32mTask\u001b[39m = ammonite.$sess.cmd7$Helper$$anon$2@69444d7f"
      ]
     },
     "execution_count": 7,
     "metadata": {},
     "output_type": "execute_result"
    }
   ],
   "source": [
    "val task3: Task = new Activity with Cook2 with Garnish2 with Pack2\n",
    "val task4: Task = new Activity with Garnish2 with Pack2 with Cook2\n",
    "\n",
    "println(\"Task3: \")\n",
    "task3.doTask()\n",
    "\n",
    "println(\"Task4: \")\n",
    "task4.doTask()"
   ]
  }
 ],
 "metadata": {
  "kernelspec": {
   "display_name": "Scala",
   "language": "scala",
   "name": "scala"
  },
  "language_info": {
   "codemirror_mode": "text/x-scala",
   "file_extension": ".sc",
   "mimetype": "text/x-scala",
   "name": "scala",
   "nbconvert_exporter": "script",
   "version": "2.13.14"
  }
 },
 "nbformat": 4,
 "nbformat_minor": 2
}
