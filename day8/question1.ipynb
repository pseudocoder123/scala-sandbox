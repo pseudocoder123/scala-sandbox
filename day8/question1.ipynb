{
 "cells": [
  {
   "cell_type": "markdown",
   "metadata": {},
   "source": [
    "/*<br/>\n",
    "Implement Muliple inhertance with traits<br/>\n",
    "   \n",
    "Trait GetStarted --> has implemented method prepare(also check if it is abstract)<br/>\n",
    "Trait Cook extends GetStarted --> has implemented method prepare (super.prepare call must be there)<br/>\n",
    "Trait Seasoning ---> has implemented method applySeasoning<br/>\n",
    "Class Food extends Cook with Seasoning --> Has implemented method prepareFood<br/>\n",
    "          that calls prepare and Seasoning<br/>\n",
    "\n",
    "          the order of execution must be\n",
    "\n",
    "          GetStarted prepare\n",
    "          Cook prepare\n",
    "          Seasoning applySeasoning\n",
    "          \n",
    "Check whether there is need of abstract override and comment why in the submisstion <br/>\n",
    "*/\n",
    "<br/>\n",
    "\n",
    "// Here, we define a trait which implements the abstract method called prepare(). <br/>\n",
    "// This will then be mixed into the super.prepare() call (abstract override) function <br/>\n"
   ]
  },
  {
   "cell_type": "code",
   "execution_count": 1,
   "metadata": {},
   "outputs": [
    {
     "data": {
      "text/plain": [
       "defined \u001b[32mtrait\u001b[39m \u001b[36mGetStarted\u001b[39m\n",
       "defined \u001b[32mtrait\u001b[39m \u001b[36mCook\u001b[39m\n",
       "defined \u001b[32mtrait\u001b[39m \u001b[36mSeasoning\u001b[39m"
      ]
     },
     "execution_count": 1,
     "metadata": {},
     "output_type": "execute_result"
    }
   ],
   "source": [
    "trait GetStarted {\n",
    "    def prepare(): Unit\n",
    "}\n",
    "\n",
    "trait Cook extends GetStarted {\n",
    "    abstract override def prepare(): Unit = {\n",
    "        super.prepare() // This trait will be mixed into a concrete class that provides the actual implementation\n",
    "        println(\"prepare from Cook\")\n",
    "    }\n",
    "}\n",
    "\n",
    "trait Seasoning {\n",
    "    def seasoning(): Unit = {\n",
    "        println(\"seasoning from Seasoning\") \n",
    "    }\n",
    "}"
   ]
  },
  {
   "cell_type": "code",
   "execution_count": 2,
   "metadata": {},
   "outputs": [
    {
     "data": {
      "text/plain": [
       "defined \u001b[32mtrait\u001b[39m \u001b[36mKeepIngredients\u001b[39m"
      ]
     },
     "execution_count": 2,
     "metadata": {},
     "output_type": "execute_result"
    }
   ],
   "source": [
    "trait KeepIngredients extends GetStarted {\n",
    "    override def prepare(): Unit = {\n",
    "        println(\"prepare from KeepIngredients(GetStarted)\")\n",
    "    }\n",
    "}"
   ]
  },
  {
   "cell_type": "code",
   "execution_count": 3,
   "metadata": {},
   "outputs": [
    {
     "data": {
      "text/plain": [
       "defined \u001b[32mclass\u001b[39m \u001b[36mFood\u001b[39m"
      ]
     },
     "execution_count": 3,
     "metadata": {},
     "output_type": "execute_result"
    }
   ],
   "source": [
    "class Food extends KeepIngredients with Cook with Seasoning {\n",
    "    def prepareFood(): Unit = {\n",
    "        prepare()\n",
    "        seasoning()\n",
    "    }\n",
    "}"
   ]
  },
  {
   "cell_type": "code",
   "execution_count": 4,
   "metadata": {},
   "outputs": [
    {
     "name": "stdout",
     "output_type": "stream",
     "text": [
      "prepare from KeepIngredients(GetStarted)\n",
      "prepare from Cook\n",
      "seasoning from Seasoning\n"
     ]
    },
    {
     "data": {
      "text/plain": [
       "\u001b[36mobj\u001b[39m: \u001b[32mFood\u001b[39m = ammonite.$sess.cmd3$Helper$Food@4ed59910"
      ]
     },
     "execution_count": 4,
     "metadata": {},
     "output_type": "execute_result"
    }
   ],
   "source": [
    "val obj: Food = new Food()\n",
    "obj.prepareFood()"
   ]
  }
 ],
 "metadata": {
  "kernelspec": {
   "display_name": "Scala",
   "language": "scala",
   "name": "scala"
  },
  "language_info": {
   "codemirror_mode": "text/x-scala",
   "file_extension": ".sc",
   "mimetype": "text/x-scala",
   "name": "scala",
   "nbconvert_exporter": "script",
   "version": "2.13.14"
  }
 },
 "nbformat": 4,
 "nbformat_minor": 2
}
